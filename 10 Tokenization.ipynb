{
 "cells": [
  {
   "cell_type": "code",
   "execution_count": 1,
   "id": "e2b1f4d0-4399-4f03-992c-293c90eb0def",
   "metadata": {},
   "outputs": [
    {
     "name": "stdout",
     "output_type": "stream",
     "text": [
      "Defaulting to user installation because normal site-packages is not writeable\n",
      "Requirement already satisfied: nltk in /home/mitu/.local/lib/python3.10/site-packages (3.9.1)\n",
      "Requirement already satisfied: click in /home/mitu/.local/lib/python3.10/site-packages (from nltk) (8.1.7)\n",
      "Requirement already satisfied: joblib in /usr/local/lib/python3.10/dist-packages (from nltk) (1.3.2)\n",
      "Requirement already satisfied: regex>=2021.8.3 in /home/mitu/.local/lib/python3.10/site-packages (from nltk) (2023.12.25)\n",
      "Requirement already satisfied: tqdm in /home/mitu/.local/lib/python3.10/site-packages (from nltk) (4.67.1)\n",
      "Note: you may need to restart the kernel to use updated packages.\n"
     ]
    }
   ],
   "source": [
    "pip install nltk"
   ]
  },
  {
   "cell_type": "code",
   "execution_count": 1,
   "id": "c28ebcac-177a-41e8-a142-1eeea096c79b",
   "metadata": {},
   "outputs": [],
   "source": [
    "import nltk"
   ]
  },
  {
   "cell_type": "code",
   "execution_count": 2,
   "id": "c2ef0abd-33f3-4a7b-90ee-8d5869861669",
   "metadata": {},
   "outputs": [
    {
     "name": "stderr",
     "output_type": "stream",
     "text": [
      "[nltk_data] Downloading package punkt to /home/mitu/nltk_data...\n",
      "[nltk_data]   Package punkt is already up-to-date!\n",
      "[nltk_data] Downloading package punkt_tab to /home/mitu/nltk_data...\n",
      "[nltk_data]   Package punkt_tab is already up-to-date!\n",
      "[nltk_data] Downloading package averaged_perceptron_tagger to\n",
      "[nltk_data]     /home/mitu/nltk_data...\n",
      "[nltk_data]   Package averaged_perceptron_tagger is already up-to-\n",
      "[nltk_data]       date!\n",
      "[nltk_data] Downloading package stopwords to /home/mitu/nltk_data...\n",
      "[nltk_data]   Unzipping corpora/stopwords.zip.\n",
      "[nltk_data] Downloading package wordnet to /home/mitu/nltk_data...\n",
      "[nltk_data]   Package wordnet is already up-to-date!\n",
      "[nltk_data] Downloading package indian to /home/mitu/nltk_data...\n",
      "[nltk_data]   Package indian is already up-to-date!\n",
      "[nltk_data] Downloading package omw-1.4 to /home/mitu/nltk_data...\n",
      "[nltk_data]   Package omw-1.4 is already up-to-date!\n"
     ]
    },
    {
     "data": {
      "text/plain": [
       "True"
      ]
     },
     "execution_count": 2,
     "metadata": {},
     "output_type": "execute_result"
    }
   ],
   "source": [
    "nltk.download('punkt')                           # Tokenization\n",
    "nltk.download('punkt_tab')                       # Tokenization\n",
    "nltk.download('averaged_perceptron_tagger')      # POS Tagging\n",
    "nltk.download('stopwords')                       # Stopword Removal\n",
    "nltk.download('wordnet')                         # Dictionary of English / Lemmatization\n",
    "nltk.download('indian')                          # POS Tagging for Indian Languages \n",
    "nltk.download('omw-1.4')                         # Lemmatization "
   ]
  },
  {
   "cell_type": "code",
   "execution_count": 3,
   "id": "b07546f6-6632-4bd9-b199-33159733e7f4",
   "metadata": {},
   "outputs": [],
   "source": [
    "sent = 'They told that their ages are 23, 25 and 29 respectively.'"
   ]
  },
  {
   "cell_type": "code",
   "execution_count": 4,
   "id": "06ddbf1f-8055-4feb-ada3-766633c20d20",
   "metadata": {},
   "outputs": [],
   "source": [
    "# Problem: Find the average of ages mentioned in the sentence."
   ]
  },
  {
   "cell_type": "code",
   "execution_count": 5,
   "id": "32bb39b3-a3bd-48a6-8ab4-c2db8427148e",
   "metadata": {},
   "outputs": [
    {
     "data": {
      "text/plain": [
       "['They',\n",
       " 'told',\n",
       " 'that',\n",
       " 'their',\n",
       " 'ages',\n",
       " 'are',\n",
       " '23,',\n",
       " '25',\n",
       " 'and',\n",
       " '29',\n",
       " 'respectively.']"
      ]
     },
     "execution_count": 5,
     "metadata": {},
     "output_type": "execute_result"
    }
   ],
   "source": [
    "sent.split()"
   ]
  },
  {
   "cell_type": "code",
   "execution_count": 6,
   "id": "3952e631-5eb5-4041-87c5-f7f736ce6f09",
   "metadata": {},
   "outputs": [],
   "source": [
    "num = []\n",
    "for word in sent.split():\n",
    "    if word.isdigit():\n",
    "        num.append(int(word))"
   ]
  },
  {
   "cell_type": "code",
   "execution_count": null,
   "id": "574556a2-ed78-409b-896e-8a39703efd0c",
   "metadata": {},
   "outputs": [],
   "source": []
  },
  {
   "cell_type": "code",
   "execution_count": 7,
   "id": "466e82a7-deeb-410f-b64f-0d6eed260ad6",
   "metadata": {},
   "outputs": [
    {
     "data": {
      "text/plain": [
       "[25, 29]"
      ]
     },
     "execution_count": 7,
     "metadata": {},
     "output_type": "execute_result"
    }
   ],
   "source": [
    "num"
   ]
  },
  {
   "cell_type": "code",
   "execution_count": 8,
   "id": "c8396c76-2e0f-4e50-a1cd-fae5a837e3df",
   "metadata": {},
   "outputs": [
    {
     "data": {
      "text/plain": [
       "27.0"
      ]
     },
     "execution_count": 8,
     "metadata": {},
     "output_type": "execute_result"
    }
   ],
   "source": [
    "sum(num) / len(num)"
   ]
  },
  {
   "cell_type": "markdown",
   "id": "53b92325-28ce-45f0-9ce4-cbfdb692465a",
   "metadata": {},
   "source": [
    "##### Tokenization"
   ]
  },
  {
   "cell_type": "code",
   "execution_count": 9,
   "id": "545b7758-30d6-41b8-9649-f2746d30dce9",
   "metadata": {},
   "outputs": [],
   "source": [
    "# import function\n",
    "from nltk.tokenize import word_tokenize\n",
    "from nltk.tokenize import sent_tokenize"
   ]
  },
  {
   "cell_type": "code",
   "execution_count": 10,
   "id": "861c1ca7-24a6-4bdd-abf7-43a7895c79e2",
   "metadata": {},
   "outputs": [
    {
     "data": {
      "text/plain": [
       "['They',\n",
       " 'told',\n",
       " 'that',\n",
       " 'their',\n",
       " 'ages',\n",
       " 'are',\n",
       " '23',\n",
       " ',',\n",
       " '25',\n",
       " 'and',\n",
       " '29',\n",
       " 'respectively',\n",
       " '.']"
      ]
     },
     "execution_count": 10,
     "metadata": {},
     "output_type": "execute_result"
    }
   ],
   "source": [
    "word_tokenize(sent)"
   ]
  },
  {
   "cell_type": "code",
   "execution_count": 11,
   "id": "732a4bf8-ae19-49a6-82a0-84c0ce303152",
   "metadata": {},
   "outputs": [],
   "source": [
    "text = 'Hello friends! How are you? Welcome to the world of Python Programming.'"
   ]
  },
  {
   "cell_type": "code",
   "execution_count": 12,
   "id": "39c47921-dbf9-444a-90ce-929b5d3e4bf6",
   "metadata": {},
   "outputs": [
    {
     "data": {
      "text/plain": [
       "['Hello friends!',\n",
       " 'How are you?',\n",
       " 'Welcome to the world of Python Programming.']"
      ]
     },
     "execution_count": 12,
     "metadata": {},
     "output_type": "execute_result"
    }
   ],
   "source": [
    "sent_tokenize(text)"
   ]
  },
  {
   "cell_type": "code",
   "execution_count": 13,
   "id": "3b561591-be84-47bc-a86d-18bc2d8c4e86",
   "metadata": {},
   "outputs": [
    {
     "name": "stdout",
     "output_type": "stream",
     "text": [
      "['Hello', 'friends', '!']\n",
      "['How', 'are', 'you', '?']\n",
      "['Welcome', 'to', 'the', 'world', 'of', 'Python', 'Programming', '.']\n"
     ]
    }
   ],
   "source": [
    "for s in sent_tokenize(text):\n",
    "    print(word_tokenize(s))"
   ]
  },
  {
   "cell_type": "code",
   "execution_count": 14,
   "id": "b1e000b4-5345-4c16-bb5d-2c64bfa6f542",
   "metadata": {},
   "outputs": [
    {
     "data": {
      "text/plain": [
       "['Hello',\n",
       " 'friends',\n",
       " '!',\n",
       " 'How',\n",
       " 'are',\n",
       " 'you',\n",
       " '?',\n",
       " 'Welcome',\n",
       " 'to',\n",
       " 'the',\n",
       " 'world',\n",
       " 'of',\n",
       " 'Python',\n",
       " 'Programming',\n",
       " '.']"
      ]
     },
     "execution_count": 14,
     "metadata": {},
     "output_type": "execute_result"
    }
   ],
   "source": [
    "word_tokenize(text)"
   ]
  },
  {
   "cell_type": "code",
   "execution_count": 15,
   "id": "df75b727-639c-44fb-844c-03a1f3a0facf",
   "metadata": {},
   "outputs": [],
   "source": [
    "data = 'पुणे हे भारताच्या दख्खन पठारावरील महाराष्ट्राचे एक महत्त्वाचे शहर आहे. पुणे जिल्ह्याचे आणि पुणे विभागाचे हे प्रशासकीय मुख्यालय आहे. २०११ जनगणनेनुसार, शहराच्या हद्दीतील ३.१ दशलक्ष लोकसंख्येसह पुणे हे भारतातील नववे सर्वात जास्त लोकसंख्या असलेले शहर आहे. महानगर प्रदेशातील ७.२ दशलक्ष रहिवासी लोकसंख्या आहे, यानुसार ते आठवे सर्वाधिक लोकसंख्या असलेले शहर आहे.[११] पुणे शहर पुणे महानगर प्रदेशाचा एक भाग आहे.[१२] भारतातील सर्वात मोठ्या आयटी हबपैकी पुणे एक आहे.[१३][१४] हे भारतातील सर्वात महत्वाचे ऑटोमोबाईल आणि उत्पादन केंद्रांपैकी एक आहे. पुणे हे एक विकसनशील शहर आहे.[१५] या शहराला येथील उच्च प्रतिष्ठित शैक्षणिक संस्थांमुळे \"पूर्वेकडील ऑक्सफर्ड\" म्हणून संबोधले जाते.[१६][१७][१८] \"भारतातील सर्वात राहण्यायोग्य शहर\" म्हणून अनेक वेळा पुण्याला स्थान देण्यात आले आहे. [१९][२०]'"
   ]
  },
  {
   "cell_type": "code",
   "execution_count": 16,
   "id": "a235eda2-e2ee-4c23-a296-ec6cd09a7ebc",
   "metadata": {},
   "outputs": [
    {
     "data": {
      "text/plain": [
       "['पुणे',\n",
       " 'हे',\n",
       " 'भारताच्या',\n",
       " 'दख्खन',\n",
       " 'पठारावरील',\n",
       " 'महाराष्ट्राचे',\n",
       " 'एक',\n",
       " 'महत्त्वाचे',\n",
       " 'शहर',\n",
       " 'आहे',\n",
       " '.',\n",
       " 'पुणे',\n",
       " 'जिल्ह्याचे',\n",
       " 'आणि',\n",
       " 'पुणे',\n",
       " 'विभागाचे',\n",
       " 'हे',\n",
       " 'प्रशासकीय',\n",
       " 'मुख्यालय',\n",
       " 'आहे',\n",
       " '.',\n",
       " '२०११',\n",
       " 'जनगणनेनुसार',\n",
       " ',',\n",
       " 'शहराच्या',\n",
       " 'हद्दीतील',\n",
       " '३.१',\n",
       " 'दशलक्ष',\n",
       " 'लोकसंख्येसह',\n",
       " 'पुणे',\n",
       " 'हे',\n",
       " 'भारतातील',\n",
       " 'नववे',\n",
       " 'सर्वात',\n",
       " 'जास्त',\n",
       " 'लोकसंख्या',\n",
       " 'असलेले',\n",
       " 'शहर',\n",
       " 'आहे',\n",
       " '.',\n",
       " 'महानगर',\n",
       " 'प्रदेशातील',\n",
       " '७.२',\n",
       " 'दशलक्ष',\n",
       " 'रहिवासी',\n",
       " 'लोकसंख्या',\n",
       " 'आहे',\n",
       " ',',\n",
       " 'यानुसार',\n",
       " 'ते',\n",
       " 'आठवे',\n",
       " 'सर्वाधिक',\n",
       " 'लोकसंख्या',\n",
       " 'असलेले',\n",
       " 'शहर',\n",
       " 'आहे',\n",
       " '.',\n",
       " '[',\n",
       " '११',\n",
       " ']',\n",
       " 'पुणे',\n",
       " 'शहर',\n",
       " 'पुणे',\n",
       " 'महानगर',\n",
       " 'प्रदेशाचा',\n",
       " 'एक',\n",
       " 'भाग',\n",
       " 'आहे',\n",
       " '.',\n",
       " '[',\n",
       " '१२',\n",
       " ']',\n",
       " 'भारतातील',\n",
       " 'सर्वात',\n",
       " 'मोठ्या',\n",
       " 'आयटी',\n",
       " 'हबपैकी',\n",
       " 'पुणे',\n",
       " 'एक',\n",
       " 'आहे',\n",
       " '.',\n",
       " '[',\n",
       " '१३',\n",
       " ']',\n",
       " '[',\n",
       " '१४',\n",
       " ']',\n",
       " 'हे',\n",
       " 'भारतातील',\n",
       " 'सर्वात',\n",
       " 'महत्वाचे',\n",
       " 'ऑटोमोबाईल',\n",
       " 'आणि',\n",
       " 'उत्पादन',\n",
       " 'केंद्रांपैकी',\n",
       " 'एक',\n",
       " 'आहे',\n",
       " '.',\n",
       " 'पुणे',\n",
       " 'हे',\n",
       " 'एक',\n",
       " 'विकसनशील',\n",
       " 'शहर',\n",
       " 'आहे',\n",
       " '.',\n",
       " '[',\n",
       " '१५',\n",
       " ']',\n",
       " 'या',\n",
       " 'शहराला',\n",
       " 'येथील',\n",
       " 'उच्च',\n",
       " 'प्रतिष्ठित',\n",
       " 'शैक्षणिक',\n",
       " 'संस्थांमुळे',\n",
       " '``',\n",
       " 'पूर्वेकडील',\n",
       " 'ऑक्सफर्ड',\n",
       " \"''\",\n",
       " 'म्हणून',\n",
       " 'संबोधले',\n",
       " 'जाते',\n",
       " '.',\n",
       " '[',\n",
       " '१६',\n",
       " ']',\n",
       " '[',\n",
       " '१७',\n",
       " ']',\n",
       " '[',\n",
       " '१८',\n",
       " ']',\n",
       " '``',\n",
       " 'भारतातील',\n",
       " 'सर्वात',\n",
       " 'राहण्यायोग्य',\n",
       " 'शहर',\n",
       " \"''\",\n",
       " 'म्हणून',\n",
       " 'अनेक',\n",
       " 'वेळा',\n",
       " 'पुण्याला',\n",
       " 'स्थान',\n",
       " 'देण्यात',\n",
       " 'आले',\n",
       " 'आहे',\n",
       " '.',\n",
       " '[',\n",
       " '१९',\n",
       " ']',\n",
       " '[',\n",
       " '२०',\n",
       " ']']"
      ]
     },
     "execution_count": 16,
     "metadata": {},
     "output_type": "execute_result"
    }
   ],
   "source": [
    "word_tokenize(data)"
   ]
  },
  {
   "cell_type": "code",
   "execution_count": 17,
   "id": "c1cc485c-dec3-4036-8a10-d029593f071a",
   "metadata": {},
   "outputs": [
    {
     "data": {
      "text/plain": [
       "['Dr.', 'Deshmukh', 'has', 'treated', 'me', '.']"
      ]
     },
     "execution_count": 17,
     "metadata": {},
     "output_type": "execute_result"
    }
   ],
   "source": [
    "mydata = \"Dr. Deshmukh has treated me.\"\n",
    "word_tokenize(mydata)"
   ]
  },
  {
   "cell_type": "markdown",
   "id": "c136efbe-89df-49bf-b894-11f955fac626",
   "metadata": {},
   "source": [
    "##### Space Tokenizer"
   ]
  },
  {
   "cell_type": "code",
   "execution_count": 18,
   "id": "4996a64d-de75-424d-a4c9-549a12d7300b",
   "metadata": {},
   "outputs": [],
   "source": [
    "from nltk.tokenize import SpaceTokenizer"
   ]
  },
  {
   "cell_type": "code",
   "execution_count": 19,
   "id": "7fcb7279-279b-4b52-a5db-03ce0ec10719",
   "metadata": {},
   "outputs": [],
   "source": [
    "tk = SpaceTokenizer()"
   ]
  },
  {
   "cell_type": "code",
   "execution_count": 20,
   "id": "69e63149-f715-46e3-9b34-4cf1f41f70a7",
   "metadata": {},
   "outputs": [],
   "source": [
    "text = 'Hello friends! How are you? Welcome to the world of Python Programming.'"
   ]
  },
  {
   "cell_type": "code",
   "execution_count": 21,
   "id": "e1c4c859-c562-4e4d-9cf0-3ec69c15c261",
   "metadata": {},
   "outputs": [
    {
     "data": {
      "text/plain": [
       "['Hello',\n",
       " 'friends!',\n",
       " 'How',\n",
       " 'are',\n",
       " 'you?',\n",
       " 'Welcome',\n",
       " 'to',\n",
       " 'the',\n",
       " 'world',\n",
       " 'of',\n",
       " 'Python',\n",
       " 'Programming.']"
      ]
     },
     "execution_count": 21,
     "metadata": {},
     "output_type": "execute_result"
    }
   ],
   "source": [
    "tk.tokenize(text)"
   ]
  },
  {
   "cell_type": "markdown",
   "id": "d5f1d0bf-d647-44b3-aeb2-452d9f72ad25",
   "metadata": {},
   "source": [
    "##### Tab Tokenizer"
   ]
  },
  {
   "cell_type": "code",
   "execution_count": 22,
   "id": "98c38b58-77ee-444a-9f94-07cffe3c74c6",
   "metadata": {},
   "outputs": [],
   "source": [
    "from nltk.tokenize import TabTokenizer\n",
    "tk = TabTokenizer()"
   ]
  },
  {
   "cell_type": "code",
   "execution_count": 23,
   "id": "1aa25d29-8cbc-431a-a6d2-68118e99492d",
   "metadata": {},
   "outputs": [
    {
     "name": "stdout",
     "output_type": "stream",
     "text": [
      "Hello friends!\tHow are you?\n",
      "Welcome to the world of Python Programming.\n"
     ]
    }
   ],
   "source": [
    "text = 'Hello friends!\\tHow are you?\\nWelcome to the world of Python Programming.'\n",
    "print(text)"
   ]
  },
  {
   "cell_type": "code",
   "execution_count": 24,
   "id": "dac6dcd6-1918-4927-8f70-a6c07b3a0556",
   "metadata": {},
   "outputs": [
    {
     "data": {
      "text/plain": [
       "['Hello friends!', 'How are you?\\nWelcome to the world of Python Programming.']"
      ]
     },
     "execution_count": 24,
     "metadata": {},
     "output_type": "execute_result"
    }
   ],
   "source": [
    "tk.tokenize(text)"
   ]
  },
  {
   "cell_type": "markdown",
   "id": "9287b54b-f018-4259-bc55-bc4fc3a733d5",
   "metadata": {},
   "source": [
    "##### Line Tokenizer"
   ]
  },
  {
   "cell_type": "code",
   "execution_count": 25,
   "id": "46d10ef8-fd3b-408b-bd80-a119769f00f6",
   "metadata": {},
   "outputs": [],
   "source": [
    "from nltk.tokenize import LineTokenizer\n",
    "tk = LineTokenizer()"
   ]
  },
  {
   "cell_type": "code",
   "execution_count": 26,
   "id": "3bbe29ab-2898-4d0a-beeb-abff49d3dd51",
   "metadata": {},
   "outputs": [
    {
     "data": {
      "text/plain": [
       "['Hello friends!\\tHow are you?', 'Welcome to the world of Python Programming.']"
      ]
     },
     "execution_count": 26,
     "metadata": {},
     "output_type": "execute_result"
    }
   ],
   "source": [
    "tk.tokenize(text)"
   ]
  },
  {
   "cell_type": "markdown",
   "id": "f6cf3ad6-3a27-4f5e-89d1-cf9771e1ace6",
   "metadata": {},
   "source": [
    "##### White Space Tokenizer"
   ]
  },
  {
   "cell_type": "code",
   "execution_count": 27,
   "id": "84712b66-a56a-477c-9046-7bb37c367c14",
   "metadata": {},
   "outputs": [],
   "source": [
    "# White space = space / tab / new line"
   ]
  },
  {
   "cell_type": "code",
   "execution_count": 28,
   "id": "4c6727cf-3fd8-4b37-b2c7-a6a69a0a0925",
   "metadata": {},
   "outputs": [
    {
     "data": {
      "text/plain": [
       "['Hello',\n",
       " 'friends!',\n",
       " 'How',\n",
       " 'are',\n",
       " 'you?',\n",
       " 'Welcome',\n",
       " 'to',\n",
       " 'the',\n",
       " 'world',\n",
       " 'of',\n",
       " 'Python',\n",
       " 'Programming.']"
      ]
     },
     "execution_count": 28,
     "metadata": {},
     "output_type": "execute_result"
    }
   ],
   "source": [
    "from nltk.tokenize import WhitespaceTokenizer\n",
    "tk = WhitespaceTokenizer()\n",
    "tk.tokenize(text)"
   ]
  },
  {
   "cell_type": "markdown",
   "id": "ff15664c-7b5a-485b-a52c-647110b457e6",
   "metadata": {},
   "source": [
    "##### Multi Word Expression Tokenizer"
   ]
  },
  {
   "cell_type": "code",
   "execution_count": 29,
   "id": "ee24d3d9-5631-4e00-a47c-2707e097bff8",
   "metadata": {},
   "outputs": [],
   "source": [
    "from nltk.tokenize import MWETokenizer"
   ]
  },
  {
   "cell_type": "code",
   "execution_count": 30,
   "id": "4579f402-43de-4447-8f97-35992b6a29a2",
   "metadata": {},
   "outputs": [],
   "source": [
    "sent = 'Hello friends! Have you learned Python Programming? It is very interesting to learn Python Programming.'"
   ]
  },
  {
   "cell_type": "code",
   "execution_count": 31,
   "id": "adc04bfa-d42d-4e4c-b654-a2927edbbc83",
   "metadata": {},
   "outputs": [],
   "source": [
    "mwe = MWETokenizer(separator=' ')\n",
    "mwe.add_mwe(('Python','Programming'))"
   ]
  },
  {
   "cell_type": "code",
   "execution_count": 32,
   "id": "54d667ae-a0ac-459c-b36f-2c7a0f676ac5",
   "metadata": {},
   "outputs": [
    {
     "data": {
      "text/plain": [
       "['Hello',\n",
       " 'friends',\n",
       " '!',\n",
       " 'Have',\n",
       " 'you',\n",
       " 'learned',\n",
       " 'Python Programming',\n",
       " '?',\n",
       " 'It',\n",
       " 'is',\n",
       " 'very',\n",
       " 'interesting',\n",
       " 'to',\n",
       " 'learn',\n",
       " 'Python Programming',\n",
       " '.']"
      ]
     },
     "execution_count": 32,
     "metadata": {},
     "output_type": "execute_result"
    }
   ],
   "source": [
    "mwe.tokenize(word_tokenize(sent))"
   ]
  },
  {
   "cell_type": "markdown",
   "id": "38a16942-4ce6-4d90-a1f8-449f687852e0",
   "metadata": {},
   "source": [
    "##### Tweet Tokenizer"
   ]
  },
  {
   "cell_type": "code",
   "execution_count": 34,
   "id": "6ca098c8-96d8-4a44-beb0-a3f6a9ec6eaa",
   "metadata": {},
   "outputs": [],
   "source": [
    "from nltk.tokenize import TweetTokenizer"
   ]
  },
  {
   "cell_type": "code",
   "execution_count": 36,
   "id": "7d8080b2-39d4-4bd5-9f6d-65594b095140",
   "metadata": {},
   "outputs": [],
   "source": [
    "sent = 'Hello friends!🙂 How are you?👋 Welcome to the world🌏 of 🖥️Python Programming.'"
   ]
  },
  {
   "cell_type": "code",
   "execution_count": 37,
   "id": "8e3de083-8410-4e0b-b9a3-fc96f9e4907d",
   "metadata": {},
   "outputs": [
    {
     "data": {
      "text/plain": [
       "['Hello',\n",
       " 'friends',\n",
       " '!',\n",
       " '🙂',\n",
       " 'How',\n",
       " 'are',\n",
       " 'you',\n",
       " '?',\n",
       " '👋',\n",
       " 'Welcome',\n",
       " 'to',\n",
       " 'the',\n",
       " 'world🌏',\n",
       " 'of',\n",
       " '🖥️Python',\n",
       " 'Programming',\n",
       " '.']"
      ]
     },
     "execution_count": 37,
     "metadata": {},
     "output_type": "execute_result"
    }
   ],
   "source": [
    "word_tokenize(sent)"
   ]
  },
  {
   "cell_type": "code",
   "execution_count": 38,
   "id": "77598452-c376-4c93-a6f0-698d393b5998",
   "metadata": {},
   "outputs": [
    {
     "data": {
      "text/plain": [
       "['Hello',\n",
       " 'friends',\n",
       " '!',\n",
       " '🙂',\n",
       " 'How',\n",
       " 'are',\n",
       " 'you',\n",
       " '?',\n",
       " '👋',\n",
       " 'Welcome',\n",
       " 'to',\n",
       " 'the',\n",
       " 'world',\n",
       " '🌏',\n",
       " 'of',\n",
       " '🖥',\n",
       " '️Python',\n",
       " 'Programming',\n",
       " '.']"
      ]
     },
     "execution_count": 38,
     "metadata": {},
     "output_type": "execute_result"
    }
   ],
   "source": [
    "tk = TweetTokenizer()\n",
    "tk.tokenize(sent)"
   ]
  },
  {
   "cell_type": "code",
   "execution_count": null,
   "id": "2013fdea-d004-4d66-b26c-a4de38385159",
   "metadata": {},
   "outputs": [],
   "source": []
  }
 ],
 "metadata": {
  "kernelspec": {
   "display_name": "Python 3 (ipykernel)",
   "language": "python",
   "name": "python3"
  },
  "language_info": {
   "codemirror_mode": {
    "name": "ipython",
    "version": 3
   },
   "file_extension": ".py",
   "mimetype": "text/x-python",
   "name": "python",
   "nbconvert_exporter": "python",
   "pygments_lexer": "ipython3",
   "version": "3.10.12"
  }
 },
 "nbformat": 4,
 "nbformat_minor": 5
}
