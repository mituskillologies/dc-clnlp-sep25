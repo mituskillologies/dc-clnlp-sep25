{
 "cells": [
  {
   "cell_type": "code",
   "execution_count": 3,
   "id": "6ab5e654-5e93-49b5-ac7e-ca40fcaaaa90",
   "metadata": {},
   "outputs": [],
   "source": [
    "from nltk import pos_tag\n",
    "from nltk.tokenize import word_tokenize"
   ]
  },
  {
   "cell_type": "code",
   "execution_count": 10,
   "id": "7cb4bfef-9024-4756-9c4d-84ca463d78b3",
   "metadata": {},
   "outputs": [],
   "source": [
    "sent = 'I like Python programming.'"
   ]
  },
  {
   "cell_type": "code",
   "execution_count": 11,
   "id": "dceefbc6-cb47-4f5f-b03c-28138a97f4a5",
   "metadata": {},
   "outputs": [
    {
     "data": {
      "text/plain": [
       "[('I', 'PRP'),\n",
       " ('like', 'VBP'),\n",
       " ('Python', 'NNP'),\n",
       " ('programming', 'NN'),\n",
       " ('.', '.')]"
      ]
     },
     "execution_count": 11,
     "metadata": {},
     "output_type": "execute_result"
    }
   ],
   "source": [
    "pos_tag(word_tokenize(sent))"
   ]
  },
  {
   "cell_type": "code",
   "execution_count": 5,
   "id": "3e173ffb-525a-4fd6-9b18-a7d5619b4ee7",
   "metadata": {},
   "outputs": [
    {
     "name": "stderr",
     "output_type": "stream",
     "text": [
      "[nltk_data] Downloading package averaged_perceptron_tagger_eng to\n",
      "[nltk_data]     /home/mitu/nltk_data...\n",
      "[nltk_data]   Package averaged_perceptron_tagger_eng is already up-to-\n",
      "[nltk_data]       date!\n"
     ]
    },
    {
     "data": {
      "text/plain": [
       "True"
      ]
     },
     "execution_count": 5,
     "metadata": {},
     "output_type": "execute_result"
    }
   ],
   "source": [
    "import nltk\n",
    "nltk.download('averaged_perceptron_tagger_eng')"
   ]
  },
  {
   "cell_type": "code",
   "execution_count": 7,
   "id": "04392ece-3ea8-49fa-953c-88538f49c86a",
   "metadata": {},
   "outputs": [
    {
     "data": {
      "text/plain": [
       "[('Machine', 'NN')]"
      ]
     },
     "execution_count": 7,
     "metadata": {},
     "output_type": "execute_result"
    }
   ],
   "source": [
    "pos_tag(['Machine'])"
   ]
  },
  {
   "cell_type": "code",
   "execution_count": 13,
   "id": "701d3539-71fc-4cec-ae37-fdaf41e849f6",
   "metadata": {},
   "outputs": [],
   "source": [
    "text = \"India, officially the Republic of India,[j][20] is a country in South Asia. It is the seventh-largest country by area; the most populous country since 2023;[21] and, since its independence in 1947, the world's most populous democracy.[22][23][24] Bounded by the Indian Ocean on the south, the Arabian Sea on the southwest, and the Bay of Bengal on the southeast, it shares land borders with Pakistan to the west;[k] China, Nepal, and Bhutan to the north; and Bangladesh and Myanmar to the east. In the Indian Ocean, India is near Sri Lanka and the Maldives; its Andaman and Nicobar Islands share a maritime border with Myanmar, Thailand, and Indonesia.\""
   ]
  },
  {
   "cell_type": "code",
   "execution_count": 14,
   "id": "0bbce1a8-c58c-49ee-8992-2b3e62d4fc6f",
   "metadata": {},
   "outputs": [
    {
     "data": {
      "text/plain": [
       "\"India, officially the Republic of India,[j][20] is a country in South Asia. It is the seventh-largest country by area; the most populous country since 2023;[21] and, since its independence in 1947, the world's most populous democracy.[22][23][24] Bounded by the Indian Ocean on the south, the Arabian Sea on the southwest, and the Bay of Bengal on the southeast, it shares land borders with Pakistan to the west;[k] China, Nepal, and Bhutan to the north; and Bangladesh and Myanmar to the east. In the Indian Ocean, India is near Sri Lanka and the Maldives; its Andaman and Nicobar Islands share a maritime border with Myanmar, Thailand, and Indonesia.\""
      ]
     },
     "execution_count": 14,
     "metadata": {},
     "output_type": "execute_result"
    }
   ],
   "source": [
    "text"
   ]
  },
  {
   "cell_type": "code",
   "execution_count": 15,
   "id": "7090b9b0-40da-4db2-8ced-941124177881",
   "metadata": {},
   "outputs": [
    {
     "data": {
      "text/plain": [
       "[('India', 'NNP'),\n",
       " (',', ','),\n",
       " ('officially', 'RB'),\n",
       " ('the', 'DT'),\n",
       " ('Republic', 'NNP'),\n",
       " ('of', 'IN'),\n",
       " ('India', 'NNP'),\n",
       " (',', ','),\n",
       " ('[', 'NNP'),\n",
       " ('j', 'NN'),\n",
       " (']', 'NNP'),\n",
       " ('[', 'VBZ'),\n",
       " ('20', 'CD'),\n",
       " (']', 'NN'),\n",
       " ('is', 'VBZ'),\n",
       " ('a', 'DT'),\n",
       " ('country', 'NN'),\n",
       " ('in', 'IN'),\n",
       " ('South', 'NNP'),\n",
       " ('Asia', 'NNP'),\n",
       " ('.', '.'),\n",
       " ('It', 'PRP'),\n",
       " ('is', 'VBZ'),\n",
       " ('the', 'DT'),\n",
       " ('seventh-largest', 'JJ'),\n",
       " ('country', 'NN'),\n",
       " ('by', 'IN'),\n",
       " ('area', 'NN'),\n",
       " (';', ':'),\n",
       " ('the', 'DT'),\n",
       " ('most', 'RBS'),\n",
       " ('populous', 'JJ'),\n",
       " ('country', 'NN'),\n",
       " ('since', 'IN'),\n",
       " ('2023', 'CD'),\n",
       " (';', ':'),\n",
       " ('[', 'CC'),\n",
       " ('21', 'CD'),\n",
       " (']', 'NN'),\n",
       " ('and', 'CC'),\n",
       " (',', ','),\n",
       " ('since', 'IN'),\n",
       " ('its', 'PRP$'),\n",
       " ('independence', 'NN'),\n",
       " ('in', 'IN'),\n",
       " ('1947', 'CD'),\n",
       " (',', ','),\n",
       " ('the', 'DT'),\n",
       " ('world', 'NN'),\n",
       " (\"'s\", 'POS'),\n",
       " ('most', 'RBS'),\n",
       " ('populous', 'JJ'),\n",
       " ('democracy', 'NN'),\n",
       " ('.', '.'),\n",
       " ('[', 'CC'),\n",
       " ('22', 'CD'),\n",
       " (']', 'JJ'),\n",
       " ('[', '$'),\n",
       " ('23', 'CD'),\n",
       " (']', 'NNP'),\n",
       " ('[', 'VBD'),\n",
       " ('24', 'CD'),\n",
       " (']', 'NNS'),\n",
       " ('Bounded', 'VBN'),\n",
       " ('by', 'IN'),\n",
       " ('the', 'DT'),\n",
       " ('Indian', 'JJ'),\n",
       " ('Ocean', 'NNP'),\n",
       " ('on', 'IN'),\n",
       " ('the', 'DT'),\n",
       " ('south', 'NN'),\n",
       " (',', ','),\n",
       " ('the', 'DT'),\n",
       " ('Arabian', 'NNP'),\n",
       " ('Sea', 'NNP'),\n",
       " ('on', 'IN'),\n",
       " ('the', 'DT'),\n",
       " ('southwest', 'NN'),\n",
       " (',', ','),\n",
       " ('and', 'CC'),\n",
       " ('the', 'DT'),\n",
       " ('Bay', 'NNP'),\n",
       " ('of', 'IN'),\n",
       " ('Bengal', 'NNP'),\n",
       " ('on', 'IN'),\n",
       " ('the', 'DT'),\n",
       " ('southeast', 'NN'),\n",
       " (',', ','),\n",
       " ('it', 'PRP'),\n",
       " ('shares', 'NNS'),\n",
       " ('land', 'VBZ'),\n",
       " ('borders', 'NNS'),\n",
       " ('with', 'IN'),\n",
       " ('Pakistan', 'NNP'),\n",
       " ('to', 'TO'),\n",
       " ('the', 'DT'),\n",
       " ('west', 'NN'),\n",
       " (';', ':'),\n",
       " ('[', 'CC'),\n",
       " ('k', 'VB'),\n",
       " (']', 'NNP'),\n",
       " ('China', 'NNP'),\n",
       " (',', ','),\n",
       " ('Nepal', 'NNP'),\n",
       " (',', ','),\n",
       " ('and', 'CC'),\n",
       " ('Bhutan', 'NNP'),\n",
       " ('to', 'TO'),\n",
       " ('the', 'DT'),\n",
       " ('north', 'NN'),\n",
       " (';', ':'),\n",
       " ('and', 'CC'),\n",
       " ('Bangladesh', 'NNP'),\n",
       " ('and', 'CC'),\n",
       " ('Myanmar', 'NNP'),\n",
       " ('to', 'TO'),\n",
       " ('the', 'DT'),\n",
       " ('east', 'NN'),\n",
       " ('.', '.'),\n",
       " ('In', 'IN'),\n",
       " ('the', 'DT'),\n",
       " ('Indian', 'JJ'),\n",
       " ('Ocean', 'NNP'),\n",
       " (',', ','),\n",
       " ('India', 'NNP'),\n",
       " ('is', 'VBZ'),\n",
       " ('near', 'IN'),\n",
       " ('Sri', 'NNP'),\n",
       " ('Lanka', 'NNP'),\n",
       " ('and', 'CC'),\n",
       " ('the', 'DT'),\n",
       " ('Maldives', 'NNPS'),\n",
       " (';', ':'),\n",
       " ('its', 'PRP$'),\n",
       " ('Andaman', 'NNP'),\n",
       " ('and', 'CC'),\n",
       " ('Nicobar', 'NNP'),\n",
       " ('Islands', 'NNP'),\n",
       " ('share', 'NN'),\n",
       " ('a', 'DT'),\n",
       " ('maritime', 'NN'),\n",
       " ('border', 'NN'),\n",
       " ('with', 'IN'),\n",
       " ('Myanmar', 'NNP'),\n",
       " (',', ','),\n",
       " ('Thailand', 'NNP'),\n",
       " (',', ','),\n",
       " ('and', 'CC'),\n",
       " ('Indonesia', 'NNP'),\n",
       " ('.', '.')]"
      ]
     },
     "execution_count": 15,
     "metadata": {},
     "output_type": "execute_result"
    }
   ],
   "source": [
    "pos_tag(word_tokenize(text))"
   ]
  },
  {
   "cell_type": "code",
   "execution_count": null,
   "id": "b99ff929-1c9b-4f7e-9aa1-edab70ae716a",
   "metadata": {},
   "outputs": [],
   "source": []
  }
 ],
 "metadata": {
  "kernelspec": {
   "display_name": "Python 3 (ipykernel)",
   "language": "python",
   "name": "python3"
  },
  "language_info": {
   "codemirror_mode": {
    "name": "ipython",
    "version": 3
   },
   "file_extension": ".py",
   "mimetype": "text/x-python",
   "name": "python",
   "nbconvert_exporter": "python",
   "pygments_lexer": "ipython3",
   "version": "3.10.12"
  }
 },
 "nbformat": 4,
 "nbformat_minor": 5
}
