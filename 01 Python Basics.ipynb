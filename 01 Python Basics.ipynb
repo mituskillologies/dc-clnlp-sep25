{
 "cells": [
  {
   "cell_type": "code",
   "execution_count": 1,
   "id": "92ea9455-09dd-449b-9fcc-5e149733442c",
   "metadata": {},
   "outputs": [
    {
     "name": "stdout",
     "output_type": "stream",
     "text": [
      "Hello World\n"
     ]
    }
   ],
   "source": [
    "print(\"Hello World\")"
   ]
  },
  {
   "cell_type": "code",
   "execution_count": 2,
   "id": "7ef9ef0f-fbc4-4116-a33f-9f5ba73358b3",
   "metadata": {},
   "outputs": [
    {
     "name": "stdout",
     "output_type": "stream",
     "text": [
      "Hello India\n",
      "Welcome to Python!\n"
     ]
    }
   ],
   "source": [
    "print(\"Hello India\")\n",
    "print(\"Welcome to Python!\")"
   ]
  },
  {
   "cell_type": "code",
   "execution_count": 3,
   "id": "6857de27-3e59-449c-b4d3-a6e4c36e42ea",
   "metadata": {},
   "outputs": [],
   "source": [
    "num = 12"
   ]
  },
  {
   "cell_type": "code",
   "execution_count": 4,
   "id": "657f66a8-416e-404f-beb9-752cd09395a9",
   "metadata": {},
   "outputs": [
    {
     "name": "stdout",
     "output_type": "stream",
     "text": [
      "12\n"
     ]
    }
   ],
   "source": [
    "print(num)"
   ]
  },
  {
   "cell_type": "code",
   "execution_count": 5,
   "id": "ac070db9-2161-483d-a236-bba6a2aa1c22",
   "metadata": {},
   "outputs": [
    {
     "name": "stdout",
     "output_type": "stream",
     "text": [
      "78.45\n"
     ]
    }
   ],
   "source": [
    "num1 = 78.45\n",
    "print(num1)"
   ]
  },
  {
   "cell_type": "code",
   "execution_count": 7,
   "id": "d18d0cf2-1d51-41f1-8141-d2896c466cb6",
   "metadata": {},
   "outputs": [
    {
     "name": "stdout",
     "output_type": "stream",
     "text": [
      "tushar\n"
     ]
    }
   ],
   "source": [
    "name = \"tushar\"\n",
    "print(name)"
   ]
  },
  {
   "cell_type": "code",
   "execution_count": 9,
   "id": "cb3ce0b0-d5f2-4474-a8f5-26a852c16e1d",
   "metadata": {},
   "outputs": [
    {
     "name": "stdout",
     "output_type": "stream",
     "text": [
      "67 100\n"
     ]
    }
   ],
   "source": [
    "num1 = 67\n",
    "num_2 = 100\n",
    "print(num1, num_2)"
   ]
  },
  {
   "cell_type": "code",
   "execution_count": 10,
   "id": "ab274a4e-aedd-477e-bc83-6b7f9510f25c",
   "metadata": {},
   "outputs": [
    {
     "ename": "SyntaxError",
     "evalue": "invalid syntax (3770907641.py, line 1)",
     "output_type": "error",
     "traceback": [
      "\u001b[0;36m  Cell \u001b[0;32mIn[10], line 1\u001b[0;36m\u001b[0m\n\u001b[0;31m    pass = 45\u001b[0m\n\u001b[0m         ^\u001b[0m\n\u001b[0;31mSyntaxError\u001b[0m\u001b[0;31m:\u001b[0m invalid syntax\n"
     ]
    }
   ],
   "source": [
    "pass = 45"
   ]
  },
  {
   "cell_type": "code",
   "execution_count": 13,
   "id": "94493444-487a-42ed-b02f-ecf97d38625e",
   "metadata": {},
   "outputs": [],
   "source": [
    "n1 = 56.23\n",
    "n2 = 45\n",
    "n3 = 'pune'"
   ]
  },
  {
   "cell_type": "code",
   "execution_count": 14,
   "id": "f5c38465-6cc7-417a-9923-abc66c3c8945",
   "metadata": {},
   "outputs": [
    {
     "data": {
      "text/plain": [
       "float"
      ]
     },
     "execution_count": 14,
     "metadata": {},
     "output_type": "execute_result"
    }
   ],
   "source": [
    "type(n1)"
   ]
  },
  {
   "cell_type": "code",
   "execution_count": 15,
   "id": "6f5599a8-0440-44e7-b3e3-a750047005b1",
   "metadata": {},
   "outputs": [
    {
     "data": {
      "text/plain": [
       "int"
      ]
     },
     "execution_count": 15,
     "metadata": {},
     "output_type": "execute_result"
    }
   ],
   "source": [
    "type(n2)"
   ]
  },
  {
   "cell_type": "code",
   "execution_count": 16,
   "id": "3ef07d85-5a8a-4504-a9aa-4b725e5bea8f",
   "metadata": {},
   "outputs": [
    {
     "data": {
      "text/plain": [
       "str"
      ]
     },
     "execution_count": 16,
     "metadata": {},
     "output_type": "execute_result"
    }
   ],
   "source": [
    "type(n3)"
   ]
  },
  {
   "cell_type": "code",
   "execution_count": 17,
   "id": "8a5f180e-21fe-43e0-bf3f-5d1b70fe1730",
   "metadata": {},
   "outputs": [],
   "source": [
    "n1, n2, n3 = 56, 12, 32"
   ]
  },
  {
   "cell_type": "code",
   "execution_count": 18,
   "id": "c5222876-9076-4218-9e33-7a6e79e45ae6",
   "metadata": {},
   "outputs": [
    {
     "name": "stdout",
     "output_type": "stream",
     "text": [
      "12\n"
     ]
    }
   ],
   "source": [
    "print(n2)"
   ]
  },
  {
   "cell_type": "code",
   "execution_count": 19,
   "id": "8ae1c48f-8282-47c3-a00b-3090eb8ea8e0",
   "metadata": {},
   "outputs": [],
   "source": [
    "n1, n2, n3 = 45.23, 'indian', 34"
   ]
  },
  {
   "cell_type": "code",
   "execution_count": 20,
   "id": "bfdcde05-8284-4edb-85ca-b7e0f97bdaa8",
   "metadata": {},
   "outputs": [
    {
     "name": "stdout",
     "output_type": "stream",
     "text": [
      "indian\n"
     ]
    }
   ],
   "source": [
    "print(n2)"
   ]
  },
  {
   "cell_type": "code",
   "execution_count": 21,
   "id": "3c3a9e9b-0055-4219-8050-f896d0d4a77d",
   "metadata": {},
   "outputs": [],
   "source": [
    "n1 = n2 = n3 = 90"
   ]
  },
  {
   "cell_type": "code",
   "execution_count": 25,
   "id": "7bc7aa50-8cc6-4463-9bbb-14106c32256e",
   "metadata": {},
   "outputs": [
    {
     "data": {
      "text/plain": [
       "('tushar', 90, 90)"
      ]
     },
     "execution_count": 25,
     "metadata": {},
     "output_type": "execute_result"
    }
   ],
   "source": [
    "name, n2, n3"
   ]
  },
  {
   "cell_type": "code",
   "execution_count": 26,
   "id": "44739ee5-7250-43e2-98d1-f15f15ed2992",
   "metadata": {},
   "outputs": [
    {
     "name": "stdout",
     "output_type": "stream",
     "text": [
      "100\n"
     ]
    }
   ],
   "source": [
    "num1 = 37\n",
    "num2 = 63\n",
    "add = num1 + num2\n",
    "print(add)"
   ]
  },
  {
   "cell_type": "code",
   "execution_count": 27,
   "id": "ec7e71ac-9d94-4fac-b279-ef6615a70347",
   "metadata": {},
   "outputs": [
    {
     "name": "stdout",
     "output_type": "stream",
     "text": [
      "100\n"
     ]
    }
   ],
   "source": [
    "num1 = 37; num2 = 63; add = num1 + num2; print(add)"
   ]
  },
  {
   "cell_type": "code",
   "execution_count": 28,
   "id": "e2291bd2-44bd-4b2c-bab6-01fbbc1fea59",
   "metadata": {},
   "outputs": [],
   "source": [
    "name1 = 'Tushar'\n",
    "name2 = 'Pune'"
   ]
  },
  {
   "cell_type": "code",
   "execution_count": 29,
   "id": "15234c4f-cccc-4bac-9050-517ce556ecc4",
   "metadata": {},
   "outputs": [
    {
     "data": {
      "text/plain": [
       "'TusharPune'"
      ]
     },
     "execution_count": 29,
     "metadata": {},
     "output_type": "execute_result"
    }
   ],
   "source": [
    "name1 + name2"
   ]
  },
  {
   "cell_type": "code",
   "execution_count": 30,
   "id": "e08f30f9-7f7a-4013-a929-daf2fa94833c",
   "metadata": {},
   "outputs": [],
   "source": [
    "new = name1 + name2"
   ]
  },
  {
   "cell_type": "code",
   "execution_count": 31,
   "id": "7d906e6a-06dd-49a6-8e6c-b456bdfc3426",
   "metadata": {},
   "outputs": [
    {
     "data": {
      "text/plain": [
       "'TusharPune'"
      ]
     },
     "execution_count": 31,
     "metadata": {},
     "output_type": "execute_result"
    }
   ],
   "source": [
    "new"
   ]
  },
  {
   "cell_type": "code",
   "execution_count": 32,
   "id": "27234850-b394-4b8c-aa97-4a1c92d162d6",
   "metadata": {},
   "outputs": [
    {
     "data": {
      "text/plain": [
       "'TusharTusharTusharTusharTushar'"
      ]
     },
     "execution_count": 32,
     "metadata": {},
     "output_type": "execute_result"
    }
   ],
   "source": [
    "name1 * 5"
   ]
  },
  {
   "cell_type": "code",
   "execution_count": 34,
   "id": "a94d9a3e-685f-4afc-b589-60921300b09b",
   "metadata": {},
   "outputs": [
    {
     "name": "stdout",
     "output_type": "stream",
     "text": [
      "Hello World\n"
     ]
    }
   ],
   "source": [
    "print(\"Hello World\")\n",
    "#print(\"Good Bye\")"
   ]
  },
  {
   "cell_type": "code",
   "execution_count": 35,
   "id": "f4551ebb-77f3-4bb6-a08f-3636b7cbd867",
   "metadata": {},
   "outputs": [
    {
     "name": "stdout",
     "output_type": "stream",
     "text": [
      "100\n"
     ]
    }
   ],
   "source": [
    "# Program to perform the addition of numbers\n",
    "num1 = 37\n",
    "num2 = 63\n",
    "add = num1 + num2   # This is addition\n",
    "print(add)   # Print tge result"
   ]
  },
  {
   "cell_type": "markdown",
   "id": "8c963b13-c337-4d3a-9613-f974d0bc6b81",
   "metadata": {},
   "source": [
    "##### Escape Sequence"
   ]
  },
  {
   "cell_type": "code",
   "execution_count": 36,
   "id": "f3b557df-8e01-416d-a5df-7a6835b2c315",
   "metadata": {},
   "outputs": [
    {
     "name": "stdout",
     "output_type": "stream",
     "text": [
      "Hello World\n"
     ]
    }
   ],
   "source": [
    "print(\"Hello World\")"
   ]
  },
  {
   "cell_type": "code",
   "execution_count": 37,
   "id": "39a7ba9b-6617-4e21-b42e-c26b420c81c7",
   "metadata": {},
   "outputs": [
    {
     "name": "stdout",
     "output_type": "stream",
     "text": [
      "Hello\n",
      "World\n"
     ]
    }
   ],
   "source": [
    "print(\"Hello\\nWorld\")"
   ]
  },
  {
   "cell_type": "code",
   "execution_count": 38,
   "id": "e424407a-69ff-49a0-8a94-7022b98c5819",
   "metadata": {},
   "outputs": [
    {
     "name": "stdout",
     "output_type": "stream",
     "text": [
      "Hello\tWorld\n"
     ]
    }
   ],
   "source": [
    "print(\"Hello\\tWorld\")"
   ]
  },
  {
   "cell_type": "code",
   "execution_count": 39,
   "id": "9e392154-8b4a-412d-ac74-f41cf4f29e17",
   "metadata": {},
   "outputs": [
    {
     "name": "stdout",
     "output_type": "stream",
     "text": [
      "HellWorld\n"
     ]
    }
   ],
   "source": [
    "print(\"Hello\\bWorld\")"
   ]
  },
  {
   "cell_type": "code",
   "execution_count": 40,
   "id": "4cff0a55-d7a4-424c-98d5-cd99be198037",
   "metadata": {},
   "outputs": [
    {
     "name": "stdout",
     "output_type": "stream",
     "text": [
      "Hello\\World\n"
     ]
    }
   ],
   "source": [
    "print(\"Hello\\\\World\")"
   ]
  },
  {
   "cell_type": "code",
   "execution_count": 41,
   "id": "fea6a461-e3e9-4372-9fe2-d6ebee2ea420",
   "metadata": {},
   "outputs": [],
   "source": [
    "sent = 'Hello friends!\\nHow are you?\\tWelcome to Python.'"
   ]
  },
  {
   "cell_type": "code",
   "execution_count": 42,
   "id": "ae540e43-f17c-4e23-a833-7073c6abae39",
   "metadata": {},
   "outputs": [
    {
     "name": "stdout",
     "output_type": "stream",
     "text": [
      "Hello friends!\n",
      "How are you?\tWelcome to Python.\n"
     ]
    }
   ],
   "source": [
    "print(sent)"
   ]
  },
  {
   "cell_type": "code",
   "execution_count": 43,
   "id": "99c0a5f1-22e9-43e6-bf8c-2021becbfd91",
   "metadata": {},
   "outputs": [
    {
     "name": "stdout",
     "output_type": "stream",
     "text": [
      "I like 'Python' Programming.\n"
     ]
    }
   ],
   "source": [
    "print(\"I like 'Python' Programming.\")"
   ]
  },
  {
   "cell_type": "code",
   "execution_count": 44,
   "id": "9593087b-bac3-4199-b90d-43a626e6bb46",
   "metadata": {},
   "outputs": [
    {
     "name": "stdout",
     "output_type": "stream",
     "text": [
      "I like \"Python\" Programming.\n"
     ]
    }
   ],
   "source": [
    "print('I like \"Python\" Programming.')"
   ]
  },
  {
   "cell_type": "code",
   "execution_count": 45,
   "id": "175e3454-9c0a-4086-adba-53c4e49922b2",
   "metadata": {},
   "outputs": [],
   "source": [
    "# ASCII - American Standard Code for Information Interchange"
   ]
  },
  {
   "cell_type": "code",
   "execution_count": 46,
   "id": "670702b7-c63f-48d9-ba7a-6e4dcdd69c35",
   "metadata": {},
   "outputs": [
    {
     "data": {
      "text/plain": [
       "65"
      ]
     },
     "execution_count": 46,
     "metadata": {},
     "output_type": "execute_result"
    }
   ],
   "source": [
    "ord('A')"
   ]
  },
  {
   "cell_type": "code",
   "execution_count": 47,
   "id": "f70255c1-be54-4347-875b-a6375b2ae14e",
   "metadata": {},
   "outputs": [
    {
     "data": {
      "text/plain": [
       "55"
      ]
     },
     "execution_count": 47,
     "metadata": {},
     "output_type": "execute_result"
    }
   ],
   "source": [
    "ord('7')"
   ]
  },
  {
   "cell_type": "code",
   "execution_count": 48,
   "id": "8fba405b-4ced-4e20-b49c-85d03812183c",
   "metadata": {},
   "outputs": [
    {
     "data": {
      "text/plain": [
       "46"
      ]
     },
     "execution_count": 48,
     "metadata": {},
     "output_type": "execute_result"
    }
   ],
   "source": [
    "ord('.')"
   ]
  },
  {
   "cell_type": "code",
   "execution_count": 49,
   "id": "b0f3d069-49a8-4770-a54f-b819c1acf4ae",
   "metadata": {},
   "outputs": [
    {
     "data": {
      "text/plain": [
       "126"
      ]
     },
     "execution_count": 49,
     "metadata": {},
     "output_type": "execute_result"
    }
   ],
   "source": [
    "ord('~')"
   ]
  },
  {
   "cell_type": "code",
   "execution_count": 50,
   "id": "01a02c92-e973-4fae-a2a1-ba269dd7ea05",
   "metadata": {},
   "outputs": [
    {
     "data": {
      "text/plain": [
       "'&'"
      ]
     },
     "execution_count": 50,
     "metadata": {},
     "output_type": "execute_result"
    }
   ],
   "source": [
    "chr(38)"
   ]
  },
  {
   "cell_type": "code",
   "execution_count": 51,
   "id": "3b97c91e-6a56-4762-9b84-77088cf8467a",
   "metadata": {},
   "outputs": [
    {
     "data": {
      "text/plain": [
       "'Y'"
      ]
     },
     "execution_count": 51,
     "metadata": {},
     "output_type": "execute_result"
    }
   ],
   "source": [
    "chr(89)"
   ]
  },
  {
   "cell_type": "code",
   "execution_count": 52,
   "id": "0d0bc9be-3efc-4003-a676-6452d3edcb02",
   "metadata": {},
   "outputs": [
    {
     "data": {
      "text/plain": [
       "'²'"
      ]
     },
     "execution_count": 52,
     "metadata": {},
     "output_type": "execute_result"
    }
   ],
   "source": [
    "chr(178)"
   ]
  },
  {
   "cell_type": "code",
   "execution_count": 53,
   "id": "cf04dc5c-bac5-4fc1-b975-a1b495eeb1ce",
   "metadata": {},
   "outputs": [],
   "source": [
    "x = '\\u0906'"
   ]
  },
  {
   "cell_type": "code",
   "execution_count": 54,
   "id": "eaa620a1-2403-4553-8f5f-1f07cc22eee6",
   "metadata": {},
   "outputs": [
    {
     "name": "stdout",
     "output_type": "stream",
     "text": [
      "आ\n"
     ]
    }
   ],
   "source": [
    "print(x)"
   ]
  },
  {
   "cell_type": "code",
   "execution_count": 55,
   "id": "ebf285dc-34c5-4f31-97da-513fc487b4b8",
   "metadata": {},
   "outputs": [
    {
     "name": "stdout",
     "output_type": "stream",
     "text": [
      "आई\n"
     ]
    }
   ],
   "source": [
    "x = '\\u0906\\u0908'\n",
    "print(x)"
   ]
  },
  {
   "cell_type": "code",
   "execution_count": 56,
   "id": "43c4e1ed-07a7-4cf6-a7a5-62c50c879e91",
   "metadata": {},
   "outputs": [],
   "source": [
    "name = \"तुषार\""
   ]
  },
  {
   "cell_type": "code",
   "execution_count": 57,
   "id": "c7b029e7-4db5-4afa-8f9c-6ac8e300fd8a",
   "metadata": {},
   "outputs": [
    {
     "data": {
      "text/plain": [
       "'तुषार'"
      ]
     },
     "execution_count": 57,
     "metadata": {},
     "output_type": "execute_result"
    }
   ],
   "source": [
    "name"
   ]
  },
  {
   "cell_type": "code",
   "execution_count": 58,
   "id": "11b447a0-40f9-44e7-9ac4-cd1a95f325c3",
   "metadata": {},
   "outputs": [
    {
     "data": {
      "text/plain": [
       "True"
      ]
     },
     "execution_count": 58,
     "metadata": {},
     "output_type": "execute_result"
    }
   ],
   "source": [
    "name.startswith(\"त\")"
   ]
  },
  {
   "cell_type": "code",
   "execution_count": 59,
   "id": "d1667a3e-02c0-4993-a8ee-dce2f5d5278b",
   "metadata": {},
   "outputs": [
    {
     "data": {
      "text/plain": [
       "'तुशार'"
      ]
     },
     "execution_count": 59,
     "metadata": {},
     "output_type": "execute_result"
    }
   ],
   "source": [
    "name.replace('ष','श')"
   ]
  },
  {
   "cell_type": "markdown",
   "id": "61ae6298-7c32-4990-a704-195cc1d55be4",
   "metadata": {},
   "source": [
    "##### Multi - line strings"
   ]
  },
  {
   "cell_type": "code",
   "execution_count": 66,
   "id": "ed192805-4f28-4742-affa-7655860e60b0",
   "metadata": {},
   "outputs": [],
   "source": [
    "text = '''Hello Friends,\n",
    "How are you?\n",
    "Welcome to Python Programming'''"
   ]
  },
  {
   "cell_type": "code",
   "execution_count": 64,
   "id": "b05dee67-378c-4626-b846-0beddd6d636c",
   "metadata": {},
   "outputs": [
    {
     "name": "stdout",
     "output_type": "stream",
     "text": [
      "Hello Friends,\n",
      "How are you?\n",
      "Welcome to Python Programming\n"
     ]
    }
   ],
   "source": [
    "print(text)"
   ]
  },
  {
   "cell_type": "markdown",
   "id": "843050fd-9c87-44cd-a363-db95faa6f2e1",
   "metadata": {},
   "source": [
    "##### Print function"
   ]
  },
  {
   "cell_type": "code",
   "execution_count": 68,
   "id": "9917d99b-c1ec-4a73-9fbb-bbe6acd05e7d",
   "metadata": {},
   "outputs": [],
   "source": [
    "name = \"Tushar\"\n",
    "marks = 67.35"
   ]
  },
  {
   "cell_type": "code",
   "execution_count": 69,
   "id": "01f5c181-95ad-492e-b0a4-083f1d7a11bf",
   "metadata": {},
   "outputs": [
    {
     "name": "stdout",
     "output_type": "stream",
     "text": [
      "My name is Tushar and marks are 67.35\n"
     ]
    }
   ],
   "source": [
    "print(\"My name is\",name,\"and marks are\",marks)"
   ]
  },
  {
   "cell_type": "code",
   "execution_count": 70,
   "id": "8b0c0cd1-e45c-42fa-897d-5031ab91a220",
   "metadata": {},
   "outputs": [
    {
     "name": "stdout",
     "output_type": "stream",
     "text": [
      "My name is Tushar and marks are 67.350000\n"
     ]
    }
   ],
   "source": [
    "# Formatted print\n",
    "print(\"My name is %s and marks are %f\" %(name,marks))"
   ]
  },
  {
   "cell_type": "code",
   "execution_count": 71,
   "id": "4a4ddb7a-d34d-40d0-9358-b99218aae792",
   "metadata": {},
   "outputs": [
    {
     "name": "stdout",
     "output_type": "stream",
     "text": [
      "My name is Tushar and marks are 67\n"
     ]
    }
   ],
   "source": [
    "print(\"My name is %s and marks are %i\" %(name,marks))"
   ]
  },
  {
   "cell_type": "code",
   "execution_count": 73,
   "id": "a5ae5d6b-063a-4b6b-8517-0ca37ac3fb79",
   "metadata": {},
   "outputs": [
    {
     "name": "stdout",
     "output_type": "stream",
     "text": [
      "My name is Tushar and marks are 67.35\n"
     ]
    }
   ],
   "source": [
    "print(\"My name is %s and marks are %.2f\" %(name,marks))"
   ]
  },
  {
   "cell_type": "markdown",
   "id": "da435fcb-b4f8-4277-8472-cb10f7c4c0dc",
   "metadata": {},
   "source": [
    "##### Arithmetic Operators"
   ]
  },
  {
   "cell_type": "code",
   "execution_count": 75,
   "id": "4df2c885-7e04-4225-9cea-dd54eb4f6bc5",
   "metadata": {},
   "outputs": [],
   "source": [
    "num1 = 34\n",
    "num2 = 13"
   ]
  },
  {
   "cell_type": "code",
   "execution_count": 76,
   "id": "ff7ceac9-534e-486b-932a-86703c27c195",
   "metadata": {},
   "outputs": [
    {
     "name": "stdout",
     "output_type": "stream",
     "text": [
      "Addition is 47\n"
     ]
    }
   ],
   "source": [
    "add = num1 + num2\n",
    "print(\"Addition is\", add)"
   ]
  },
  {
   "cell_type": "code",
   "execution_count": 78,
   "id": "d4fc4206-648f-41ad-bdc9-dc8bab3f86b6",
   "metadata": {},
   "outputs": [
    {
     "name": "stdout",
     "output_type": "stream",
     "text": [
      "Subtraction is 21\n",
      "Multiplication is 442\n",
      "Division is 2.6153846153846154\n",
      "Floor Division is 2\n",
      "Modulo division is 8\n",
      "Exponentiation: 81138303245565435904\n"
     ]
    }
   ],
   "source": [
    "print(\"Subtraction is\", (num1 - num2))\n",
    "print(\"Multiplication is\", (num1 * num2))\n",
    "print(\"Division is\", (num1 / num2))\n",
    "print(\"Floor Division is\", (num1 // num2))  # only quotient is output\n",
    "print(\"Modulo division is\", (num1 % num2))  # only remainder is output\n",
    "print(\"Exponentiation:\", num1 ** num2)   # Power of operator"
   ]
  },
  {
   "cell_type": "markdown",
   "id": "75edf598-3af1-417b-8d8e-3316665ebf5e",
   "metadata": {},
   "source": [
    "##### Relational Operators"
   ]
  },
  {
   "cell_type": "code",
   "execution_count": 82,
   "id": "ccaf6b9b-c776-4702-9ebe-12358b3a7fe9",
   "metadata": {},
   "outputs": [
    {
     "name": "stdout",
     "output_type": "stream",
     "text": [
      "Greater than:  True\n",
      "Greater than or Equal:  True\n",
      "Less than:  False\n",
      "Less than or Equal:  False\n",
      "Equals:  False\n",
      "Not Equal:  True\n"
     ]
    }
   ],
   "source": [
    "print(\"Greater than: \", (num1 > num2))\n",
    "print(\"Greater than or Equal: \", (num1 >= num2))\n",
    "print(\"Less than: \", (num1 < num2))\n",
    "print(\"Less than or Equal: \", (num1 <= num2))\n",
    "print(\"Equals: \", (num1 == num2))\n",
    "print(\"Not Equal: \", (num1 != num2))"
   ]
  },
  {
   "cell_type": "markdown",
   "id": "fea14d81-eaa4-4268-b246-54b3c13326cf",
   "metadata": {},
   "source": [
    "##### Assignment Operators"
   ]
  },
  {
   "cell_type": "code",
   "execution_count": 84,
   "id": "eb9e5dca-5580-4b4e-ac67-d6d7e60f1d5d",
   "metadata": {},
   "outputs": [
    {
     "name": "stdout",
     "output_type": "stream",
     "text": [
      "80\n"
     ]
    }
   ],
   "source": [
    "num = 78\n",
    "num += 2\n",
    "print(num)"
   ]
  },
  {
   "cell_type": "code",
   "execution_count": 85,
   "id": "04394bce-7922-48b9-bd12-0af116d22804",
   "metadata": {},
   "outputs": [
    {
     "data": {
      "text/plain": [
       "78"
      ]
     },
     "execution_count": 85,
     "metadata": {},
     "output_type": "execute_result"
    }
   ],
   "source": [
    "num -= 2\n",
    "num"
   ]
  },
  {
   "cell_type": "code",
   "execution_count": 86,
   "id": "c8bab9de-8f79-4ce5-8110-ffcca4f75e36",
   "metadata": {},
   "outputs": [],
   "source": [
    "num *= 5"
   ]
  },
  {
   "cell_type": "code",
   "execution_count": 87,
   "id": "4f415183-c87d-4ee4-91d9-09f5fae65847",
   "metadata": {},
   "outputs": [
    {
     "data": {
      "text/plain": [
       "390"
      ]
     },
     "execution_count": 87,
     "metadata": {},
     "output_type": "execute_result"
    }
   ],
   "source": [
    "num"
   ]
  },
  {
   "cell_type": "markdown",
   "id": "f6c806f0-c12b-40c0-88b6-40905e4df3de",
   "metadata": {},
   "source": [
    "##### Logical Operators"
   ]
  },
  {
   "cell_type": "code",
   "execution_count": 90,
   "id": "a8484213-8275-44b6-8907-4325779e7193",
   "metadata": {},
   "outputs": [
    {
     "data": {
      "text/plain": [
       "True"
      ]
     },
     "execution_count": 90,
     "metadata": {},
     "output_type": "execute_result"
    }
   ],
   "source": [
    "num1 > num2 and num1 < 100"
   ]
  },
  {
   "cell_type": "code",
   "execution_count": 91,
   "id": "d40de9a2-2f2e-414c-9eee-ad7634dd40f5",
   "metadata": {},
   "outputs": [
    {
     "data": {
      "text/plain": [
       "False"
      ]
     },
     "execution_count": 91,
     "metadata": {},
     "output_type": "execute_result"
    }
   ],
   "source": [
    "num1 > num2 and num1 > 100"
   ]
  },
  {
   "cell_type": "code",
   "execution_count": 92,
   "id": "b315f80c-e1a0-4463-875b-25b4dc986d7a",
   "metadata": {},
   "outputs": [
    {
     "data": {
      "text/plain": [
       "True"
      ]
     },
     "execution_count": 92,
     "metadata": {},
     "output_type": "execute_result"
    }
   ],
   "source": [
    "num1 > num2 or num1 > 100"
   ]
  },
  {
   "cell_type": "code",
   "execution_count": 93,
   "id": "ec615eb0-b6f1-429b-8a54-53c5b9773083",
   "metadata": {},
   "outputs": [
    {
     "data": {
      "text/plain": [
       "False"
      ]
     },
     "execution_count": 93,
     "metadata": {},
     "output_type": "execute_result"
    }
   ],
   "source": [
    "num1 < num2 or num1 > 100"
   ]
  },
  {
   "cell_type": "code",
   "execution_count": 94,
   "id": "5df27be3-273c-4d65-97a1-d145ad59bea6",
   "metadata": {},
   "outputs": [
    {
     "data": {
      "text/plain": [
       "True"
      ]
     },
     "execution_count": 94,
     "metadata": {},
     "output_type": "execute_result"
    }
   ],
   "source": [
    "num1 > num2"
   ]
  },
  {
   "cell_type": "code",
   "execution_count": 95,
   "id": "f64cd636-58d1-4e8f-bff1-befddb23457c",
   "metadata": {},
   "outputs": [
    {
     "data": {
      "text/plain": [
       "False"
      ]
     },
     "execution_count": 95,
     "metadata": {},
     "output_type": "execute_result"
    }
   ],
   "source": [
    "not num1 > num2"
   ]
  },
  {
   "cell_type": "markdown",
   "id": "014cda75-36d1-4716-89ae-5c32a11deda2",
   "metadata": {},
   "source": [
    "##### Input function"
   ]
  },
  {
   "cell_type": "code",
   "execution_count": 97,
   "id": "da3ab264-d3ee-4015-b1d8-c49ccd022229",
   "metadata": {},
   "outputs": [
    {
     "name": "stdin",
     "output_type": "stream",
     "text": [
      "Enter first number: 45\n",
      "Enter second number: 89\n"
     ]
    },
    {
     "name": "stdout",
     "output_type": "stream",
     "text": [
      "Addition is: 4589\n"
     ]
    }
   ],
   "source": [
    "num1 = input(\"Enter first number:\")\n",
    "num2 = input(\"Enter second number:\")\n",
    "add = num1 + num2\n",
    "print(\"Addition is:\", add)"
   ]
  },
  {
   "cell_type": "code",
   "execution_count": 98,
   "id": "4e474474-3d34-41f3-b943-5b4977567172",
   "metadata": {},
   "outputs": [
    {
     "name": "stdin",
     "output_type": "stream",
     "text": [
      "Enter first number: 45\n",
      "Enter second number: 89\n"
     ]
    },
    {
     "name": "stdout",
     "output_type": "stream",
     "text": [
      "Addition is: 134\n"
     ]
    }
   ],
   "source": [
    "num1 = int(input(\"Enter first number:\"))\n",
    "num2 = int(input(\"Enter second number:\"))\n",
    "add = num1 + num2\n",
    "print(\"Addition is:\", add)"
   ]
  },
  {
   "cell_type": "code",
   "execution_count": 99,
   "id": "18913abb-5153-4608-a4aa-df85d9e6d559",
   "metadata": {},
   "outputs": [
    {
     "name": "stdin",
     "output_type": "stream",
     "text": [
      "Enter first number: 45.23\n",
      "Enter second number: 61.28\n"
     ]
    },
    {
     "name": "stdout",
     "output_type": "stream",
     "text": [
      "Addition is: 106.50999999999999\n"
     ]
    }
   ],
   "source": [
    "num1 = float(input(\"Enter first number:\"))\n",
    "num2 = float(input(\"Enter second number:\"))\n",
    "add = num1 + num2\n",
    "print(\"Addition is:\", add)"
   ]
  },
  {
   "cell_type": "code",
   "execution_count": 101,
   "id": "58c39a39-2172-4974-86ed-ac011d75699e",
   "metadata": {},
   "outputs": [
    {
     "name": "stdin",
     "output_type": "stream",
     "text": [
      "Enter celcius temperature: -40\n"
     ]
    },
    {
     "name": "stdout",
     "output_type": "stream",
     "text": [
      "Fahrenhite temperature is: -40.0\n"
     ]
    }
   ],
   "source": [
    "# Read the temperature in celcius and convert into fahrenhite\n",
    "cent = float(input(\"Enter celcius temperature:\"))\n",
    "farh = cent * 9/5 + 32\n",
    "print(\"Fahrenhite temperature is:\", farh)"
   ]
  },
  {
   "cell_type": "code",
   "execution_count": 103,
   "id": "0c704848-3700-44f1-a84d-f347a4bb656c",
   "metadata": {},
   "outputs": [
    {
     "name": "stdin",
     "output_type": "stream",
     "text": [
      "Enter your name: tushar\n"
     ]
    },
    {
     "name": "stdout",
     "output_type": "stream",
     "text": [
      "Upper: TUSHAR\n",
      "Swapcase: TUSHAR\n",
      "Lower: tushar\n",
      "Find: 0\n"
     ]
    }
   ],
   "source": [
    "name = input(\"Enter your name:\")\n",
    "print(\"Upper:\", name.upper())\n",
    "print(\"Swapcase:\", name.swapcase())\n",
    "print(\"Lower:\", name.lower())\n",
    "print(\"Find:\", name.find('t'))"
   ]
  },
  {
   "cell_type": "code",
   "execution_count": null,
   "id": "4be199ad-4f34-40a9-9c9d-9603b19f763f",
   "metadata": {},
   "outputs": [],
   "source": []
  }
 ],
 "metadata": {
  "kernelspec": {
   "display_name": "Python 3 (ipykernel)",
   "language": "python",
   "name": "python3"
  },
  "language_info": {
   "codemirror_mode": {
    "name": "ipython",
    "version": 3
   },
   "file_extension": ".py",
   "mimetype": "text/x-python",
   "name": "python",
   "nbconvert_exporter": "python",
   "pygments_lexer": "ipython3",
   "version": "3.10.12"
  }
 },
 "nbformat": 4,
 "nbformat_minor": 5
}
