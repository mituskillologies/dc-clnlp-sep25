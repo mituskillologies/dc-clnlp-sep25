{
 "cells": [
  {
   "cell_type": "code",
   "execution_count": 1,
   "id": "92ea9455-09dd-449b-9fcc-5e149733442c",
   "metadata": {},
   "outputs": [
    {
     "name": "stdout",
     "output_type": "stream",
     "text": [
      "Hello World\n"
     ]
    }
   ],
   "source": [
    "print(\"Hello World\")"
   ]
  },
  {
   "cell_type": "code",
   "execution_count": 2,
   "id": "7ef9ef0f-fbc4-4116-a33f-9f5ba73358b3",
   "metadata": {},
   "outputs": [
    {
     "name": "stdout",
     "output_type": "stream",
     "text": [
      "Hello India\n",
      "Welcome to Python!\n"
     ]
    }
   ],
   "source": [
    "print(\"Hello India\")\n",
    "print(\"Welcome to Python!\")"
   ]
  },
  {
   "cell_type": "code",
   "execution_count": 3,
   "id": "6857de27-3e59-449c-b4d3-a6e4c36e42ea",
   "metadata": {},
   "outputs": [],
   "source": [
    "num = 12"
   ]
  },
  {
   "cell_type": "code",
   "execution_count": 4,
   "id": "657f66a8-416e-404f-beb9-752cd09395a9",
   "metadata": {},
   "outputs": [
    {
     "name": "stdout",
     "output_type": "stream",
     "text": [
      "12\n"
     ]
    }
   ],
   "source": [
    "print(num)"
   ]
  },
  {
   "cell_type": "code",
   "execution_count": 5,
   "id": "ac070db9-2161-483d-a236-bba6a2aa1c22",
   "metadata": {},
   "outputs": [
    {
     "name": "stdout",
     "output_type": "stream",
     "text": [
      "78.45\n"
     ]
    }
   ],
   "source": [
    "num1 = 78.45\n",
    "print(num1)"
   ]
  },
  {
   "cell_type": "code",
   "execution_count": 7,
   "id": "d18d0cf2-1d51-41f1-8141-d2896c466cb6",
   "metadata": {},
   "outputs": [
    {
     "name": "stdout",
     "output_type": "stream",
     "text": [
      "tushar\n"
     ]
    }
   ],
   "source": [
    "name = \"tushar\"\n",
    "print(name)"
   ]
  },
  {
   "cell_type": "code",
   "execution_count": 9,
   "id": "cb3ce0b0-d5f2-4474-a8f5-26a852c16e1d",
   "metadata": {},
   "outputs": [
    {
     "name": "stdout",
     "output_type": "stream",
     "text": [
      "67 100\n"
     ]
    }
   ],
   "source": [
    "num1 = 67\n",
    "num_2 = 100\n",
    "print(num1, num_2)"
   ]
  },
  {
   "cell_type": "code",
   "execution_count": 10,
   "id": "ab274a4e-aedd-477e-bc83-6b7f9510f25c",
   "metadata": {},
   "outputs": [
    {
     "ename": "SyntaxError",
     "evalue": "invalid syntax (3770907641.py, line 1)",
     "output_type": "error",
     "traceback": [
      "\u001b[0;36m  Cell \u001b[0;32mIn[10], line 1\u001b[0;36m\u001b[0m\n\u001b[0;31m    pass = 45\u001b[0m\n\u001b[0m         ^\u001b[0m\n\u001b[0;31mSyntaxError\u001b[0m\u001b[0;31m:\u001b[0m invalid syntax\n"
     ]
    }
   ],
   "source": [
    "pass = 45"
   ]
  },
  {
   "cell_type": "code",
   "execution_count": 13,
   "id": "94493444-487a-42ed-b02f-ecf97d38625e",
   "metadata": {},
   "outputs": [],
   "source": [
    "n1 = 56.23\n",
    "n2 = 45\n",
    "n3 = 'pune'"
   ]
  },
  {
   "cell_type": "code",
   "execution_count": 14,
   "id": "f5c38465-6cc7-417a-9923-abc66c3c8945",
   "metadata": {},
   "outputs": [
    {
     "data": {
      "text/plain": [
       "float"
      ]
     },
     "execution_count": 14,
     "metadata": {},
     "output_type": "execute_result"
    }
   ],
   "source": [
    "type(n1)"
   ]
  },
  {
   "cell_type": "code",
   "execution_count": 15,
   "id": "6f5599a8-0440-44e7-b3e3-a750047005b1",
   "metadata": {},
   "outputs": [
    {
     "data": {
      "text/plain": [
       "int"
      ]
     },
     "execution_count": 15,
     "metadata": {},
     "output_type": "execute_result"
    }
   ],
   "source": [
    "type(n2)"
   ]
  },
  {
   "cell_type": "code",
   "execution_count": 16,
   "id": "3ef07d85-5a8a-4504-a9aa-4b725e5bea8f",
   "metadata": {},
   "outputs": [
    {
     "data": {
      "text/plain": [
       "str"
      ]
     },
     "execution_count": 16,
     "metadata": {},
     "output_type": "execute_result"
    }
   ],
   "source": [
    "type(n3)"
   ]
  },
  {
   "cell_type": "code",
   "execution_count": 17,
   "id": "8a5f180e-21fe-43e0-bf3f-5d1b70fe1730",
   "metadata": {},
   "outputs": [],
   "source": [
    "n1, n2, n3 = 56, 12, 32"
   ]
  },
  {
   "cell_type": "code",
   "execution_count": 18,
   "id": "c5222876-9076-4218-9e33-7a6e79e45ae6",
   "metadata": {},
   "outputs": [
    {
     "name": "stdout",
     "output_type": "stream",
     "text": [
      "12\n"
     ]
    }
   ],
   "source": [
    "print(n2)"
   ]
  },
  {
   "cell_type": "code",
   "execution_count": 19,
   "id": "8ae1c48f-8282-47c3-a00b-3090eb8ea8e0",
   "metadata": {},
   "outputs": [],
   "source": [
    "n1, n2, n3 = 45.23, 'indian', 34"
   ]
  },
  {
   "cell_type": "code",
   "execution_count": 20,
   "id": "bfdcde05-8284-4edb-85ca-b7e0f97bdaa8",
   "metadata": {},
   "outputs": [
    {
     "name": "stdout",
     "output_type": "stream",
     "text": [
      "indian\n"
     ]
    }
   ],
   "source": [
    "print(n2)"
   ]
  },
  {
   "cell_type": "code",
   "execution_count": 21,
   "id": "3c3a9e9b-0055-4219-8050-f896d0d4a77d",
   "metadata": {},
   "outputs": [],
   "source": [
    "n1 = n2 = n3 = 90"
   ]
  },
  {
   "cell_type": "code",
   "execution_count": 25,
   "id": "7bc7aa50-8cc6-4463-9bbb-14106c32256e",
   "metadata": {},
   "outputs": [
    {
     "data": {
      "text/plain": [
       "('tushar', 90, 90)"
      ]
     },
     "execution_count": 25,
     "metadata": {},
     "output_type": "execute_result"
    }
   ],
   "source": [
    "name, n2, n3"
   ]
  },
  {
   "cell_type": "code",
   "execution_count": 26,
   "id": "44739ee5-7250-43e2-98d1-f15f15ed2992",
   "metadata": {},
   "outputs": [
    {
     "name": "stdout",
     "output_type": "stream",
     "text": [
      "100\n"
     ]
    }
   ],
   "source": [
    "num1 = 37\n",
    "num2 = 63\n",
    "add = num1 + num2\n",
    "print(add)"
   ]
  },
  {
   "cell_type": "code",
   "execution_count": 27,
   "id": "ec7e71ac-9d94-4fac-b279-ef6615a70347",
   "metadata": {},
   "outputs": [
    {
     "name": "stdout",
     "output_type": "stream",
     "text": [
      "100\n"
     ]
    }
   ],
   "source": [
    "num1 = 37; num2 = 63; add = num1 + num2; print(add)"
   ]
  },
  {
   "cell_type": "code",
   "execution_count": null,
   "id": "e2291bd2-44bd-4b2c-bab6-01fbbc1fea59",
   "metadata": {},
   "outputs": [],
   "source": []
  }
 ],
 "metadata": {
  "kernelspec": {
   "display_name": "Python 3 (ipykernel)",
   "language": "python",
   "name": "python3"
  },
  "language_info": {
   "codemirror_mode": {
    "name": "ipython",
    "version": 3
   },
   "file_extension": ".py",
   "mimetype": "text/x-python",
   "name": "python",
   "nbconvert_exporter": "python",
   "pygments_lexer": "ipython3",
   "version": "3.10.12"
  }
 },
 "nbformat": 4,
 "nbformat_minor": 5
}
