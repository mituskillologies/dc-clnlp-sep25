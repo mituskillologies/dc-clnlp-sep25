{
 "cells": [
  {
   "cell_type": "code",
   "execution_count": 1,
   "id": "c7e5a1cc-8e06-462a-8208-c8a161a81c64",
   "metadata": {},
   "outputs": [
    {
     "name": "stderr",
     "output_type": "stream",
     "text": [
      "[nltk_data] Downloading package wordnet to /home/mitu/nltk_data...\n",
      "[nltk_data]   Package wordnet is already up-to-date!\n"
     ]
    },
    {
     "data": {
      "text/plain": [
       "True"
      ]
     },
     "execution_count": 1,
     "metadata": {},
     "output_type": "execute_result"
    }
   ],
   "source": [
    "import nltk\n",
    "nltk.download('wordnet')"
   ]
  },
  {
   "cell_type": "markdown",
   "id": "c7c53a2c-9c83-4bfe-af19-c99f7c222d22",
   "metadata": {},
   "source": [
    "##### Using synsets"
   ]
  },
  {
   "cell_type": "code",
   "execution_count": 3,
   "id": "7a02de16-a045-48e0-a38f-2d14feb77232",
   "metadata": {},
   "outputs": [],
   "source": [
    "# import the wordnet\n",
    "from nltk.corpus import wordnet"
   ]
  },
  {
   "cell_type": "code",
   "execution_count": 4,
   "id": "caf73457-4c67-431b-a27e-35ace62f783b",
   "metadata": {},
   "outputs": [],
   "source": [
    "x = wordnet.synsets('create')"
   ]
  },
  {
   "cell_type": "code",
   "execution_count": 5,
   "id": "8728c947-dd8f-4908-bbe8-efb199852e0f",
   "metadata": {},
   "outputs": [
    {
     "data": {
      "text/plain": [
       "[Synset('make.v.03'),\n",
       " Synset('create.v.02'),\n",
       " Synset('create.v.03'),\n",
       " Synset('create.v.04'),\n",
       " Synset('create.v.05'),\n",
       " Synset('produce.v.02')]"
      ]
     },
     "execution_count": 5,
     "metadata": {},
     "output_type": "execute_result"
    }
   ],
   "source": [
    "x"
   ]
  },
  {
   "cell_type": "code",
   "execution_count": 7,
   "id": "bda65662-413a-430c-81ae-20b8b4e564f8",
   "metadata": {},
   "outputs": [],
   "source": [
    "synonyms = set()\n",
    "\n",
    "for word in wordnet.synsets('create'):\n",
    "    synonyms.add(word.lemmas()[0].name())"
   ]
  },
  {
   "cell_type": "code",
   "execution_count": 8,
   "id": "60531730-c9cf-4d29-b08e-a5a00241e402",
   "metadata": {},
   "outputs": [
    {
     "data": {
      "text/plain": [
       "{'create', 'make', 'produce'}"
      ]
     },
     "execution_count": 8,
     "metadata": {},
     "output_type": "execute_result"
    }
   ],
   "source": [
    "synonyms"
   ]
  },
  {
   "cell_type": "code",
   "execution_count": 10,
   "id": "e790bb36-718f-4fba-9fd5-bb1db0ed2f8b",
   "metadata": {},
   "outputs": [
    {
     "name": "stdout",
     "output_type": "stream",
     "text": [
      "Word and type: post.n.01\n",
      "Synonyms: position\n",
      "Meaning: the position where someone (as a guard or sentry) stands or is assigned to stand\n",
      "Examples: ['a soldier manned the entrance post', 'a sentry station']\n"
     ]
    }
   ],
   "source": [
    "synset = wordnet.synsets('post')\n",
    "print('Word and type:', synset[0].name())\n",
    "print('Synonyms:', synset[2].lemmas()[0].name())\n",
    "print('Meaning:', synset[0].definition())\n",
    "print('Examples:', synset[0].examples())"
   ]
  },
  {
   "cell_type": "code",
   "execution_count": null,
   "id": "9e9e390e-8ccc-4e3f-bc1f-91516e76a634",
   "metadata": {},
   "outputs": [],
   "source": []
  }
 ],
 "metadata": {
  "kernelspec": {
   "display_name": "Python 3 (ipykernel)",
   "language": "python",
   "name": "python3"
  },
  "language_info": {
   "codemirror_mode": {
    "name": "ipython",
    "version": 3
   },
   "file_extension": ".py",
   "mimetype": "text/x-python",
   "name": "python",
   "nbconvert_exporter": "python",
   "pygments_lexer": "ipython3",
   "version": "3.10.12"
  }
 },
 "nbformat": 4,
 "nbformat_minor": 5
}
