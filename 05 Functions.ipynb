{
 "cells": [
  {
   "cell_type": "code",
   "execution_count": 1,
   "id": "3f4a319d",
   "metadata": {},
   "outputs": [
    {
     "name": "stdout",
     "output_type": "stream",
     "text": [
      "hello\n",
      "world\n",
      "bye bye!!!!\n"
     ]
    }
   ],
   "source": [
    "print(\"hello\")\n",
    "print(\"world\")\n",
    "print(\"bye bye!!!!\")"
   ]
  },
  {
   "cell_type": "code",
   "execution_count": 2,
   "id": "a2844d8d",
   "metadata": {},
   "outputs": [],
   "source": [
    "# function definition\n",
    "\n",
    "def show():\n",
    "    print(\"hello\")\n",
    "    print(\"world\")\n",
    "    print(\"bye bye!!!!\")"
   ]
  },
  {
   "cell_type": "code",
   "execution_count": 5,
   "id": "da769f2c",
   "metadata": {},
   "outputs": [
    {
     "name": "stdout",
     "output_type": "stream",
     "text": [
      "hello\n",
      "world\n",
      "bye bye!!!!\n"
     ]
    }
   ],
   "source": [
    "show()  # function call"
   ]
  },
  {
   "cell_type": "code",
   "execution_count": 4,
   "id": "e60bd093",
   "metadata": {},
   "outputs": [
    {
     "name": "stdout",
     "output_type": "stream",
     "text": [
      "hello\n",
      "world\n",
      "bye bye!!!!\n",
      "hello\n",
      "world\n",
      "bye bye!!!!\n",
      "hello\n",
      "world\n",
      "bye bye!!!!\n"
     ]
    }
   ],
   "source": [
    "show()\n",
    "show()\n",
    "show()"
   ]
  },
  {
   "cell_type": "code",
   "execution_count": 6,
   "id": "abe6ef35",
   "metadata": {},
   "outputs": [],
   "source": [
    "# paraameterized function"
   ]
  },
  {
   "cell_type": "code",
   "execution_count": 7,
   "id": "3f8a68f5",
   "metadata": {},
   "outputs": [],
   "source": [
    "def sq(num):\n",
    "    print(num * num)"
   ]
  },
  {
   "cell_type": "code",
   "execution_count": 8,
   "id": "c563d02b",
   "metadata": {},
   "outputs": [
    {
     "name": "stdout",
     "output_type": "stream",
     "text": [
      "100\n"
     ]
    }
   ],
   "source": [
    "sq(10)"
   ]
  },
  {
   "cell_type": "code",
   "execution_count": 9,
   "id": "b6b40fa2",
   "metadata": {},
   "outputs": [],
   "source": [
    "# create a function which will show upper, lower and title case of a string"
   ]
  },
  {
   "cell_type": "code",
   "execution_count": 10,
   "id": "0176f202",
   "metadata": {},
   "outputs": [],
   "source": [
    "def convert(s):\n",
    "    print(s.upper())\n",
    "    print(s.lower())\n",
    "    print(s.title())"
   ]
  },
  {
   "cell_type": "code",
   "execution_count": 11,
   "id": "73fe925a",
   "metadata": {},
   "outputs": [
    {
     "name": "stdout",
     "output_type": "stream",
     "text": [
      "AVINASH\n",
      "avinash\n",
      "Avinash\n"
     ]
    }
   ],
   "source": [
    "convert(\"AvInasH\")"
   ]
  },
  {
   "cell_type": "code",
   "execution_count": 12,
   "id": "d2ef22f3",
   "metadata": {},
   "outputs": [],
   "source": [
    "# create a function to find largest of 2 numbers"
   ]
  },
  {
   "cell_type": "code",
   "execution_count": 13,
   "id": "1a82a639",
   "metadata": {},
   "outputs": [],
   "source": [
    "def largest(x, y):\n",
    "    if x > y:\n",
    "        print(x, \"is larger\")\n",
    "    elif x < y:\n",
    "        print(y, \"is larger\")\n",
    "    else:\n",
    "        print(\"Both are equal\")"
   ]
  },
  {
   "cell_type": "code",
   "execution_count": 14,
   "id": "d2a78577",
   "metadata": {},
   "outputs": [
    {
     "name": "stdout",
     "output_type": "stream",
     "text": [
      "10 is larger\n"
     ]
    }
   ],
   "source": [
    "largest(10, 4)"
   ]
  },
  {
   "cell_type": "code",
   "execution_count": 15,
   "id": "4d21e5f5",
   "metadata": {},
   "outputs": [
    {
     "name": "stdout",
     "output_type": "stream",
     "text": [
      "Both are equal\n"
     ]
    }
   ],
   "source": [
    "largest(20, 20)"
   ]
  },
  {
   "cell_type": "code",
   "execution_count": 16,
   "id": "2cf1cded",
   "metadata": {},
   "outputs": [],
   "source": [
    "# print and return"
   ]
  },
  {
   "cell_type": "code",
   "execution_count": 17,
   "id": "05001c27",
   "metadata": {},
   "outputs": [],
   "source": [
    "def sq(num):\n",
    "    res = num * num\n",
    "    print(res)"
   ]
  },
  {
   "cell_type": "code",
   "execution_count": 18,
   "id": "dd3b8f6f",
   "metadata": {},
   "outputs": [
    {
     "name": "stdout",
     "output_type": "stream",
     "text": [
      "25\n"
     ]
    }
   ],
   "source": [
    "sq(5)"
   ]
  },
  {
   "cell_type": "code",
   "execution_count": 23,
   "id": "7e91c3ad",
   "metadata": {},
   "outputs": [
    {
     "name": "stdout",
     "output_type": "stream",
     "text": [
      "36\n",
      "None\n"
     ]
    }
   ],
   "source": [
    "a = sq(6)\n",
    "print(a)"
   ]
  },
  {
   "cell_type": "code",
   "execution_count": 22,
   "id": "07cd34b1",
   "metadata": {},
   "outputs": [
    {
     "name": "stdout",
     "output_type": "stream",
     "text": [
      "None\n"
     ]
    }
   ],
   "source": [
    "print(a)"
   ]
  },
  {
   "cell_type": "code",
   "execution_count": 24,
   "id": "4a8b18e0",
   "metadata": {},
   "outputs": [
    {
     "name": "stdout",
     "output_type": "stream",
     "text": [
      "36\n"
     ]
    },
    {
     "ename": "TypeError",
     "evalue": "unsupported operand type(s) for *: 'int' and 'NoneType'",
     "output_type": "error",
     "traceback": [
      "\u001b[0;31m---------------------------------------------------------------------------\u001b[0m",
      "\u001b[0;31mTypeError\u001b[0m                                 Traceback (most recent call last)",
      "Cell \u001b[0;32mIn[24], line 1\u001b[0m\n\u001b[0;32m----> 1\u001b[0m \u001b[38;5;241m2\u001b[39m \u001b[38;5;241m*\u001b[39m sq(\u001b[38;5;241m6\u001b[39m)\n",
      "\u001b[0;31mTypeError\u001b[0m: unsupported operand type(s) for *: 'int' and 'NoneType'"
     ]
    }
   ],
   "source": [
    "2 * sq(6)"
   ]
  },
  {
   "cell_type": "code",
   "execution_count": 25,
   "id": "9214a15d",
   "metadata": {},
   "outputs": [],
   "source": [
    "def sq(num):\n",
    "    res = num * num\n",
    "    return res"
   ]
  },
  {
   "cell_type": "code",
   "execution_count": 27,
   "id": "25daf1c0",
   "metadata": {},
   "outputs": [],
   "source": [
    "a = sq(6)"
   ]
  },
  {
   "cell_type": "code",
   "execution_count": 28,
   "id": "9db841d0",
   "metadata": {},
   "outputs": [
    {
     "name": "stdout",
     "output_type": "stream",
     "text": [
      "36\n"
     ]
    }
   ],
   "source": [
    "print(a)"
   ]
  },
  {
   "cell_type": "code",
   "execution_count": 29,
   "id": "b31c8649",
   "metadata": {},
   "outputs": [
    {
     "data": {
      "text/plain": [
       "72"
      ]
     },
     "execution_count": 29,
     "metadata": {},
     "output_type": "execute_result"
    }
   ],
   "source": [
    "2 * sq(6)"
   ]
  },
  {
   "cell_type": "code",
   "execution_count": 30,
   "id": "505fa5ea",
   "metadata": {},
   "outputs": [],
   "source": [
    "# write a function for addition of 3 numbers"
   ]
  },
  {
   "cell_type": "code",
   "execution_count": null,
   "id": "bc5781a8",
   "metadata": {},
   "outputs": [],
   "source": [
    "def add3(x =10, y = 5, z = 30):\n",
    "    a = x + y + z\n",
    "    return a"
   ]
  },
  {
   "cell_type": "code",
   "execution_count": 49,
   "id": "3541f449",
   "metadata": {},
   "outputs": [
    {
     "data": {
      "text/plain": [
       "60"
      ]
     },
     "execution_count": 49,
     "metadata": {},
     "output_type": "execute_result"
    }
   ],
   "source": [
    "add3(10, 20, 30)"
   ]
  },
  {
   "cell_type": "code",
   "execution_count": 50,
   "id": "7d29d779",
   "metadata": {},
   "outputs": [
    {
     "data": {
      "text/plain": [
       "55"
      ]
     },
     "execution_count": 50,
     "metadata": {},
     "output_type": "execute_result"
    }
   ],
   "source": [
    "add3(10, 15)"
   ]
  },
  {
   "cell_type": "code",
   "execution_count": 51,
   "id": "7283b6d7",
   "metadata": {},
   "outputs": [
    {
     "data": {
      "text/plain": [
       "45"
      ]
     },
     "execution_count": 51,
     "metadata": {},
     "output_type": "execute_result"
    }
   ],
   "source": [
    "add3()"
   ]
  },
  {
   "cell_type": "code",
   "execution_count": 53,
   "id": "b0adbc49",
   "metadata": {},
   "outputs": [
    {
     "data": {
      "text/plain": [
       "17"
      ]
     },
     "execution_count": 53,
     "metadata": {},
     "output_type": "execute_result"
    }
   ],
   "source": [
    "add3(y = 5, z = 2)"
   ]
  },
  {
   "cell_type": "markdown",
   "id": "dc594633",
   "metadata": {},
   "source": [
    "# modules"
   ]
  },
  {
   "cell_type": "code",
   "execution_count": 54,
   "id": "b46ad118",
   "metadata": {},
   "outputs": [],
   "source": [
    "import math"
   ]
  },
  {
   "cell_type": "code",
   "execution_count": 55,
   "id": "b86393da",
   "metadata": {},
   "outputs": [
    {
     "data": {
      "text/plain": [
       "4.0"
      ]
     },
     "execution_count": 55,
     "metadata": {},
     "output_type": "execute_result"
    }
   ],
   "source": [
    "math.sqrt(16)"
   ]
  },
  {
   "cell_type": "code",
   "execution_count": 56,
   "id": "334ac238",
   "metadata": {},
   "outputs": [
    {
     "data": {
      "text/plain": [
       "0.8939966636005579"
      ]
     },
     "execution_count": 56,
     "metadata": {},
     "output_type": "execute_result"
    }
   ],
   "source": [
    "math.sin(90)"
   ]
  },
  {
   "cell_type": "code",
   "execution_count": 57,
   "id": "f719e800",
   "metadata": {},
   "outputs": [],
   "source": [
    "s = \"ok\""
   ]
  },
  {
   "cell_type": "code",
   "execution_count": 58,
   "id": "a908eba8",
   "metadata": {},
   "outputs": [
    {
     "data": {
      "text/plain": [
       "'OK'"
      ]
     },
     "execution_count": 58,
     "metadata": {},
     "output_type": "execute_result"
    }
   ],
   "source": [
    "s.upper()"
   ]
  },
  {
   "cell_type": "code",
   "execution_count": 59,
   "id": "a0fa9ebc",
   "metadata": {},
   "outputs": [],
   "source": [
    "l = [10, 20, 30, 40]"
   ]
  },
  {
   "cell_type": "code",
   "execution_count": 60,
   "id": "9104fc3f",
   "metadata": {},
   "outputs": [],
   "source": [
    "l.append(50)"
   ]
  },
  {
   "cell_type": "code",
   "execution_count": 61,
   "id": "1be85bf1",
   "metadata": {},
   "outputs": [],
   "source": [
    "# method and function"
   ]
  },
  {
   "cell_type": "code",
   "execution_count": 62,
   "id": "f94434f6",
   "metadata": {},
   "outputs": [
    {
     "data": {
      "text/plain": [
       "2"
      ]
     },
     "execution_count": 62,
     "metadata": {},
     "output_type": "execute_result"
    }
   ],
   "source": [
    "len(s)"
   ]
  },
  {
   "cell_type": "code",
   "execution_count": null,
   "id": "8c4251b7",
   "metadata": {},
   "outputs": [],
   "source": []
  }
 ],
 "metadata": {
  "kernelspec": {
   "display_name": "base",
   "language": "python",
   "name": "python3"
  },
  "language_info": {
   "codemirror_mode": {
    "name": "ipython",
    "version": 3
   },
   "file_extension": ".py",
   "mimetype": "text/x-python",
   "name": "python",
   "nbconvert_exporter": "python",
   "pygments_lexer": "ipython3",
   "version": "3.13.5"
  }
 },
 "nbformat": 4,
 "nbformat_minor": 5
}
