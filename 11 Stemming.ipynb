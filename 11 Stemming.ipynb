{
 "cells": [
  {
   "cell_type": "markdown",
   "id": "8506181b-300a-4b8d-9ffe-16c4b53494de",
   "metadata": {},
   "source": [
    "##### Porter Stemmer"
   ]
  },
  {
   "cell_type": "code",
   "execution_count": 2,
   "id": "a8c4eedd-b00f-4e88-854d-ad9f42a06336",
   "metadata": {},
   "outputs": [],
   "source": [
    "from nltk.stem import PorterStemmer"
   ]
  },
  {
   "cell_type": "code",
   "execution_count": 3,
   "id": "4e8e7e51-31f0-4570-884b-966c9b936e3b",
   "metadata": {},
   "outputs": [],
   "source": [
    "ps = PorterStemmer()"
   ]
  },
  {
   "cell_type": "code",
   "execution_count": 6,
   "id": "8ef3bcd7-4602-44da-b822-06a65afd7bdf",
   "metadata": {},
   "outputs": [
    {
     "data": {
      "text/plain": [
       "'work'"
      ]
     },
     "execution_count": 6,
     "metadata": {},
     "output_type": "execute_result"
    }
   ],
   "source": [
    "ps.stem('worked')"
   ]
  },
  {
   "cell_type": "code",
   "execution_count": 5,
   "id": "0ce5af4a-ca82-4c07-9213-92ca19f14fab",
   "metadata": {},
   "outputs": [],
   "source": [
    "words1 = 'catches','caught','catching','catch'\n",
    "words2 = 'association','associations','associated'\n",
    "words3 = 'big','bigger','biggest'\n",
    "words4 = 'working','worked','works','workable'"
   ]
  },
  {
   "cell_type": "code",
   "execution_count": 8,
   "id": "28d5b77c-6b76-487a-850b-80f64f833daf",
   "metadata": {},
   "outputs": [
    {
     "name": "stdout",
     "output_type": "stream",
     "text": [
      "catches -> catch\n",
      "caught -> caught\n",
      "catching -> catch\n",
      "catch -> catch\n"
     ]
    }
   ],
   "source": [
    "for w in words1:\n",
    "    print(w, '->', ps.stem(w))"
   ]
  },
  {
   "cell_type": "code",
   "execution_count": 9,
   "id": "c7c8de41-4078-4719-84d9-b999e1435d1a",
   "metadata": {},
   "outputs": [
    {
     "name": "stdout",
     "output_type": "stream",
     "text": [
      "association -> associ\n",
      "associations -> associ\n",
      "associated -> associ\n"
     ]
    }
   ],
   "source": [
    "for w in words2:\n",
    "    print(w, '->', ps.stem(w))"
   ]
  },
  {
   "cell_type": "code",
   "execution_count": 10,
   "id": "aa7231de-6b50-4cc8-923e-60d0522db474",
   "metadata": {},
   "outputs": [
    {
     "name": "stdout",
     "output_type": "stream",
     "text": [
      "big -> big\n",
      "bigger -> bigger\n",
      "biggest -> biggest\n"
     ]
    }
   ],
   "source": [
    "for w in words3:\n",
    "    print(w, '->', ps.stem(w))"
   ]
  },
  {
   "cell_type": "code",
   "execution_count": 11,
   "id": "c98de11d-8e3f-4d42-80d1-8bad9f18563d",
   "metadata": {},
   "outputs": [
    {
     "name": "stdout",
     "output_type": "stream",
     "text": [
      "working -> work\n",
      "worked -> work\n",
      "works -> work\n",
      "workable -> workabl\n"
     ]
    }
   ],
   "source": [
    "for w in words4:\n",
    "    print(w, '->', ps.stem(w))"
   ]
  },
  {
   "cell_type": "markdown",
   "id": "f5d16e54-1468-4304-9611-db61625678d3",
   "metadata": {},
   "source": [
    "##### Lancaster Stemmer"
   ]
  },
  {
   "cell_type": "code",
   "execution_count": 13,
   "id": "6f882bda-f1a6-4db8-994a-b2c6977b8704",
   "metadata": {},
   "outputs": [],
   "source": [
    "from nltk.stem import LancasterStemmer"
   ]
  },
  {
   "cell_type": "code",
   "execution_count": 14,
   "id": "c24d4bae-3231-483a-8e31-8dd1d59d00a0",
   "metadata": {},
   "outputs": [],
   "source": [
    "ls = LancasterStemmer()"
   ]
  },
  {
   "cell_type": "code",
   "execution_count": 15,
   "id": "504e707a-801b-478b-9df8-47ba1a444468",
   "metadata": {},
   "outputs": [
    {
     "data": {
      "text/plain": [
       "'big'"
      ]
     },
     "execution_count": 15,
     "metadata": {},
     "output_type": "execute_result"
    }
   ],
   "source": [
    "ls.stem('bigger')"
   ]
  },
  {
   "cell_type": "code",
   "execution_count": 16,
   "id": "17302b6e-9831-4bed-a64c-830d692eefee",
   "metadata": {},
   "outputs": [
    {
     "name": "stdout",
     "output_type": "stream",
     "text": [
      "catches -> catch\n",
      "caught -> caught\n",
      "catching -> catch\n",
      "catch -> catch\n"
     ]
    }
   ],
   "source": [
    "for w in words1:\n",
    "    print(w, '->', ls.stem(w))"
   ]
  },
  {
   "cell_type": "code",
   "execution_count": 17,
   "id": "b7e29eee-54e5-43e7-900e-d71dd5c0c034",
   "metadata": {},
   "outputs": [
    {
     "name": "stdout",
     "output_type": "stream",
     "text": [
      "association -> assocy\n",
      "associations -> assocy\n",
      "associated -> assocy\n"
     ]
    }
   ],
   "source": [
    "for w in words2:\n",
    "    print(w, '->', ls.stem(w))"
   ]
  },
  {
   "cell_type": "code",
   "execution_count": 18,
   "id": "d0714d40-d727-4334-becc-960a04603021",
   "metadata": {},
   "outputs": [
    {
     "name": "stdout",
     "output_type": "stream",
     "text": [
      "big -> big\n",
      "bigger -> big\n",
      "biggest -> biggest\n"
     ]
    }
   ],
   "source": [
    "for w in words3:\n",
    "    print(w, '->', ls.stem(w))"
   ]
  },
  {
   "cell_type": "code",
   "execution_count": 19,
   "id": "da437b51-919c-4644-b5dd-780d1b5a7dc3",
   "metadata": {},
   "outputs": [
    {
     "name": "stdout",
     "output_type": "stream",
     "text": [
      "working -> work\n",
      "worked -> work\n",
      "works -> work\n",
      "workable -> work\n"
     ]
    }
   ],
   "source": [
    "for w in words4:\n",
    "    print(w, '->', ls.stem(w))"
   ]
  },
  {
   "cell_type": "code",
   "execution_count": null,
   "id": "9f5ee3d3-1978-4735-a370-c251bb6630cc",
   "metadata": {},
   "outputs": [],
   "source": []
  }
 ],
 "metadata": {
  "kernelspec": {
   "display_name": "Python 3 (ipykernel)",
   "language": "python",
   "name": "python3"
  },
  "language_info": {
   "codemirror_mode": {
    "name": "ipython",
    "version": 3
   },
   "file_extension": ".py",
   "mimetype": "text/x-python",
   "name": "python",
   "nbconvert_exporter": "python",
   "pygments_lexer": "ipython3",
   "version": "3.10.12"
  }
 },
 "nbformat": 4,
 "nbformat_minor": 5
}
