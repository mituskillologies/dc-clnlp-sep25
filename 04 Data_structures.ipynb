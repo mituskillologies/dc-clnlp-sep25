{
 "cells": [
  {
   "cell_type": "markdown",
   "id": "6e15f7c5",
   "metadata": {},
   "source": [
    "# list"
   ]
  },
  {
   "cell_type": "code",
   "execution_count": 2,
   "id": "29b78e39",
   "metadata": {},
   "outputs": [],
   "source": [
    "num = [23, 34, 56, 78, 10]"
   ]
  },
  {
   "cell_type": "code",
   "execution_count": 3,
   "id": "bd5fe32d",
   "metadata": {},
   "outputs": [
    {
     "data": {
      "text/plain": [
       "[23, 34, 56, 78, 10]"
      ]
     },
     "execution_count": 3,
     "metadata": {},
     "output_type": "execute_result"
    }
   ],
   "source": [
    "num"
   ]
  },
  {
   "cell_type": "code",
   "execution_count": 4,
   "id": "c40008c4",
   "metadata": {},
   "outputs": [
    {
     "data": {
      "text/plain": [
       "list"
      ]
     },
     "execution_count": 4,
     "metadata": {},
     "output_type": "execute_result"
    }
   ],
   "source": [
    "type(num)"
   ]
  },
  {
   "cell_type": "code",
   "execution_count": 5,
   "id": "e2d4ffbe",
   "metadata": {},
   "outputs": [],
   "source": [
    "# properties\n",
    "\"\"\" \n",
    "1. heterogeneous => can store different data types\n",
    "2. ordered => indexing is present\n",
    "3. mutable   => u can change the values\n",
    "4. duplicates are allowed\n",
    "\"\"\";"
   ]
  },
  {
   "cell_type": "code",
   "execution_count": 6,
   "id": "0996036b",
   "metadata": {},
   "outputs": [
    {
     "data": {
      "text/plain": [
       "[23, 'hello', 45.67, True, 34, 20]"
      ]
     },
     "execution_count": 6,
     "metadata": {},
     "output_type": "execute_result"
    }
   ],
   "source": [
    "l1 = [23, \"hello\", 45.67, True, 34, 20]\n",
    "l1"
   ]
  },
  {
   "cell_type": "code",
   "execution_count": 7,
   "id": "eee67d72",
   "metadata": {},
   "outputs": [],
   "source": [
    "# accessing elements"
   ]
  },
  {
   "cell_type": "code",
   "execution_count": 8,
   "id": "8ec9beca",
   "metadata": {},
   "outputs": [
    {
     "data": {
      "text/plain": [
       "45.67"
      ]
     },
     "execution_count": 8,
     "metadata": {},
     "output_type": "execute_result"
    }
   ],
   "source": [
    "l1[2]"
   ]
  },
  {
   "cell_type": "code",
   "execution_count": 9,
   "id": "05ce19c6",
   "metadata": {},
   "outputs": [],
   "source": [
    "# negative indexing"
   ]
  },
  {
   "cell_type": "code",
   "execution_count": 10,
   "id": "49d9ef9a",
   "metadata": {},
   "outputs": [
    {
     "data": {
      "text/plain": [
       "20"
      ]
     },
     "execution_count": 10,
     "metadata": {},
     "output_type": "execute_result"
    }
   ],
   "source": [
    "l1[-1]"
   ]
  },
  {
   "cell_type": "code",
   "execution_count": 11,
   "id": "18103caa",
   "metadata": {},
   "outputs": [
    {
     "data": {
      "text/plain": [
       "40"
      ]
     },
     "execution_count": 11,
     "metadata": {},
     "output_type": "execute_result"
    }
   ],
   "source": [
    "l1[-1] * 2"
   ]
  },
  {
   "cell_type": "code",
   "execution_count": 12,
   "id": "b6a758ce",
   "metadata": {},
   "outputs": [
    {
     "data": {
      "text/plain": [
       "[23, 'hello', 45.67, True, 34, 20]"
      ]
     },
     "execution_count": 12,
     "metadata": {},
     "output_type": "execute_result"
    }
   ],
   "source": [
    "l1"
   ]
  },
  {
   "cell_type": "code",
   "execution_count": 13,
   "id": "0400a786",
   "metadata": {},
   "outputs": [
    {
     "data": {
      "text/plain": [
       "'hellohellohello'"
      ]
     },
     "execution_count": 13,
     "metadata": {},
     "output_type": "execute_result"
    }
   ],
   "source": [
    "l1[1] * 3"
   ]
  },
  {
   "cell_type": "code",
   "execution_count": 14,
   "id": "0d9d1500",
   "metadata": {},
   "outputs": [],
   "source": [
    "# slicing"
   ]
  },
  {
   "cell_type": "code",
   "execution_count": 15,
   "id": "06534418",
   "metadata": {},
   "outputs": [],
   "source": [
    "l2 = [23, 45, 67, 89, 12, 34, 56, 78, 90]"
   ]
  },
  {
   "cell_type": "code",
   "execution_count": 16,
   "id": "89a78956",
   "metadata": {},
   "outputs": [
    {
     "data": {
      "text/plain": [
       "[23, 45, 67, 89, 12, 34, 56, 78, 90]"
      ]
     },
     "execution_count": 16,
     "metadata": {},
     "output_type": "execute_result"
    }
   ],
   "source": [
    "l2"
   ]
  },
  {
   "cell_type": "code",
   "execution_count": 17,
   "id": "a88cb326",
   "metadata": {},
   "outputs": [
    {
     "data": {
      "text/plain": [
       "[67, 89, 12]"
      ]
     },
     "execution_count": 17,
     "metadata": {},
     "output_type": "execute_result"
    }
   ],
   "source": [
    "l2[2: 5]"
   ]
  },
  {
   "cell_type": "code",
   "execution_count": 18,
   "id": "ef1d8a71",
   "metadata": {},
   "outputs": [
    {
     "data": {
      "text/plain": [
       "[23, 45, 67, 89, 12]"
      ]
     },
     "execution_count": 18,
     "metadata": {},
     "output_type": "execute_result"
    }
   ],
   "source": [
    "l2[:5]"
   ]
  },
  {
   "cell_type": "code",
   "execution_count": 19,
   "id": "2e63a311",
   "metadata": {},
   "outputs": [
    {
     "data": {
      "text/plain": [
       "[34, 56, 78, 90]"
      ]
     },
     "execution_count": 19,
     "metadata": {},
     "output_type": "execute_result"
    }
   ],
   "source": [
    "l2[5:]"
   ]
  },
  {
   "cell_type": "code",
   "execution_count": 20,
   "id": "ed3bcc6c",
   "metadata": {},
   "outputs": [
    {
     "data": {
      "text/plain": [
       "[34, 56, 78, 90]"
      ]
     },
     "execution_count": 20,
     "metadata": {},
     "output_type": "execute_result"
    }
   ],
   "source": [
    "l2[-4: ]"
   ]
  },
  {
   "cell_type": "code",
   "execution_count": 21,
   "id": "c82aeccb",
   "metadata": {},
   "outputs": [
    {
     "data": {
      "text/plain": [
       "[23, 45, 67, 89, 12, 34, 56, 78, 90]"
      ]
     },
     "execution_count": 21,
     "metadata": {},
     "output_type": "execute_result"
    }
   ],
   "source": [
    "l2"
   ]
  },
  {
   "cell_type": "code",
   "execution_count": 22,
   "id": "96ce023f",
   "metadata": {},
   "outputs": [
    {
     "data": {
      "text/plain": [
       "[45, 89, 34, 78]"
      ]
     },
     "execution_count": 22,
     "metadata": {},
     "output_type": "execute_result"
    }
   ],
   "source": [
    "l2[1::2]"
   ]
  },
  {
   "cell_type": "code",
   "execution_count": 23,
   "id": "d7352bb1",
   "metadata": {},
   "outputs": [
    {
     "data": {
      "text/plain": [
       "[90, 78, 56, 34, 12, 89, 67, 45, 23]"
      ]
     },
     "execution_count": 23,
     "metadata": {},
     "output_type": "execute_result"
    }
   ],
   "source": [
    "l2[::-1]"
   ]
  },
  {
   "cell_type": "code",
   "execution_count": 24,
   "id": "2fefb363",
   "metadata": {},
   "outputs": [
    {
     "data": {
      "text/plain": [
       "[23]"
      ]
     },
     "execution_count": 24,
     "metadata": {},
     "output_type": "execute_result"
    }
   ],
   "source": [
    "l2[0::-1]"
   ]
  },
  {
   "cell_type": "code",
   "execution_count": 25,
   "id": "ac844599",
   "metadata": {},
   "outputs": [
    {
     "data": {
      "text/plain": [
       "[23, 45, 67, 89, 12, 34, 56, 78, 90]"
      ]
     },
     "execution_count": 25,
     "metadata": {},
     "output_type": "execute_result"
    }
   ],
   "source": [
    "l2"
   ]
  },
  {
   "cell_type": "code",
   "execution_count": 26,
   "id": "0ce539b3",
   "metadata": {},
   "outputs": [],
   "source": [
    "# in operator"
   ]
  },
  {
   "cell_type": "code",
   "execution_count": 27,
   "id": "e7cd0a81",
   "metadata": {},
   "outputs": [
    {
     "data": {
      "text/plain": [
       "True"
      ]
     },
     "execution_count": 27,
     "metadata": {},
     "output_type": "execute_result"
    }
   ],
   "source": [
    "67 in l2"
   ]
  },
  {
   "cell_type": "code",
   "execution_count": 28,
   "id": "ba7839ed",
   "metadata": {},
   "outputs": [
    {
     "data": {
      "text/plain": [
       "False"
      ]
     },
     "execution_count": 28,
     "metadata": {},
     "output_type": "execute_result"
    }
   ],
   "source": [
    "1000 in l2"
   ]
  },
  {
   "cell_type": "code",
   "execution_count": 29,
   "id": "2c9f6c51",
   "metadata": {},
   "outputs": [],
   "source": [
    "# iteration over a list"
   ]
  },
  {
   "cell_type": "code",
   "execution_count": 30,
   "id": "aaa56912",
   "metadata": {},
   "outputs": [
    {
     "name": "stdout",
     "output_type": "stream",
     "text": [
      "23\n",
      "45\n",
      "67\n",
      "89\n",
      "12\n",
      "34\n",
      "56\n",
      "78\n",
      "90\n"
     ]
    }
   ],
   "source": [
    "for i in l2:\n",
    "    print(i)"
   ]
  },
  {
   "cell_type": "code",
   "execution_count": 31,
   "id": "dafc005b",
   "metadata": {},
   "outputs": [
    {
     "name": "stdout",
     "output_type": "stream",
     "text": [
      "529 2025 4489 7921 144 1156 3136 6084 8100 "
     ]
    }
   ],
   "source": [
    "for i in l2:\n",
    "    print(i * i, end = \" \")"
   ]
  },
  {
   "cell_type": "code",
   "execution_count": 32,
   "id": "a6ad39ec",
   "metadata": {},
   "outputs": [
    {
     "data": {
      "text/plain": [
       "[34, 56, 78]"
      ]
     },
     "execution_count": 32,
     "metadata": {},
     "output_type": "execute_result"
    }
   ],
   "source": [
    "[34 ,56, 78]"
   ]
  },
  {
   "cell_type": "code",
   "execution_count": 33,
   "id": "4599fb16",
   "metadata": {},
   "outputs": [],
   "source": [
    "# list comprehension"
   ]
  },
  {
   "cell_type": "code",
   "execution_count": 34,
   "id": "a0597583",
   "metadata": {},
   "outputs": [],
   "source": [
    "newl = [i * i for i in l2]"
   ]
  },
  {
   "cell_type": "code",
   "execution_count": 35,
   "id": "774cd28b",
   "metadata": {},
   "outputs": [
    {
     "data": {
      "text/plain": [
       "[529, 2025, 4489, 7921, 144, 1156, 3136, 6084, 8100]"
      ]
     },
     "execution_count": 35,
     "metadata": {},
     "output_type": "execute_result"
    }
   ],
   "source": [
    "newl"
   ]
  },
  {
   "cell_type": "code",
   "execution_count": 36,
   "id": "967fc22c",
   "metadata": {},
   "outputs": [
    {
     "data": {
      "text/plain": [
       "[23, 45, 67, 89, 12, 34, 56, 78, 90]"
      ]
     },
     "execution_count": 36,
     "metadata": {},
     "output_type": "execute_result"
    }
   ],
   "source": [
    "l2"
   ]
  },
  {
   "cell_type": "code",
   "execution_count": 37,
   "id": "da05bfb2",
   "metadata": {},
   "outputs": [],
   "source": [
    "# iterate over l2 and print only the odd numbers"
   ]
  },
  {
   "cell_type": "code",
   "execution_count": 38,
   "id": "8ada2a62",
   "metadata": {},
   "outputs": [
    {
     "name": "stdout",
     "output_type": "stream",
     "text": [
      "23\n",
      "45\n",
      "67\n",
      "89\n"
     ]
    }
   ],
   "source": [
    "for i in l2:\n",
    "    if i % 2 != 0:\n",
    "        print(i)"
   ]
  },
  {
   "cell_type": "code",
   "execution_count": 39,
   "id": "d627bc00",
   "metadata": {},
   "outputs": [],
   "source": [
    "newl = [i for i in l2 if i % 2 != 0]"
   ]
  },
  {
   "cell_type": "code",
   "execution_count": 40,
   "id": "08729297",
   "metadata": {},
   "outputs": [
    {
     "data": {
      "text/plain": [
       "[23, 45, 67, 89]"
      ]
     },
     "execution_count": 40,
     "metadata": {},
     "output_type": "execute_result"
    }
   ],
   "source": [
    "newl"
   ]
  },
  {
   "cell_type": "code",
   "execution_count": 41,
   "id": "b813b0c8",
   "metadata": {},
   "outputs": [
    {
     "data": {
      "text/plain": [
       "[23, 45, 67, 89, 12, 34, 56, 78, 90]"
      ]
     },
     "execution_count": 41,
     "metadata": {},
     "output_type": "execute_result"
    }
   ],
   "source": [
    "l2"
   ]
  },
  {
   "cell_type": "code",
   "execution_count": 42,
   "id": "9156deb9",
   "metadata": {},
   "outputs": [],
   "source": [
    "del l2[1]"
   ]
  },
  {
   "cell_type": "code",
   "execution_count": 43,
   "id": "53641f69",
   "metadata": {},
   "outputs": [
    {
     "data": {
      "text/plain": [
       "[23, 67, 89, 12, 34, 56, 78, 90]"
      ]
     },
     "execution_count": 43,
     "metadata": {},
     "output_type": "execute_result"
    }
   ],
   "source": [
    "l2"
   ]
  },
  {
   "cell_type": "code",
   "execution_count": 44,
   "id": "de641440",
   "metadata": {},
   "outputs": [],
   "source": [
    "del l2"
   ]
  },
  {
   "cell_type": "code",
   "execution_count": 45,
   "id": "79f29819",
   "metadata": {},
   "outputs": [
    {
     "ename": "NameError",
     "evalue": "name 'l2' is not defined",
     "output_type": "error",
     "traceback": [
      "\u001b[0;31m---------------------------------------------------------------------------\u001b[0m",
      "\u001b[0;31mNameError\u001b[0m                                 Traceback (most recent call last)",
      "Cell \u001b[0;32mIn[45], line 1\u001b[0m\n\u001b[0;32m----> 1\u001b[0m l2\n",
      "\u001b[0;31mNameError\u001b[0m: name 'l2' is not defined"
     ]
    }
   ],
   "source": [
    "l2"
   ]
  },
  {
   "cell_type": "code",
   "execution_count": 46,
   "id": "bdada8bb",
   "metadata": {},
   "outputs": [],
   "source": [
    "# empty list\n",
    "e = []"
   ]
  },
  {
   "cell_type": "code",
   "execution_count": 47,
   "id": "29ad295a",
   "metadata": {},
   "outputs": [
    {
     "data": {
      "text/plain": [
       "list"
      ]
     },
     "execution_count": 47,
     "metadata": {},
     "output_type": "execute_result"
    }
   ],
   "source": [
    "type(e)"
   ]
  },
  {
   "cell_type": "code",
   "execution_count": 48,
   "id": "c7d10af3",
   "metadata": {},
   "outputs": [
    {
     "data": {
      "text/plain": [
       "[]"
      ]
     },
     "execution_count": 48,
     "metadata": {},
     "output_type": "execute_result"
    }
   ],
   "source": [
    "e"
   ]
  },
  {
   "cell_type": "code",
   "execution_count": 49,
   "id": "da9ec90c",
   "metadata": {},
   "outputs": [],
   "source": [
    "# functions on the list"
   ]
  },
  {
   "cell_type": "code",
   "execution_count": 50,
   "id": "d71212a9",
   "metadata": {},
   "outputs": [],
   "source": [
    "num = [23, 45, 67, 89, 12, 34, 56, 78, 90]"
   ]
  },
  {
   "cell_type": "code",
   "execution_count": 51,
   "id": "f6bccabc",
   "metadata": {},
   "outputs": [
    {
     "data": {
      "text/plain": [
       "9"
      ]
     },
     "execution_count": 51,
     "metadata": {},
     "output_type": "execute_result"
    }
   ],
   "source": [
    "len(num)"
   ]
  },
  {
   "cell_type": "code",
   "execution_count": 52,
   "id": "bce80be5",
   "metadata": {},
   "outputs": [
    {
     "data": {
      "text/plain": [
       "90"
      ]
     },
     "execution_count": 52,
     "metadata": {},
     "output_type": "execute_result"
    }
   ],
   "source": [
    "max(num)"
   ]
  },
  {
   "cell_type": "code",
   "execution_count": 53,
   "id": "32143f92",
   "metadata": {},
   "outputs": [
    {
     "data": {
      "text/plain": [
       "[12, 23, 34, 45, 56, 67, 78, 89, 90]"
      ]
     },
     "execution_count": 53,
     "metadata": {},
     "output_type": "execute_result"
    }
   ],
   "source": [
    "sorted(num)"
   ]
  },
  {
   "cell_type": "code",
   "execution_count": 54,
   "id": "34bd174d",
   "metadata": {},
   "outputs": [
    {
     "data": {
      "text/plain": [
       "[90, 89, 78, 67, 56, 45, 34, 23, 12]"
      ]
     },
     "execution_count": 54,
     "metadata": {},
     "output_type": "execute_result"
    }
   ],
   "source": [
    "sorted(num, reverse= True)"
   ]
  },
  {
   "cell_type": "code",
   "execution_count": 55,
   "id": "168314be",
   "metadata": {},
   "outputs": [],
   "source": [
    "# methods on list"
   ]
  },
  {
   "cell_type": "code",
   "execution_count": 56,
   "id": "491a3f8e",
   "metadata": {},
   "outputs": [
    {
     "data": {
      "text/plain": [
       "[23, 45, 67, 89, 12, 34, 56, 78, 90]"
      ]
     },
     "execution_count": 56,
     "metadata": {},
     "output_type": "execute_result"
    }
   ],
   "source": [
    "num"
   ]
  },
  {
   "cell_type": "code",
   "execution_count": 61,
   "id": "ce7b7963",
   "metadata": {},
   "outputs": [],
   "source": [
    "# adding an element at the end of the list\n",
    "num.append(100)"
   ]
  },
  {
   "cell_type": "code",
   "execution_count": 62,
   "id": "b0dcc210",
   "metadata": {},
   "outputs": [
    {
     "data": {
      "text/plain": [
       "[23, 45, 67, 89, 12, 34, 56, 78, 90, 100, 100, 100]"
      ]
     },
     "execution_count": 62,
     "metadata": {},
     "output_type": "execute_result"
    }
   ],
   "source": [
    "num"
   ]
  },
  {
   "cell_type": "code",
   "execution_count": 63,
   "id": "d99bc461",
   "metadata": {},
   "outputs": [],
   "source": [
    "# append and extend"
   ]
  },
  {
   "cell_type": "code",
   "execution_count": 64,
   "id": "19dc88b3",
   "metadata": {},
   "outputs": [],
   "source": [
    "a1 = [23, 45, 67]\n",
    "a2 = [23, 45, 67]"
   ]
  },
  {
   "cell_type": "code",
   "execution_count": 65,
   "id": "3253ccfd",
   "metadata": {},
   "outputs": [],
   "source": [
    "a1.append([100, 101])\n",
    "a2.extend([100, 101])"
   ]
  },
  {
   "cell_type": "code",
   "execution_count": 66,
   "id": "5c13de39",
   "metadata": {},
   "outputs": [
    {
     "data": {
      "text/plain": [
       "[23, 45, 67, [100, 101]]"
      ]
     },
     "execution_count": 66,
     "metadata": {},
     "output_type": "execute_result"
    }
   ],
   "source": [
    "a1"
   ]
  },
  {
   "cell_type": "code",
   "execution_count": 67,
   "id": "90c5ca63",
   "metadata": {},
   "outputs": [
    {
     "data": {
      "text/plain": [
       "[23, 45, 67, 100, 101]"
      ]
     },
     "execution_count": 67,
     "metadata": {},
     "output_type": "execute_result"
    }
   ],
   "source": [
    "a2"
   ]
  },
  {
   "cell_type": "code",
   "execution_count": 68,
   "id": "67dbb33c",
   "metadata": {},
   "outputs": [
    {
     "data": {
      "text/plain": [
       "[100, 101]"
      ]
     },
     "execution_count": 68,
     "metadata": {},
     "output_type": "execute_result"
    }
   ],
   "source": [
    "a1[3]"
   ]
  },
  {
   "cell_type": "code",
   "execution_count": 69,
   "id": "94b34d90",
   "metadata": {},
   "outputs": [
    {
     "data": {
      "text/plain": [
       "100"
      ]
     },
     "execution_count": 69,
     "metadata": {},
     "output_type": "execute_result"
    }
   ],
   "source": [
    "a2[3]"
   ]
  },
  {
   "cell_type": "code",
   "execution_count": 71,
   "id": "0f92d399",
   "metadata": {},
   "outputs": [
    {
     "data": {
      "text/plain": [
       "100"
      ]
     },
     "execution_count": 71,
     "metadata": {},
     "output_type": "execute_result"
    }
   ],
   "source": [
    "a1[3][0]"
   ]
  },
  {
   "cell_type": "code",
   "execution_count": 72,
   "id": "6eb39b39",
   "metadata": {},
   "outputs": [],
   "source": [
    "# insert"
   ]
  },
  {
   "cell_type": "code",
   "execution_count": 73,
   "id": "c34b1531",
   "metadata": {},
   "outputs": [
    {
     "data": {
      "text/plain": [
       "[23, 45, 67, 89, 12, 34, 56, 78, 90, 100, 100, 100]"
      ]
     },
     "execution_count": 73,
     "metadata": {},
     "output_type": "execute_result"
    }
   ],
   "source": [
    "num"
   ]
  },
  {
   "cell_type": "code",
   "execution_count": 74,
   "id": "6ee9a6bb",
   "metadata": {},
   "outputs": [],
   "source": [
    "num.insert(2, 100)"
   ]
  },
  {
   "cell_type": "code",
   "execution_count": 75,
   "id": "ad9451ab",
   "metadata": {},
   "outputs": [
    {
     "data": {
      "text/plain": [
       "[23, 45, 100, 67, 89, 12, 34, 56, 78, 90, 100, 100, 100]"
      ]
     },
     "execution_count": 75,
     "metadata": {},
     "output_type": "execute_result"
    }
   ],
   "source": [
    "num"
   ]
  },
  {
   "cell_type": "code",
   "execution_count": 76,
   "id": "63726320",
   "metadata": {},
   "outputs": [
    {
     "data": {
      "text/plain": [
       "3"
      ]
     },
     "execution_count": 76,
     "metadata": {},
     "output_type": "execute_result"
    }
   ],
   "source": [
    "num.index(67)"
   ]
  },
  {
   "cell_type": "code",
   "execution_count": 77,
   "id": "20fdbd09",
   "metadata": {},
   "outputs": [],
   "source": [
    "# delete an element from the list"
   ]
  },
  {
   "cell_type": "code",
   "execution_count": 78,
   "id": "188cabbf",
   "metadata": {},
   "outputs": [
    {
     "data": {
      "text/plain": [
       "[23, 45, 100, 67, 89, 12, 34, 56, 78, 90, 100, 100, 100]"
      ]
     },
     "execution_count": 78,
     "metadata": {},
     "output_type": "execute_result"
    }
   ],
   "source": [
    "num"
   ]
  },
  {
   "cell_type": "code",
   "execution_count": 79,
   "id": "f731eacd",
   "metadata": {},
   "outputs": [
    {
     "data": {
      "text/plain": [
       "100"
      ]
     },
     "execution_count": 79,
     "metadata": {},
     "output_type": "execute_result"
    }
   ],
   "source": [
    "num.pop()"
   ]
  },
  {
   "cell_type": "code",
   "execution_count": 80,
   "id": "1d161e44",
   "metadata": {},
   "outputs": [
    {
     "data": {
      "text/plain": [
       "[23, 45, 100, 67, 89, 12, 34, 56, 78, 90, 100, 100]"
      ]
     },
     "execution_count": 80,
     "metadata": {},
     "output_type": "execute_result"
    }
   ],
   "source": [
    "num"
   ]
  },
  {
   "cell_type": "code",
   "execution_count": 81,
   "id": "54a7d90d",
   "metadata": {},
   "outputs": [
    {
     "data": {
      "text/plain": [
       "23"
      ]
     },
     "execution_count": 81,
     "metadata": {},
     "output_type": "execute_result"
    }
   ],
   "source": [
    "num.pop(0)"
   ]
  },
  {
   "cell_type": "code",
   "execution_count": 82,
   "id": "293d4958",
   "metadata": {},
   "outputs": [
    {
     "data": {
      "text/plain": [
       "[45, 100, 67, 89, 12, 34, 56, 78, 90, 100, 100]"
      ]
     },
     "execution_count": 82,
     "metadata": {},
     "output_type": "execute_result"
    }
   ],
   "source": [
    "num"
   ]
  },
  {
   "cell_type": "code",
   "execution_count": 83,
   "id": "d154cf30",
   "metadata": {},
   "outputs": [],
   "source": [
    "num.remove(67)"
   ]
  },
  {
   "cell_type": "code",
   "execution_count": 84,
   "id": "03b23d68",
   "metadata": {},
   "outputs": [
    {
     "data": {
      "text/plain": [
       "[45, 100, 89, 12, 34, 56, 78, 90, 100, 100]"
      ]
     },
     "execution_count": 84,
     "metadata": {},
     "output_type": "execute_result"
    }
   ],
   "source": [
    "num"
   ]
  },
  {
   "cell_type": "code",
   "execution_count": 102,
   "id": "c2ce62e3",
   "metadata": {},
   "outputs": [
    {
     "data": {
      "text/plain": [
       "[45, 100, 89, 12, 34, 56, 78, 90, 100, 100]"
      ]
     },
     "execution_count": 102,
     "metadata": {},
     "output_type": "execute_result"
    }
   ],
   "source": [
    "num = [45, 100, 89, 12, 34, 56, 78, 90, 100, 100]\n",
    "num"
   ]
  },
  {
   "cell_type": "code",
   "execution_count": 103,
   "id": "32654834",
   "metadata": {},
   "outputs": [],
   "source": [
    "pop_val = [1, 3, 5]"
   ]
  },
  {
   "cell_type": "code",
   "execution_count": 105,
   "id": "6970061a",
   "metadata": {},
   "outputs": [],
   "source": [
    "for i in sorted(pop_val, reverse= True):\n",
    "    num.pop(i)"
   ]
  },
  {
   "cell_type": "code",
   "execution_count": 106,
   "id": "706ed2ca",
   "metadata": {},
   "outputs": [
    {
     "data": {
      "text/plain": [
       "[45, 89, 34, 78, 90, 100, 100]"
      ]
     },
     "execution_count": 106,
     "metadata": {},
     "output_type": "execute_result"
    }
   ],
   "source": [
    "num"
   ]
  },
  {
   "cell_type": "code",
   "execution_count": 107,
   "id": "38531bef",
   "metadata": {},
   "outputs": [
    {
     "data": {
      "text/plain": [
       "2"
      ]
     },
     "execution_count": 107,
     "metadata": {},
     "output_type": "execute_result"
    }
   ],
   "source": [
    "num.count(100)"
   ]
  },
  {
   "cell_type": "code",
   "execution_count": 108,
   "id": "763599d0",
   "metadata": {},
   "outputs": [],
   "source": [
    "for i in range(2):\n",
    "    num.remove(100)"
   ]
  },
  {
   "cell_type": "code",
   "execution_count": 109,
   "id": "663260a1",
   "metadata": {},
   "outputs": [
    {
     "data": {
      "text/plain": [
       "[45, 89, 34, 78, 90]"
      ]
     },
     "execution_count": 109,
     "metadata": {},
     "output_type": "execute_result"
    }
   ],
   "source": [
    "num"
   ]
  },
  {
   "cell_type": "code",
   "execution_count": 110,
   "id": "02cd471f",
   "metadata": {},
   "outputs": [
    {
     "data": {
      "text/plain": [
       "['__add__',\n",
       " '__class__',\n",
       " '__class_getitem__',\n",
       " '__contains__',\n",
       " '__delattr__',\n",
       " '__delitem__',\n",
       " '__dir__',\n",
       " '__doc__',\n",
       " '__eq__',\n",
       " '__format__',\n",
       " '__ge__',\n",
       " '__getattribute__',\n",
       " '__getitem__',\n",
       " '__getstate__',\n",
       " '__gt__',\n",
       " '__hash__',\n",
       " '__iadd__',\n",
       " '__imul__',\n",
       " '__init__',\n",
       " '__init_subclass__',\n",
       " '__iter__',\n",
       " '__le__',\n",
       " '__len__',\n",
       " '__lt__',\n",
       " '__mul__',\n",
       " '__ne__',\n",
       " '__new__',\n",
       " '__reduce__',\n",
       " '__reduce_ex__',\n",
       " '__repr__',\n",
       " '__reversed__',\n",
       " '__rmul__',\n",
       " '__setattr__',\n",
       " '__setitem__',\n",
       " '__sizeof__',\n",
       " '__str__',\n",
       " '__subclasshook__',\n",
       " 'append',\n",
       " 'clear',\n",
       " 'copy',\n",
       " 'count',\n",
       " 'extend',\n",
       " 'index',\n",
       " 'insert',\n",
       " 'pop',\n",
       " 'remove',\n",
       " 'reverse',\n",
       " 'sort']"
      ]
     },
     "execution_count": 110,
     "metadata": {},
     "output_type": "execute_result"
    }
   ],
   "source": [
    "dir(num)"
   ]
  },
  {
   "cell_type": "markdown",
   "id": "d14200de",
   "metadata": {},
   "source": [
    "# Sets"
   ]
  },
  {
   "cell_type": "code",
   "execution_count": 111,
   "id": "45daa213",
   "metadata": {},
   "outputs": [],
   "source": [
    "s = {23, 45, 67, 34, 23}"
   ]
  },
  {
   "cell_type": "code",
   "execution_count": 112,
   "id": "4efd41b0",
   "metadata": {},
   "outputs": [
    {
     "data": {
      "text/plain": [
       "set"
      ]
     },
     "execution_count": 112,
     "metadata": {},
     "output_type": "execute_result"
    }
   ],
   "source": [
    "type(s)"
   ]
  },
  {
   "cell_type": "code",
   "execution_count": 123,
   "id": "43af3cc2",
   "metadata": {},
   "outputs": [],
   "source": [
    "# duplicates -> not allowed\n",
    "# hetero -> yes\n",
    "# unordered -> indexing is not present\n",
    "# mutable -> yes"
   ]
  },
  {
   "cell_type": "code",
   "execution_count": 113,
   "id": "8719e445",
   "metadata": {},
   "outputs": [
    {
     "data": {
      "text/plain": [
       "{23, 34, 45, 67}"
      ]
     },
     "execution_count": 113,
     "metadata": {},
     "output_type": "execute_result"
    }
   ],
   "source": [
    "s"
   ]
  },
  {
   "cell_type": "code",
   "execution_count": 114,
   "id": "fd323b55",
   "metadata": {},
   "outputs": [],
   "source": [
    "s1 = {23, \"hello\", 45.67, True}"
   ]
  },
  {
   "cell_type": "code",
   "execution_count": 115,
   "id": "c53df344",
   "metadata": {},
   "outputs": [
    {
     "data": {
      "text/plain": [
       "{23, 45.67, True, 'hello'}"
      ]
     },
     "execution_count": 115,
     "metadata": {},
     "output_type": "execute_result"
    }
   ],
   "source": [
    "s1"
   ]
  },
  {
   "cell_type": "code",
   "execution_count": 119,
   "id": "1ec69657",
   "metadata": {},
   "outputs": [],
   "source": [
    "s2 = {23, \"hello\", 45.67, True, 23, 45.67}"
   ]
  },
  {
   "cell_type": "code",
   "execution_count": 120,
   "id": "752fb4e9",
   "metadata": {},
   "outputs": [
    {
     "ename": "TypeError",
     "evalue": "'set' object is not subscriptable",
     "output_type": "error",
     "traceback": [
      "\u001b[0;31m---------------------------------------------------------------------------\u001b[0m",
      "\u001b[0;31mTypeError\u001b[0m                                 Traceback (most recent call last)",
      "Cell \u001b[0;32mIn[120], line 1\u001b[0m\n\u001b[0;32m----> 1\u001b[0m s2[\u001b[38;5;241m3\u001b[39m]\n",
      "\u001b[0;31mTypeError\u001b[0m: 'set' object is not subscriptable"
     ]
    }
   ],
   "source": [
    "s2[3]"
   ]
  },
  {
   "cell_type": "code",
   "execution_count": 121,
   "id": "bee4488c",
   "metadata": {},
   "outputs": [],
   "source": [
    "s.add(100)"
   ]
  },
  {
   "cell_type": "code",
   "execution_count": 122,
   "id": "cb0533c0",
   "metadata": {},
   "outputs": [
    {
     "data": {
      "text/plain": [
       "{23, 34, 45, 67, 100}"
      ]
     },
     "execution_count": 122,
     "metadata": {},
     "output_type": "execute_result"
    }
   ],
   "source": [
    "s"
   ]
  },
  {
   "cell_type": "code",
   "execution_count": 124,
   "id": "30d1286c",
   "metadata": {},
   "outputs": [],
   "source": [
    "s.add('hello')"
   ]
  },
  {
   "cell_type": "code",
   "execution_count": 125,
   "id": "09275260",
   "metadata": {},
   "outputs": [
    {
     "data": {
      "text/plain": [
       "{100, 23, 34, 45, 67, 'hello'}"
      ]
     },
     "execution_count": 125,
     "metadata": {},
     "output_type": "execute_result"
    }
   ],
   "source": [
    "s"
   ]
  },
  {
   "cell_type": "code",
   "execution_count": 126,
   "id": "f39bab57",
   "metadata": {},
   "outputs": [],
   "source": [
    "s.add(2)"
   ]
  },
  {
   "cell_type": "code",
   "execution_count": 127,
   "id": "624b1b30",
   "metadata": {},
   "outputs": [
    {
     "data": {
      "text/plain": [
       "{100, 2, 23, 34, 45, 67, 'hello'}"
      ]
     },
     "execution_count": 127,
     "metadata": {},
     "output_type": "execute_result"
    }
   ],
   "source": [
    "s"
   ]
  },
  {
   "cell_type": "code",
   "execution_count": 128,
   "id": "4489345f",
   "metadata": {},
   "outputs": [
    {
     "ename": "TypeError",
     "evalue": "'set' object is not subscriptable",
     "output_type": "error",
     "traceback": [
      "\u001b[0;31m---------------------------------------------------------------------------\u001b[0m",
      "\u001b[0;31mTypeError\u001b[0m                                 Traceback (most recent call last)",
      "Cell \u001b[0;32mIn[128], line 1\u001b[0m\n\u001b[0;32m----> 1\u001b[0m s[\u001b[38;5;241m0\u001b[39m]\n",
      "\u001b[0;31mTypeError\u001b[0m: 'set' object is not subscriptable"
     ]
    }
   ],
   "source": [
    "s[0]"
   ]
  },
  {
   "cell_type": "code",
   "execution_count": 129,
   "id": "787f75f6",
   "metadata": {},
   "outputs": [],
   "source": [
    "s1 = {12, 13, 14, 15}\n",
    "s2 = {14, 15, 16, 17}"
   ]
  },
  {
   "cell_type": "code",
   "execution_count": 130,
   "id": "367af4ac",
   "metadata": {},
   "outputs": [
    {
     "data": {
      "text/plain": [
       "{14, 15}"
      ]
     },
     "execution_count": 130,
     "metadata": {},
     "output_type": "execute_result"
    }
   ],
   "source": [
    "s1.intersection(s2)"
   ]
  },
  {
   "cell_type": "markdown",
   "id": "029add69",
   "metadata": {},
   "source": [
    "# Tuples"
   ]
  },
  {
   "cell_type": "code",
   "execution_count": 134,
   "id": "a59d77c4",
   "metadata": {},
   "outputs": [],
   "source": [
    "t = (23, 45, 67, 89, 12, 23)"
   ]
  },
  {
   "cell_type": "code",
   "execution_count": 135,
   "id": "ae5f0e0d",
   "metadata": {},
   "outputs": [
    {
     "data": {
      "text/plain": [
       "(23, 45, 67, 89, 12, 23)"
      ]
     },
     "execution_count": 135,
     "metadata": {},
     "output_type": "execute_result"
    }
   ],
   "source": [
    "t"
   ]
  },
  {
   "cell_type": "code",
   "execution_count": 136,
   "id": "af57b764",
   "metadata": {},
   "outputs": [
    {
     "data": {
      "text/plain": [
       "tuple"
      ]
     },
     "execution_count": 136,
     "metadata": {},
     "output_type": "execute_result"
    }
   ],
   "source": [
    "type(t)"
   ]
  },
  {
   "cell_type": "code",
   "execution_count": 137,
   "id": "48c0dd0f",
   "metadata": {},
   "outputs": [
    {
     "data": {
      "text/plain": [
       "(23, 45, 67, 89, 12, 23)"
      ]
     },
     "execution_count": 137,
     "metadata": {},
     "output_type": "execute_result"
    }
   ],
   "source": [
    "t"
   ]
  },
  {
   "cell_type": "code",
   "execution_count": 138,
   "id": "21892610",
   "metadata": {},
   "outputs": [],
   "source": [
    "# duplicated are allowed\n",
    "# hetero -> yes\n",
    "# ordered -> indexing is present\n",
    "# immutable -> no change is possible"
   ]
  },
  {
   "cell_type": "code",
   "execution_count": 139,
   "id": "2510925b",
   "metadata": {},
   "outputs": [
    {
     "data": {
      "text/plain": [
       "(23, 'hello', 45.67, True, 23)"
      ]
     },
     "execution_count": 139,
     "metadata": {},
     "output_type": "execute_result"
    }
   ],
   "source": [
    "t1 = (23, \"hello\", 45.67, True, 23)\n",
    "t1"
   ]
  },
  {
   "cell_type": "code",
   "execution_count": 140,
   "id": "ccafbfee",
   "metadata": {},
   "outputs": [
    {
     "data": {
      "text/plain": [
       "'hello'"
      ]
     },
     "execution_count": 140,
     "metadata": {},
     "output_type": "execute_result"
    }
   ],
   "source": [
    "t1[1]"
   ]
  },
  {
   "cell_type": "code",
   "execution_count": 141,
   "id": "a5bec965",
   "metadata": {},
   "outputs": [
    {
     "ename": "TypeError",
     "evalue": "'tuple' object does not support item assignment",
     "output_type": "error",
     "traceback": [
      "\u001b[0;31m---------------------------------------------------------------------------\u001b[0m",
      "\u001b[0;31mTypeError\u001b[0m                                 Traceback (most recent call last)",
      "Cell \u001b[0;32mIn[141], line 1\u001b[0m\n\u001b[0;32m----> 1\u001b[0m t1[\u001b[38;5;241m1\u001b[39m] \u001b[38;5;241m=\u001b[39m \u001b[38;5;124m'\u001b[39m\u001b[38;5;124mokay\u001b[39m\u001b[38;5;124m'\u001b[39m\n",
      "\u001b[0;31mTypeError\u001b[0m: 'tuple' object does not support item assignment"
     ]
    }
   ],
   "source": [
    "t1[1] = 'okay'"
   ]
  },
  {
   "cell_type": "code",
   "execution_count": 142,
   "id": "c2cd97ff",
   "metadata": {},
   "outputs": [
    {
     "data": {
      "text/plain": [
       "(23, 45, 67, 89, 12, 23)"
      ]
     },
     "execution_count": 142,
     "metadata": {},
     "output_type": "execute_result"
    }
   ],
   "source": [
    "t"
   ]
  },
  {
   "cell_type": "code",
   "execution_count": 144,
   "id": "259b74c5",
   "metadata": {},
   "outputs": [
    {
     "data": {
      "text/plain": [
       "[23, 45, 67, 89, 12, 23]"
      ]
     },
     "execution_count": 144,
     "metadata": {},
     "output_type": "execute_result"
    }
   ],
   "source": [
    "l = list(t)   # converting to list\n",
    "l"
   ]
  },
  {
   "cell_type": "code",
   "execution_count": 145,
   "id": "7efc20c9",
   "metadata": {},
   "outputs": [
    {
     "data": {
      "text/plain": [
       "(23, 45, 67, 89, 12, 23)"
      ]
     },
     "execution_count": 145,
     "metadata": {},
     "output_type": "execute_result"
    }
   ],
   "source": [
    "t2 = tuple(l)  # converting back to tuple\n",
    "t2"
   ]
  },
  {
   "cell_type": "markdown",
   "id": "6eed4f4a",
   "metadata": {},
   "source": [
    "# Dictionary"
   ]
  },
  {
   "cell_type": "code",
   "execution_count": 148,
   "id": "728b0b2d",
   "metadata": {},
   "outputs": [],
   "source": [
    "d = {23: \"vivek\", 45: \"aditya\", 67: \"sachin\"} # key:value pairs"
   ]
  },
  {
   "cell_type": "code",
   "execution_count": 149,
   "id": "0ab1a6ed",
   "metadata": {},
   "outputs": [
    {
     "data": {
      "text/plain": [
       "{23: 'vivek', 45: 'aditya', 67: 'sachin'}"
      ]
     },
     "execution_count": 149,
     "metadata": {},
     "output_type": "execute_result"
    }
   ],
   "source": [
    "d"
   ]
  },
  {
   "cell_type": "code",
   "execution_count": 153,
   "id": "44a51137",
   "metadata": {},
   "outputs": [],
   "source": [
    "# keys are unique but values can be duplicated\n",
    "# hetero -> yes"
   ]
  },
  {
   "cell_type": "code",
   "execution_count": 157,
   "id": "7a6292ac",
   "metadata": {},
   "outputs": [],
   "source": [
    "d = {23: \"vivek\", 45: \"aditya\", 67: \"sachin\", 'ok': \"sachin\"}"
   ]
  },
  {
   "cell_type": "code",
   "execution_count": 158,
   "id": "ee6f4362",
   "metadata": {},
   "outputs": [
    {
     "data": {
      "text/plain": [
       "{23: 'vivek', 45: 'aditya', 67: 'sachin', 'ok': 'sachin'}"
      ]
     },
     "execution_count": 158,
     "metadata": {},
     "output_type": "execute_result"
    }
   ],
   "source": [
    "d"
   ]
  },
  {
   "cell_type": "code",
   "execution_count": 159,
   "id": "1cdd66b7",
   "metadata": {},
   "outputs": [],
   "source": [
    "# unordered -> indexing is not present"
   ]
  },
  {
   "cell_type": "code",
   "execution_count": 160,
   "id": "ca03b59a",
   "metadata": {},
   "outputs": [
    {
     "data": {
      "text/plain": [
       "'vivek'"
      ]
     },
     "execution_count": 160,
     "metadata": {},
     "output_type": "execute_result"
    }
   ],
   "source": [
    "d[23]"
   ]
  },
  {
   "cell_type": "code",
   "execution_count": 161,
   "id": "15b1742e",
   "metadata": {},
   "outputs": [
    {
     "data": {
      "text/plain": [
       "'sachin'"
      ]
     },
     "execution_count": 161,
     "metadata": {},
     "output_type": "execute_result"
    }
   ],
   "source": [
    "d[67]"
   ]
  },
  {
   "cell_type": "code",
   "execution_count": 162,
   "id": "8ef78630",
   "metadata": {},
   "outputs": [],
   "source": [
    "d[\"hello\"] = \"world\""
   ]
  },
  {
   "cell_type": "code",
   "execution_count": 163,
   "id": "06d88a93",
   "metadata": {},
   "outputs": [
    {
     "data": {
      "text/plain": [
       "{23: 'vivek', 45: 'aditya', 67: 'sachin', 'ok': 'sachin', 'hello': 'world'}"
      ]
     },
     "execution_count": 163,
     "metadata": {},
     "output_type": "execute_result"
    }
   ],
   "source": [
    "d"
   ]
  },
  {
   "cell_type": "code",
   "execution_count": 165,
   "id": "4666838c",
   "metadata": {},
   "outputs": [
    {
     "data": {
      "text/plain": [
       "dict_keys([23, 45, 67, 'ok', 'hello'])"
      ]
     },
     "execution_count": 165,
     "metadata": {},
     "output_type": "execute_result"
    }
   ],
   "source": [
    "d.keys()"
   ]
  },
  {
   "cell_type": "code",
   "execution_count": 166,
   "id": "34f932cb",
   "metadata": {},
   "outputs": [
    {
     "data": {
      "text/plain": [
       "dict_values(['vivek', 'aditya', 'sachin', 'sachin', 'world'])"
      ]
     },
     "execution_count": 166,
     "metadata": {},
     "output_type": "execute_result"
    }
   ],
   "source": [
    "d.values()"
   ]
  },
  {
   "cell_type": "code",
   "execution_count": 167,
   "id": "22ebacbb",
   "metadata": {},
   "outputs": [],
   "source": [
    "d[90] = [\"new\", \"value\"]"
   ]
  },
  {
   "cell_type": "code",
   "execution_count": 168,
   "id": "4ded4fc1",
   "metadata": {},
   "outputs": [
    {
     "data": {
      "text/plain": [
       "{23: 'vivek',\n",
       " 45: 'aditya',\n",
       " 67: 'sachin',\n",
       " 'ok': 'sachin',\n",
       " 'hello': 'world',\n",
       " 90: ['new', 'value']}"
      ]
     },
     "execution_count": 168,
     "metadata": {},
     "output_type": "execute_result"
    }
   ],
   "source": [
    "d"
   ]
  },
  {
   "cell_type": "code",
   "execution_count": null,
   "id": "0b0ac136",
   "metadata": {},
   "outputs": [],
   "source": []
  }
 ],
 "metadata": {
  "kernelspec": {
   "display_name": "base",
   "language": "python",
   "name": "python3"
  },
  "language_info": {
   "codemirror_mode": {
    "name": "ipython",
    "version": 3
   },
   "file_extension": ".py",
   "mimetype": "text/x-python",
   "name": "python",
   "nbconvert_exporter": "python",
   "pygments_lexer": "ipython3",
   "version": "3.13.5"
  }
 },
 "nbformat": 4,
 "nbformat_minor": 5
}
