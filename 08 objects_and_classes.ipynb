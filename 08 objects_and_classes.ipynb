{
 "cells": [
  {
   "cell_type": "code",
   "execution_count": 2,
   "id": "3b375dc0",
   "metadata": {},
   "outputs": [],
   "source": [
    "class Person:\n",
    "    pass\n"
   ]
  },
  {
   "cell_type": "code",
   "execution_count": 3,
   "id": "878cf960",
   "metadata": {},
   "outputs": [],
   "source": [
    "# object of Person class\n",
    "p1 = Person()"
   ]
  },
  {
   "cell_type": "code",
   "execution_count": 4,
   "id": "0ce84469",
   "metadata": {},
   "outputs": [],
   "source": [
    "p2 = Person()"
   ]
  },
  {
   "cell_type": "code",
   "execution_count": 5,
   "id": "9e766376",
   "metadata": {},
   "outputs": [
    {
     "name": "stdout",
     "output_type": "stream",
     "text": [
      "<__main__.Person object at 0x7fd2e03c92b0>\n",
      "<__main__.Person object at 0x7fd2e026fd90>\n"
     ]
    }
   ],
   "source": [
    "print(p1)\n",
    "print(p2)"
   ]
  },
  {
   "cell_type": "code",
   "execution_count": 6,
   "id": "7f73cb5f",
   "metadata": {},
   "outputs": [],
   "source": [
    "# instance variable\n",
    "p1.name = \"ankit\"\n",
    "p1.age = 45"
   ]
  },
  {
   "cell_type": "code",
   "execution_count": 7,
   "id": "adbd6924",
   "metadata": {},
   "outputs": [],
   "source": [
    "p2.name = \"riya\"\n",
    "p2.age = 30"
   ]
  },
  {
   "cell_type": "code",
   "execution_count": 8,
   "id": "961acff1",
   "metadata": {},
   "outputs": [
    {
     "name": "stdout",
     "output_type": "stream",
     "text": [
      "ankit\n"
     ]
    }
   ],
   "source": [
    "print(p1.name)"
   ]
  },
  {
   "cell_type": "code",
   "execution_count": 9,
   "id": "09fffd04",
   "metadata": {},
   "outputs": [
    {
     "name": "stdout",
     "output_type": "stream",
     "text": [
      "30\n"
     ]
    }
   ],
   "source": [
    "print(p2.age)"
   ]
  },
  {
   "cell_type": "code",
   "execution_count": 19,
   "id": "b0787a39",
   "metadata": {},
   "outputs": [],
   "source": [
    "class Person:\n",
    "\n",
    "    def __init__ (self, n, a):\n",
    "        self.name = n\n",
    "        self.age = a\n",
    "\n",
    "    def show_info(self):\n",
    "        print(\"info =>>\\n name:\", self.name,\"age:\", self.age)\n",
    "\n",
    "    def iseligible(self):\n",
    "        if self.age > 41:\n",
    "            print(\"Eligible\")\n",
    "        else:\n",
    "            print(\"not eligible\")"
   ]
  },
  {
   "cell_type": "code",
   "execution_count": 20,
   "id": "b027ef2c",
   "metadata": {},
   "outputs": [],
   "source": [
    "p1 = Person(\"ankit\", 45)\n",
    "p2 = Person(\"riya\", 40)"
   ]
  },
  {
   "cell_type": "code",
   "execution_count": 21,
   "id": "bab2ac77",
   "metadata": {},
   "outputs": [
    {
     "name": "stdout",
     "output_type": "stream",
     "text": [
      "info =>>\n",
      " name: ankit age: 45\n"
     ]
    }
   ],
   "source": [
    "p1.show_info()"
   ]
  },
  {
   "cell_type": "code",
   "execution_count": 22,
   "id": "dbf666ee",
   "metadata": {},
   "outputs": [
    {
     "name": "stdout",
     "output_type": "stream",
     "text": [
      "info =>>\n",
      " name: riya age: 40\n"
     ]
    }
   ],
   "source": [
    "p2.show_info()"
   ]
  },
  {
   "cell_type": "code",
   "execution_count": 23,
   "id": "06a4211f",
   "metadata": {},
   "outputs": [],
   "source": [
    "\"\"\"\n",
    "add a method in above code which check if a person is eligible for a scheme\n",
    "criteria -> age > 41\n",
    "\n",
    "\n",
    "\"\"\";"
   ]
  },
  {
   "cell_type": "code",
   "execution_count": 24,
   "id": "ccee0489",
   "metadata": {},
   "outputs": [
    {
     "name": "stdout",
     "output_type": "stream",
     "text": [
      "not eligible\n"
     ]
    }
   ],
   "source": [
    "p2.iseligible()"
   ]
  },
  {
   "cell_type": "code",
   "execution_count": 25,
   "id": "d58c0e43",
   "metadata": {},
   "outputs": [
    {
     "name": "stdout",
     "output_type": "stream",
     "text": [
      "Eligible\n"
     ]
    }
   ],
   "source": [
    "p1.iseligible()"
   ]
  },
  {
   "cell_type": "code",
   "execution_count": null,
   "id": "106e5ee7",
   "metadata": {},
   "outputs": [],
   "source": []
  }
 ],
 "metadata": {
  "kernelspec": {
   "display_name": "base",
   "language": "python",
   "name": "python3"
  },
  "language_info": {
   "codemirror_mode": {
    "name": "ipython",
    "version": 3
   },
   "file_extension": ".py",
   "mimetype": "text/x-python",
   "name": "python",
   "nbconvert_exporter": "python",
   "pygments_lexer": "ipython3",
   "version": "3.13.5"
  }
 },
 "nbformat": 4,
 "nbformat_minor": 5
}
