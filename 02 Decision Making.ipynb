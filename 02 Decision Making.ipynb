{
 "cells": [
  {
   "cell_type": "markdown",
   "id": "e951e344-433b-4795-8264-c8a3d8514024",
   "metadata": {},
   "source": [
    "##### if statement"
   ]
  },
  {
   "cell_type": "code",
   "execution_count": 2,
   "id": "cbc655e6-207a-4594-ad61-84165bf5a1c1",
   "metadata": {},
   "outputs": [
    {
     "name": "stdin",
     "output_type": "stream",
     "text": [
      "Enter number: 23\n"
     ]
    }
   ],
   "source": [
    "num = int(input(\"Enter number:\"))\n",
    "if num > 50:\n",
    "    print(\"Yes\")"
   ]
  },
  {
   "cell_type": "code",
   "execution_count": 3,
   "id": "df61f95f-d49c-43f3-bc87-61e139342b8f",
   "metadata": {},
   "outputs": [
    {
     "name": "stdin",
     "output_type": "stream",
     "text": [
      "Enter number: 67\n"
     ]
    },
    {
     "name": "stdout",
     "output_type": "stream",
     "text": [
      "Yes\n",
      "Done\n"
     ]
    }
   ],
   "source": [
    "num = int(input(\"Enter number:\"))\n",
    "if num > 50:\n",
    "    print(\"Yes\")\n",
    "print(\"Done\")"
   ]
  },
  {
   "cell_type": "code",
   "execution_count": 4,
   "id": "cbdb8876-4bb9-47a6-aa1c-c10e920e018d",
   "metadata": {},
   "outputs": [
    {
     "name": "stdin",
     "output_type": "stream",
     "text": [
      "Enter number: 78\n"
     ]
    },
    {
     "name": "stdout",
     "output_type": "stream",
     "text": [
      "Positive\n"
     ]
    }
   ],
   "source": [
    "# Check to see if the number is positive or negative\n",
    "num = int(input(\"Enter number:\"))\n",
    "if num > 0:\n",
    "    print(\"Positive\")\n",
    "else:\n",
    "    print(\"Negative\")"
   ]
  },
  {
   "cell_type": "code",
   "execution_count": 5,
   "id": "3a3a367c-d27a-4fef-a33b-65ca63b41ca7",
   "metadata": {},
   "outputs": [
    {
     "name": "stdin",
     "output_type": "stream",
     "text": [
      "Enter number: 67\n"
     ]
    },
    {
     "name": "stdout",
     "output_type": "stream",
     "text": [
      "Positive\n",
      "OK\n",
      "Completed!\n"
     ]
    }
   ],
   "source": [
    "# Check to see if the number is positive or negative\n",
    "num = int(input(\"Enter number:\"))\n",
    "if num > 0:\n",
    "    print(\"Positive\")\n",
    "    print(\"OK\")\n",
    "else:\n",
    "    print(\"Negative\")\n",
    "    print(\"Done.\")\n",
    "\n",
    "print(\"Completed!\")"
   ]
  },
  {
   "cell_type": "code",
   "execution_count": 6,
   "id": "96222b7d-92d1-40c2-8621-19e6870797a9",
   "metadata": {},
   "outputs": [
    {
     "data": {
      "text/plain": [
       "0"
      ]
     },
     "execution_count": 6,
     "metadata": {},
     "output_type": "execute_result"
    }
   ],
   "source": [
    "56 % 2"
   ]
  },
  {
   "cell_type": "code",
   "execution_count": 7,
   "id": "7fbabcf7-b6fa-4bf7-96ce-8b187748702c",
   "metadata": {},
   "outputs": [
    {
     "data": {
      "text/plain": [
       "1"
      ]
     },
     "execution_count": 7,
     "metadata": {},
     "output_type": "execute_result"
    }
   ],
   "source": [
    "57 % 2"
   ]
  },
  {
   "cell_type": "code",
   "execution_count": 8,
   "id": "df0c1c65-26af-4193-ae69-b42d7905aef5",
   "metadata": {},
   "outputs": [
    {
     "name": "stdin",
     "output_type": "stream",
     "text": [
      "Enter number: 57\n"
     ]
    },
    {
     "name": "stdout",
     "output_type": "stream",
     "text": [
      "Odd\n"
     ]
    }
   ],
   "source": [
    "# Check to see if the number is even or odd\n",
    "num = int(input(\"Enter number:\"))\n",
    "if num % 2 == 0:\n",
    "    print(\"Even\")\n",
    "else:\n",
    "    print(\"Odd\")"
   ]
  },
  {
   "cell_type": "code",
   "execution_count": 11,
   "id": "11b691fa-35e5-4ec9-93d3-397e7e465bcf",
   "metadata": {},
   "outputs": [
    {
     "name": "stdin",
     "output_type": "stream",
     "text": [
      "Enter number: 78\n"
     ]
    },
    {
     "name": "stdout",
     "output_type": "stream",
     "text": [
      "Positive\n"
     ]
    }
   ],
   "source": [
    "# Check to see if the number is positive or negative\n",
    "num = int(input(\"Enter number:\"))\n",
    "if num > 0:                       # Compulsory, Condition, Non-repeatable\n",
    "    print(\"Positive\")\n",
    "elif num == 0:                    # Optional, Condition, Repeatable\n",
    "    print(\"Zero!\")\n",
    "else:                             # Optional, No-Condition, Non-repeatable\n",
    "    print(\"Negative\")"
   ]
  },
  {
   "cell_type": "code",
   "execution_count": 12,
   "id": "08abd9fc-dbfb-4e3a-b453-bf2e1c4d008f",
   "metadata": {},
   "outputs": [
    {
     "name": "stdin",
     "output_type": "stream",
     "text": [
      "Enter data 567\n"
     ]
    },
    {
     "name": "stdout",
     "output_type": "stream",
     "text": [
      "It is number!\n"
     ]
    }
   ],
   "source": [
    "# Check whether the entered data is number or not?\n",
    "data = input(\"Enter data\")\n",
    "\n",
    "if data.isdigit():\n",
    "    print(\"It is number!\")\n",
    "else:\n",
    "    print(\"It is NOT number!\")"
   ]
  },
  {
   "cell_type": "code",
   "execution_count": 13,
   "id": "b3ab1f1d-16ff-498c-b08e-f00987e44131",
   "metadata": {},
   "outputs": [],
   "source": [
    "name = \"Tushar \""
   ]
  },
  {
   "cell_type": "code",
   "execution_count": 14,
   "id": "234200a2-4e33-419e-88f2-e85f6bd7f27d",
   "metadata": {},
   "outputs": [
    {
     "data": {
      "text/plain": [
       "'Tushar '"
      ]
     },
     "execution_count": 14,
     "metadata": {},
     "output_type": "execute_result"
    }
   ],
   "source": [
    "name"
   ]
  },
  {
   "cell_type": "code",
   "execution_count": 15,
   "id": "7890e185-7f34-40c7-9b67-0726f7f5324c",
   "metadata": {},
   "outputs": [
    {
     "data": {
      "text/plain": [
       "'Tushar'"
      ]
     },
     "execution_count": 15,
     "metadata": {},
     "output_type": "execute_result"
    }
   ],
   "source": [
    "name.strip()"
   ]
  },
  {
   "cell_type": "code",
   "execution_count": 17,
   "id": "3ace962e-a2e2-4379-99c5-91d30ee16531",
   "metadata": {},
   "outputs": [
    {
     "data": {
      "text/plain": [
       "True"
      ]
     },
     "execution_count": 17,
     "metadata": {},
     "output_type": "execute_result"
    }
   ],
   "source": [
    "name.startswith('T')"
   ]
  },
  {
   "cell_type": "markdown",
   "id": "b2fca77c-70a8-4b89-b6ed-d7fe9278ffdd",
   "metadata": {},
   "source": [
    "Write a Python program that reads a sentence and determines if it is declarative (ends with a period .), interrogative (ends with a question mark ?), or exclamatory (ends with an exclamation mark !)."
   ]
  },
  {
   "cell_type": "code",
   "execution_count": 21,
   "id": "3edb34d8-330a-4958-9131-c11322135724",
   "metadata": {},
   "outputs": [
    {
     "name": "stdin",
     "output_type": "stream",
     "text": [
      "Enter a sentence:  Hello how are you?            \n"
     ]
    },
    {
     "name": "stdout",
     "output_type": "stream",
     "text": [
      "This is an interrogative sentence. (It asks a question).\n"
     ]
    }
   ],
   "source": [
    "# read the sentence\n",
    "sentence = input(\"Enter a sentence: \").strip()\n",
    "if sentence.endswith('.'):\n",
    "    print(\"This is a declarative sentence. (It makes a statement).\")\n",
    "elif sentence.endswith('?'):\n",
    "    print(\"This is an interrogative sentence. (It asks a question).\")\n",
    "elif sentence.endswith('!'):\n",
    "    print(\"This is an exclamatory sentence. (It shows strong emotion).\")\n",
    "else:\n",
    "    print(\"This sentence type is not recognized (missing punctuation).\")"
   ]
  },
  {
   "cell_type": "markdown",
   "id": "c4d4028d-592b-4920-930f-dff765753190",
   "metadata": {},
   "source": [
    "##### Plural Convertor"
   ]
  },
  {
   "cell_type": "markdown",
   "id": "ef325ad7-454c-4aa8-a1a7-2232af61111a",
   "metadata": {},
   "source": [
    "Problem Statement:\n",
    "Write a program that takes a singular English noun and applies a simplified pluralization rule:\n",
    "\n",
    "    If the word ends in \"s\", \"x\", or \"z\", add \"es\".\n",
    "\n",
    "    If the word ends in \"y\", change \"y\" to \"ies\".\n",
    "\n",
    "    Otherwise, just add \"s\"."
   ]
  },
  {
   "cell_type": "code",
   "execution_count": 30,
   "id": "9de9e324-152f-4c8e-86a4-2379bfc2ff56",
   "metadata": {},
   "outputs": [
    {
     "name": "stdin",
     "output_type": "stream",
     "text": [
      "Enter a singular noun:  bat\n"
     ]
    },
    {
     "name": "stdout",
     "output_type": "stream",
     "text": [
      "The plural of bat is bats\n"
     ]
    }
   ],
   "source": [
    "# Read a noun from user\n",
    "noun = input(\"Enter a singular noun: \").lower()\n",
    "\n",
    "if noun.endswith(('s', 'x', 'z')):\n",
    "    plural_noun = noun + \"es\"\n",
    "    print(\"The plural of\",noun,\"is\",plural_noun)\n",
    "elif noun.endswith('y'):\n",
    "    plural_noun = noun[:-1] + 'ies'\n",
    "    print(\"The plural of\",noun,\"is\",plural_noun)\n",
    "else:\n",
    "    plural_noun = noun + \"s\"\n",
    "    print(\"The plural of\",noun,\"is\",plural_noun)"
   ]
  },
  {
   "cell_type": "code",
   "execution_count": 32,
   "id": "9eecfd1c-ea2d-4150-9f76-b08ba9d3ab7e",
   "metadata": {},
   "outputs": [
    {
     "name": "stdin",
     "output_type": "stream",
     "text": [
      "Enter a singular noun:  Eye\n"
     ]
    },
    {
     "name": "stdout",
     "output_type": "stream",
     "text": [
      "An eye\n"
     ]
    }
   ],
   "source": [
    "# Read a noun and find suitable determiner for this\n",
    "noun = input(\"Enter a singular noun: \").lower()\n",
    "\n",
    "if noun.startswith(('a','e','i','o','u')):\n",
    "    print('An', noun)\n",
    "else:\n",
    "    print('A', noun)"
   ]
  },
  {
   "cell_type": "code",
   "execution_count": null,
   "id": "96c25381-810d-464e-86ba-aae0b2a7321a",
   "metadata": {},
   "outputs": [],
   "source": []
  }
 ],
 "metadata": {
  "kernelspec": {
   "display_name": "Python 3 (ipykernel)",
   "language": "python",
   "name": "python3"
  },
  "language_info": {
   "codemirror_mode": {
    "name": "ipython",
    "version": 3
   },
   "file_extension": ".py",
   "mimetype": "text/x-python",
   "name": "python",
   "nbconvert_exporter": "python",
   "pygments_lexer": "ipython3",
   "version": "3.10.12"
  }
 },
 "nbformat": 4,
 "nbformat_minor": 5
}
