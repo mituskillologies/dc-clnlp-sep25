{
 "cells": [
  {
   "cell_type": "code",
   "execution_count": 2,
   "id": "6d4ad1ef-864d-40df-a709-ffe22c2a6115",
   "metadata": {},
   "outputs": [
    {
     "name": "stdout",
     "output_type": "stream",
     "text": [
      "Defaulting to user installation because normal site-packages is not writeable\n",
      "Requirement already satisfied: indic_transliteration in /home/mitu/.local/lib/python3.10/site-packages (2.3.59)\n",
      "Requirement already satisfied: backports.functools-lru-cache in /home/mitu/.local/lib/python3.10/site-packages (from indic_transliteration) (2.0.0)\n",
      "Requirement already satisfied: regex in /home/mitu/.local/lib/python3.10/site-packages (from indic_transliteration) (2023.12.25)\n",
      "Requirement already satisfied: typer in /home/mitu/.local/lib/python3.10/site-packages (from indic_transliteration) (0.9.4)\n",
      "Requirement already satisfied: toml in /home/mitu/.local/lib/python3.10/site-packages (from indic_transliteration) (0.10.2)\n",
      "Requirement already satisfied: roman in /home/mitu/.local/lib/python3.10/site-packages (from indic_transliteration) (4.1)\n",
      "Requirement already satisfied: click<9.0.0,>=7.1.1 in /home/mitu/.local/lib/python3.10/site-packages (from typer->indic_transliteration) (8.1.7)\n",
      "Requirement already satisfied: typing-extensions>=3.7.4.3 in /home/mitu/.local/lib/python3.10/site-packages (from typer->indic_transliteration) (4.12.2)\n",
      "Note: you may need to restart the kernel to use updated packages.\n"
     ]
    }
   ],
   "source": [
    "pip install indic_transliteration"
   ]
  },
  {
   "cell_type": "code",
   "execution_count": 3,
   "id": "61e7ad16-2841-4613-9c20-bfdce935aab3",
   "metadata": {},
   "outputs": [],
   "source": [
    "from indic_transliteration import sanscript\n",
    "from indic_transliteration.sanscript import transliterate"
   ]
  },
  {
   "cell_type": "code",
   "execution_count": 4,
   "id": "bbef9d8a-6c1c-4e9a-9f9e-f8e32beb7e36",
   "metadata": {},
   "outputs": [],
   "source": [
    "data = 'tushar kute'"
   ]
  },
  {
   "cell_type": "code",
   "execution_count": 5,
   "id": "5126c5cb-3f61-43c4-9f89-5a3c54b6b5b9",
   "metadata": {},
   "outputs": [
    {
     "data": {
      "text/plain": [
       "'तुशर् कुते'"
      ]
     },
     "execution_count": 5,
     "metadata": {},
     "output_type": "execute_result"
    }
   ],
   "source": [
    "transliterate(data, sanscript.ITRANS, sanscript.DEVANAGARI)"
   ]
  },
  {
   "cell_type": "code",
   "execution_count": 12,
   "id": "b6f93976-63a7-4bf5-b112-16b679378b4f",
   "metadata": {},
   "outputs": [],
   "source": [
    "data = 'tuShaara kuTe'"
   ]
  },
  {
   "cell_type": "code",
   "execution_count": 13,
   "id": "33603e83-c146-43ad-8100-5da387566818",
   "metadata": {},
   "outputs": [
    {
     "data": {
      "text/plain": [
       "'तुषार कुटे'"
      ]
     },
     "execution_count": 13,
     "metadata": {},
     "output_type": "execute_result"
    }
   ],
   "source": [
    "transliterate(data, sanscript.ITRANS, sanscript.DEVANAGARI)"
   ]
  },
  {
   "cell_type": "code",
   "execution_count": 14,
   "id": "33a57542-f2e9-45c9-92e9-3e1345284b77",
   "metadata": {},
   "outputs": [
    {
     "data": {
      "text/plain": [
       "'તુષાર કુટે'"
      ]
     },
     "execution_count": 14,
     "metadata": {},
     "output_type": "execute_result"
    }
   ],
   "source": [
    "transliterate(data, sanscript.ITRANS, sanscript.GUJARATI)"
   ]
  },
  {
   "cell_type": "code",
   "execution_count": 15,
   "id": "c5cac2c0-78de-4e2f-98b9-0955e77a2d6c",
   "metadata": {},
   "outputs": [
    {
     "data": {
      "text/plain": [
       "'துஷார குடே'"
      ]
     },
     "execution_count": 15,
     "metadata": {},
     "output_type": "execute_result"
    }
   ],
   "source": [
    "transliterate(data, sanscript.ITRANS, sanscript.TAMIL)"
   ]
  },
  {
   "cell_type": "code",
   "execution_count": 16,
   "id": "334304d4-c89c-4d7d-a734-163eac604f61",
   "metadata": {},
   "outputs": [
    {
     "data": {
      "text/plain": [
       "'তুষার কুটে'"
      ]
     },
     "execution_count": 16,
     "metadata": {},
     "output_type": "execute_result"
    }
   ],
   "source": [
    "transliterate(data, sanscript.ITRANS, sanscript.BENGALI)"
   ]
  },
  {
   "cell_type": "code",
   "execution_count": 17,
   "id": "4cc3386e-c6d9-4aed-9668-1553442b89f6",
   "metadata": {},
   "outputs": [],
   "source": [
    "data = transliterate(data, sanscript.ITRANS, sanscript.DEVANAGARI)"
   ]
  },
  {
   "cell_type": "code",
   "execution_count": 18,
   "id": "bc37d1cf-23bf-4d8c-a20d-9dd17263b93f",
   "metadata": {},
   "outputs": [
    {
     "name": "stdout",
     "output_type": "stream",
     "text": [
      "तुषार कुटे\n"
     ]
    }
   ],
   "source": [
    "print(data)"
   ]
  },
  {
   "cell_type": "code",
   "execution_count": null,
   "id": "0f4c4401-eb39-4d96-8e4e-9acff7d1dba6",
   "metadata": {},
   "outputs": [],
   "source": []
  }
 ],
 "metadata": {
  "kernelspec": {
   "display_name": "Python 3 (ipykernel)",
   "language": "python",
   "name": "python3"
  },
  "language_info": {
   "codemirror_mode": {
    "name": "ipython",
    "version": 3
   },
   "file_extension": ".py",
   "mimetype": "text/x-python",
   "name": "python",
   "nbconvert_exporter": "python",
   "pygments_lexer": "ipython3",
   "version": "3.10.12"
  }
 },
 "nbformat": 4,
 "nbformat_minor": 5
}
