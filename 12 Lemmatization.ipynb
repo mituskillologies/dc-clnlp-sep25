{
 "cells": [
  {
   "cell_type": "code",
   "execution_count": 1,
   "id": "a31a4d93-fb69-4c64-bb77-9a0dcfda0665",
   "metadata": {},
   "outputs": [],
   "source": [
    "from nltk.stem import WordNetLemmatizer"
   ]
  },
  {
   "cell_type": "code",
   "execution_count": 2,
   "id": "45fd3f83-7be4-42fc-a688-de9b63957812",
   "metadata": {},
   "outputs": [],
   "source": [
    "wnl = WordNetLemmatizer()"
   ]
  },
  {
   "cell_type": "code",
   "execution_count": 3,
   "id": "5bee6e88-96d8-4951-ac7e-18686a65df42",
   "metadata": {},
   "outputs": [
    {
     "data": {
      "text/plain": [
       "'work'"
      ]
     },
     "execution_count": 3,
     "metadata": {},
     "output_type": "execute_result"
    }
   ],
   "source": [
    "wnl.lemmatize('working', pos = 'v')"
   ]
  },
  {
   "cell_type": "code",
   "execution_count": 5,
   "id": "84323aa2-ced8-4c6a-983a-84d6cd50b5d0",
   "metadata": {},
   "outputs": [
    {
     "data": {
      "text/plain": [
       "'child'"
      ]
     },
     "execution_count": 5,
     "metadata": {},
     "output_type": "execute_result"
    }
   ],
   "source": [
    "wnl.lemmatize('children', pos = 'n')"
   ]
  },
  {
   "cell_type": "code",
   "execution_count": 7,
   "id": "896a40b7-ecca-4cca-b709-c3c432cc99c6",
   "metadata": {},
   "outputs": [
    {
     "data": {
      "text/plain": [
       "'big'"
      ]
     },
     "execution_count": 7,
     "metadata": {},
     "output_type": "execute_result"
    }
   ],
   "source": [
    "wnl.lemmatize('biggest', pos = 'a')"
   ]
  },
  {
   "cell_type": "code",
   "execution_count": 8,
   "id": "d6636b6a-982f-42fa-bbe9-8b726c2dda1e",
   "metadata": {},
   "outputs": [],
   "source": [
    "# n -> noun\n",
    "# v -> verb\n",
    "# a -> adjective\n",
    "# r -> adverb"
   ]
  },
  {
   "cell_type": "code",
   "execution_count": 9,
   "id": "a6fa6ab3-1134-4940-b678-adf4346f32f4",
   "metadata": {},
   "outputs": [
    {
     "data": {
      "text/plain": [
       "'be'"
      ]
     },
     "execution_count": 9,
     "metadata": {},
     "output_type": "execute_result"
    }
   ],
   "source": [
    "wnl.lemmatize('is', pos = 'v')"
   ]
  },
  {
   "cell_type": "code",
   "execution_count": 10,
   "id": "291e31b3-02c3-448a-977a-ccc19a9390e0",
   "metadata": {},
   "outputs": [
    {
     "data": {
      "text/plain": [
       "'finally'"
      ]
     },
     "execution_count": 10,
     "metadata": {},
     "output_type": "execute_result"
    }
   ],
   "source": [
    "wnl.lemmatize('finally', pos = 'r')"
   ]
  },
  {
   "cell_type": "code",
   "execution_count": 11,
   "id": "e1ccbc5a-46a6-4a9a-98f3-a0bdac1892cc",
   "metadata": {},
   "outputs": [],
   "source": [
    "words1 = 'played','playing','plays','player'\n",
    "words2 = 'get','got','getting'\n",
    "words3 = 'bad','worse','worst'\n",
    "words4 = 'big','bigger','biggest'\n",
    "words5 = 'go','gone','went','going'"
   ]
  },
  {
   "cell_type": "code",
   "execution_count": 12,
   "id": "1ca68e77-5c34-4c5d-996e-5d338a0302de",
   "metadata": {},
   "outputs": [
    {
     "name": "stdout",
     "output_type": "stream",
     "text": [
      "play\n",
      "play\n",
      "play\n",
      "player\n"
     ]
    }
   ],
   "source": [
    "for word in words1:\n",
    "    print(wnl.lemmatize(word, pos = 'v'))"
   ]
  },
  {
   "cell_type": "code",
   "execution_count": 13,
   "id": "2e3bfa46-63ff-4990-8bbd-b1a533a2a7ba",
   "metadata": {},
   "outputs": [
    {
     "name": "stdout",
     "output_type": "stream",
     "text": [
      "get\n",
      "get\n",
      "get\n"
     ]
    }
   ],
   "source": [
    "for word in words2:\n",
    "    print(wnl.lemmatize(word, pos = 'v'))"
   ]
  },
  {
   "cell_type": "code",
   "execution_count": 14,
   "id": "0a4e6e96-64d0-41b1-8c12-b1e105360458",
   "metadata": {},
   "outputs": [
    {
     "name": "stdout",
     "output_type": "stream",
     "text": [
      "bad\n",
      "bad\n",
      "bad\n"
     ]
    }
   ],
   "source": [
    "for word in words3:\n",
    "    print(wnl.lemmatize(word, pos = 'a'))"
   ]
  },
  {
   "cell_type": "code",
   "execution_count": 15,
   "id": "4098265d-cc66-4798-8170-ff34e4383e4f",
   "metadata": {},
   "outputs": [
    {
     "name": "stdout",
     "output_type": "stream",
     "text": [
      "big\n",
      "big\n",
      "big\n"
     ]
    }
   ],
   "source": [
    "for word in words4:\n",
    "    print(wnl.lemmatize(word, pos = 'a'))"
   ]
  },
  {
   "cell_type": "code",
   "execution_count": 16,
   "id": "fadee103-2628-4f88-a788-e76c5f153083",
   "metadata": {},
   "outputs": [
    {
     "name": "stdout",
     "output_type": "stream",
     "text": [
      "go\n",
      "go\n",
      "go\n",
      "go\n"
     ]
    }
   ],
   "source": [
    "for word in words5:\n",
    "    print(wnl.lemmatize(word, pos = 'v'))"
   ]
  },
  {
   "cell_type": "code",
   "execution_count": null,
   "id": "18a192bf-9565-43d0-ad48-1eca198e9fea",
   "metadata": {},
   "outputs": [],
   "source": []
  }
 ],
 "metadata": {
  "kernelspec": {
   "display_name": "Python 3 (ipykernel)",
   "language": "python",
   "name": "python3"
  },
  "language_info": {
   "codemirror_mode": {
    "name": "ipython",
    "version": 3
   },
   "file_extension": ".py",
   "mimetype": "text/x-python",
   "name": "python",
   "nbconvert_exporter": "python",
   "pygments_lexer": "ipython3",
   "version": "3.10.12"
  }
 },
 "nbformat": 4,
 "nbformat_minor": 5
}
