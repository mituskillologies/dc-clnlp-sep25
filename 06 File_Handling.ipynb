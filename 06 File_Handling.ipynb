{
 "cells": [
  {
   "cell_type": "code",
   "execution_count": 1,
   "id": "28dd5b68",
   "metadata": {},
   "outputs": [],
   "source": [
    "# create a text file => sample.txt\n",
    "# write some text in it"
   ]
  },
  {
   "cell_type": "code",
   "execution_count": 2,
   "id": "5709cef8",
   "metadata": {},
   "outputs": [
    {
     "data": {
      "text/plain": [
       "'/home/aditya/Deccan'"
      ]
     },
     "execution_count": 2,
     "metadata": {},
     "output_type": "execute_result"
    }
   ],
   "source": [
    "pwd"
   ]
  },
  {
   "cell_type": "code",
   "execution_count": 3,
   "id": "cc6f6bc2",
   "metadata": {},
   "outputs": [],
   "source": [
    "f = open(\"sample.txt\", \"r\")"
   ]
  },
  {
   "cell_type": "code",
   "execution_count": 4,
   "id": "29dd6656",
   "metadata": {},
   "outputs": [
    {
     "data": {
      "text/plain": [
       "<_io.TextIOWrapper name='sample.txt' mode='r' encoding='UTF-8'>"
      ]
     },
     "execution_count": 4,
     "metadata": {},
     "output_type": "execute_result"
    }
   ],
   "source": [
    "f"
   ]
  },
  {
   "cell_type": "code",
   "execution_count": 6,
   "id": "3f6f6765",
   "metadata": {},
   "outputs": [
    {
     "data": {
      "text/plain": [
       "True"
      ]
     },
     "execution_count": 6,
     "metadata": {},
     "output_type": "execute_result"
    }
   ],
   "source": [
    "f.readable()"
   ]
  },
  {
   "cell_type": "code",
   "execution_count": 7,
   "id": "86b0c9f6",
   "metadata": {},
   "outputs": [
    {
     "data": {
      "text/plain": [
       "'Welcome\\n'"
      ]
     },
     "execution_count": 7,
     "metadata": {},
     "output_type": "execute_result"
    }
   ],
   "source": [
    "f.readline()"
   ]
  },
  {
   "cell_type": "code",
   "execution_count": 8,
   "id": "20d55c13",
   "metadata": {},
   "outputs": [
    {
     "data": {
      "text/plain": [
       "'hello everyone\\n'"
      ]
     },
     "execution_count": 8,
     "metadata": {},
     "output_type": "execute_result"
    }
   ],
   "source": [
    "f.readline()"
   ]
  },
  {
   "cell_type": "code",
   "execution_count": 9,
   "id": "765442be",
   "metadata": {},
   "outputs": [
    {
     "data": {
      "text/plain": [
       "'this is the file handling'"
      ]
     },
     "execution_count": 9,
     "metadata": {},
     "output_type": "execute_result"
    }
   ],
   "source": [
    "f.readline()"
   ]
  },
  {
   "cell_type": "code",
   "execution_count": 10,
   "id": "f02d0067",
   "metadata": {},
   "outputs": [
    {
     "data": {
      "text/plain": [
       "''"
      ]
     },
     "execution_count": 10,
     "metadata": {},
     "output_type": "execute_result"
    }
   ],
   "source": [
    "f.readline()"
   ]
  },
  {
   "cell_type": "code",
   "execution_count": 11,
   "id": "0f5e0bb7",
   "metadata": {},
   "outputs": [
    {
     "data": {
      "text/plain": [
       "[]"
      ]
     },
     "execution_count": 11,
     "metadata": {},
     "output_type": "execute_result"
    }
   ],
   "source": [
    "f.readlines()"
   ]
  },
  {
   "cell_type": "code",
   "execution_count": 12,
   "id": "0b938223",
   "metadata": {},
   "outputs": [],
   "source": [
    "f = open(\"sample.txt\", \"r\")"
   ]
  },
  {
   "cell_type": "code",
   "execution_count": 13,
   "id": "c53c8d54",
   "metadata": {},
   "outputs": [
    {
     "data": {
      "text/plain": [
       "['Welcome\\n', 'hello everyone\\n', 'this is the file handling']"
      ]
     },
     "execution_count": 13,
     "metadata": {},
     "output_type": "execute_result"
    }
   ],
   "source": [
    "lines = f.readlines()\n",
    "lines"
   ]
  },
  {
   "cell_type": "code",
   "execution_count": 14,
   "id": "49dcee82",
   "metadata": {},
   "outputs": [
    {
     "name": "stdout",
     "output_type": "stream",
     "text": [
      "Welcome\n",
      "\n",
      "hello everyone\n",
      "\n",
      "this is the file handling\n"
     ]
    }
   ],
   "source": [
    "for line in lines:\n",
    "    print(line)"
   ]
  },
  {
   "cell_type": "code",
   "execution_count": 18,
   "id": "93cf6083",
   "metadata": {},
   "outputs": [],
   "source": [
    "f = open(\"sample.txt\", \"r\")"
   ]
  },
  {
   "cell_type": "code",
   "execution_count": 19,
   "id": "538c334b",
   "metadata": {},
   "outputs": [],
   "source": [
    "data = f.read()"
   ]
  },
  {
   "cell_type": "code",
   "execution_count": 21,
   "id": "7b89bfa4",
   "metadata": {},
   "outputs": [
    {
     "name": "stdout",
     "output_type": "stream",
     "text": [
      "Welcome\n",
      "hello everyone\n",
      "this is the file handling\n"
     ]
    }
   ],
   "source": [
    "print(data)"
   ]
  },
  {
   "cell_type": "code",
   "execution_count": 22,
   "id": "5d0ec7cc",
   "metadata": {},
   "outputs": [
    {
     "data": {
      "text/plain": [
       "str"
      ]
     },
     "execution_count": 22,
     "metadata": {},
     "output_type": "execute_result"
    }
   ],
   "source": [
    "type(data)"
   ]
  },
  {
   "cell_type": "code",
   "execution_count": 23,
   "id": "7c9f8ea3",
   "metadata": {},
   "outputs": [],
   "source": [
    "f.close()"
   ]
  },
  {
   "cell_type": "code",
   "execution_count": 25,
   "id": "82935ced",
   "metadata": {},
   "outputs": [
    {
     "data": {
      "text/plain": [
       "<_io.TextIOWrapper name='sample.txt' mode='r' encoding='UTF-8'>"
      ]
     },
     "execution_count": 25,
     "metadata": {},
     "output_type": "execute_result"
    }
   ],
   "source": [
    "f"
   ]
  },
  {
   "cell_type": "code",
   "execution_count": 26,
   "id": "7e31d91d",
   "metadata": {},
   "outputs": [
    {
     "ename": "ValueError",
     "evalue": "I/O operation on closed file.",
     "output_type": "error",
     "traceback": [
      "\u001b[0;31m---------------------------------------------------------------------------\u001b[0m",
      "\u001b[0;31mValueError\u001b[0m                                Traceback (most recent call last)",
      "Cell \u001b[0;32mIn[26], line 1\u001b[0m\n\u001b[0;32m----> 1\u001b[0m f\u001b[38;5;241m.\u001b[39mread()\n",
      "\u001b[0;31mValueError\u001b[0m: I/O operation on closed file."
     ]
    }
   ],
   "source": [
    "f.read()"
   ]
  },
  {
   "cell_type": "code",
   "execution_count": 27,
   "id": "d2e8ffb6",
   "metadata": {},
   "outputs": [],
   "source": [
    "# create a new text file \n",
    "# put some text from wiki (about a location, food or anything)"
   ]
  },
  {
   "cell_type": "code",
   "execution_count": 28,
   "id": "47ac12e5",
   "metadata": {},
   "outputs": [],
   "source": [
    "f = open(\"pune.txt\", encoding=\"utf-8\")"
   ]
  },
  {
   "cell_type": "code",
   "execution_count": 29,
   "id": "97a3b612",
   "metadata": {},
   "outputs": [],
   "source": [
    "data = f.read()"
   ]
  },
  {
   "cell_type": "code",
   "execution_count": 30,
   "id": "27536e0f",
   "metadata": {},
   "outputs": [
    {
     "name": "stdout",
     "output_type": "stream",
     "text": [
      "Pune (Marathi: Puṇē, pronounced [ˈpuɳe] ⓘ POO-nay), previously spelled in English as Poona (the official name until 1978),[15][16] is a city in the state of Maharashtra in the Deccan plateau in Western India. It is the administrative headquarters of the Pune district, and of Pune division. In terms of the total amount of land under its jurisdiction, Pune is the largest city in Maharashtra, with a geographical area of 516.18 km2,[17] though by population it comes in a distant second to Mumbai. According to the 2011 Census of India, Pune has 7.2 million residents in the metropolitan region, making it the seventh-most populous metropolitan area in India.[18] The city of Pune is part of Pune Metropolitan Region.[19] Pune is one of the largest IT hubs in India.[20][21] It is also one of the most important automobile and manufacturing hubs of India. Pune is often referred to as the \"Oxford of the East\" because of its educational institutions.[22][23][24] It has been ranked \"the most liveable city in India\" several times.[25][26]\n",
      "\n",
      "Pune at different points in time has been ruled by the Rashtrakuta dynasty, Ahmadnagar Sultanate, the Mughals, and the Adil Shahi dynasty. In the 18th century, the city was part of the Maratha Empire, and the seat of the Peshwas, the prime ministers of the Maratha Empire.[27] Pune was seized by the British East India Company in the Third Anglo-Maratha War; it gained municipal status in 1858, the year in which Crown rule began. Many historical landmarks like Shaniwarwada, Shinde Chhatri, and Vishrambaug Wada date to this era. Historical sites from different eras dot the city. \n"
     ]
    }
   ],
   "source": [
    "print(data)"
   ]
  },
  {
   "cell_type": "code",
   "execution_count": 32,
   "id": "b3a752aa",
   "metadata": {},
   "outputs": [
    {
     "data": {
      "text/plain": [
       "'Pune (Marathi: Puṇē, pronounced [ˈpuɳe] ⓘ POO-nay), previously spelled in English as Poona (the official name until 1978),[15][16] is a city in the state of Maharashtra in the Deccan plateau in Western India. It is the administrative headquarters of the Pune district, and of Pune division. In terms of the total amount of land under its jurisdiction, Pune is the largest city in Maharashtra, with a geographical area of 516.18 km2,[17] though by population it comes in a distant second to Mumbai. According to the 2011 Census of India, Pune has 7.2 million residents in the metropolitan region, making it the seventh-most populous metropolitan area in India.[18] The city of Pune is part of Pune Metropolitan Region.[19] Pune is one of the largest IT hubs in India.[20][21] It is also one of the most important automobile and manufacturing hubs of India. Pune is often referred to as the \"Oxford of the East\" because of its educational institutions.[22][23][24] It has been ranked \"the most liveable city in India\" several times.[25][26]\\n\\nPune at different points in time has been ruled by the Rashtrakuta dynasty, Ahmadnagar Sultanate, the Mughals, and the Adil Shahi dynasty. In the 18th century, the city was part of the Maratha Empire, and the seat of the Peshwas, the prime ministers of the Maratha Empire.[27] Pune was seized by the British East India Company in the Third Anglo-Maratha War; it gained municipal status in 1858, the year in which Crown rule began. Many historical landmarks like Shaniwarwada, Shinde Chhatri, and Vishrambaug Wada date to this era. Historical sites from different eras dot the city. '"
      ]
     },
     "execution_count": 32,
     "metadata": {},
     "output_type": "execute_result"
    }
   ],
   "source": [
    "data"
   ]
  },
  {
   "cell_type": "code",
   "execution_count": 33,
   "id": "c97ed552",
   "metadata": {},
   "outputs": [],
   "source": [
    "# count the number of \"the\" in the text file"
   ]
  },
  {
   "cell_type": "code",
   "execution_count": 34,
   "id": "4c963162",
   "metadata": {},
   "outputs": [],
   "source": [
    "words = data.split()"
   ]
  },
  {
   "cell_type": "code",
   "execution_count": 37,
   "id": "9e2cb28d",
   "metadata": {},
   "outputs": [
    {
     "data": {
      "text/plain": [
       "['Pune',\n",
       " '(Marathi:',\n",
       " 'Puṇē,',\n",
       " 'pronounced',\n",
       " '[ˈpuɳe]',\n",
       " 'ⓘ',\n",
       " 'POO-nay),',\n",
       " 'previously',\n",
       " 'spelled',\n",
       " 'in',\n",
       " 'English',\n",
       " 'as',\n",
       " 'Poona',\n",
       " '(the',\n",
       " 'official',\n",
       " 'name',\n",
       " 'until',\n",
       " '1978),[15][16]',\n",
       " 'is',\n",
       " 'a',\n",
       " 'city',\n",
       " 'in',\n",
       " 'the',\n",
       " 'state',\n",
       " 'of',\n",
       " 'Maharashtra',\n",
       " 'in',\n",
       " 'the',\n",
       " 'Deccan',\n",
       " 'plateau',\n",
       " 'in',\n",
       " 'Western',\n",
       " 'India.',\n",
       " 'It',\n",
       " 'is',\n",
       " 'the',\n",
       " 'administrative',\n",
       " 'headquarters',\n",
       " 'of',\n",
       " 'the',\n",
       " 'Pune',\n",
       " 'district,',\n",
       " 'and',\n",
       " 'of',\n",
       " 'Pune',\n",
       " 'division.',\n",
       " 'In',\n",
       " 'terms',\n",
       " 'of',\n",
       " 'the',\n",
       " 'total',\n",
       " 'amount',\n",
       " 'of',\n",
       " 'land',\n",
       " 'under',\n",
       " 'its',\n",
       " 'jurisdiction,',\n",
       " 'Pune',\n",
       " 'is',\n",
       " 'the',\n",
       " 'largest',\n",
       " 'city',\n",
       " 'in',\n",
       " 'Maharashtra,',\n",
       " 'with',\n",
       " 'a',\n",
       " 'geographical',\n",
       " 'area',\n",
       " 'of',\n",
       " '516.18',\n",
       " 'km2,[17]',\n",
       " 'though',\n",
       " 'by',\n",
       " 'population',\n",
       " 'it',\n",
       " 'comes',\n",
       " 'in',\n",
       " 'a',\n",
       " 'distant',\n",
       " 'second',\n",
       " 'to',\n",
       " 'Mumbai.',\n",
       " 'According',\n",
       " 'to',\n",
       " 'the',\n",
       " '2011',\n",
       " 'Census',\n",
       " 'of',\n",
       " 'India,',\n",
       " 'Pune',\n",
       " 'has',\n",
       " '7.2',\n",
       " 'million',\n",
       " 'residents',\n",
       " 'in',\n",
       " 'the',\n",
       " 'metropolitan',\n",
       " 'region,',\n",
       " 'making',\n",
       " 'it',\n",
       " 'the',\n",
       " 'seventh-most',\n",
       " 'populous',\n",
       " 'metropolitan',\n",
       " 'area',\n",
       " 'in',\n",
       " 'India.[18]',\n",
       " 'The',\n",
       " 'city',\n",
       " 'of',\n",
       " 'Pune',\n",
       " 'is',\n",
       " 'part',\n",
       " 'of',\n",
       " 'Pune',\n",
       " 'Metropolitan',\n",
       " 'Region.[19]',\n",
       " 'Pune',\n",
       " 'is',\n",
       " 'one',\n",
       " 'of',\n",
       " 'the',\n",
       " 'largest',\n",
       " 'IT',\n",
       " 'hubs',\n",
       " 'in',\n",
       " 'India.[20][21]',\n",
       " 'It',\n",
       " 'is',\n",
       " 'also',\n",
       " 'one',\n",
       " 'of',\n",
       " 'the',\n",
       " 'most',\n",
       " 'important',\n",
       " 'automobile',\n",
       " 'and',\n",
       " 'manufacturing',\n",
       " 'hubs',\n",
       " 'of',\n",
       " 'India.',\n",
       " 'Pune',\n",
       " 'is',\n",
       " 'often',\n",
       " 'referred',\n",
       " 'to',\n",
       " 'as',\n",
       " 'the',\n",
       " '\"Oxford',\n",
       " 'of',\n",
       " 'the',\n",
       " 'East\"',\n",
       " 'because',\n",
       " 'of',\n",
       " 'its',\n",
       " 'educational',\n",
       " 'institutions.[22][23][24]',\n",
       " 'It',\n",
       " 'has',\n",
       " 'been',\n",
       " 'ranked',\n",
       " '\"the',\n",
       " 'most',\n",
       " 'liveable',\n",
       " 'city',\n",
       " 'in',\n",
       " 'India\"',\n",
       " 'several',\n",
       " 'times.[25][26]',\n",
       " 'Pune',\n",
       " 'at',\n",
       " 'different',\n",
       " 'points',\n",
       " 'in',\n",
       " 'time',\n",
       " 'has',\n",
       " 'been',\n",
       " 'ruled',\n",
       " 'by',\n",
       " 'the',\n",
       " 'Rashtrakuta',\n",
       " 'dynasty,',\n",
       " 'Ahmadnagar',\n",
       " 'Sultanate,',\n",
       " 'the',\n",
       " 'Mughals,',\n",
       " 'and',\n",
       " 'the',\n",
       " 'Adil',\n",
       " 'Shahi',\n",
       " 'dynasty.',\n",
       " 'In',\n",
       " 'the',\n",
       " '18th',\n",
       " 'century,',\n",
       " 'the',\n",
       " 'city',\n",
       " 'was',\n",
       " 'part',\n",
       " 'of',\n",
       " 'the',\n",
       " 'Maratha',\n",
       " 'Empire,',\n",
       " 'and',\n",
       " 'the',\n",
       " 'seat',\n",
       " 'of',\n",
       " 'the',\n",
       " 'Peshwas,',\n",
       " 'the',\n",
       " 'prime',\n",
       " 'ministers',\n",
       " 'of',\n",
       " 'the',\n",
       " 'Maratha',\n",
       " 'Empire.[27]',\n",
       " 'Pune',\n",
       " 'was',\n",
       " 'seized',\n",
       " 'by',\n",
       " 'the',\n",
       " 'British',\n",
       " 'East',\n",
       " 'India',\n",
       " 'Company',\n",
       " 'in',\n",
       " 'the',\n",
       " 'Third',\n",
       " 'Anglo-Maratha',\n",
       " 'War;',\n",
       " 'it',\n",
       " 'gained',\n",
       " 'municipal',\n",
       " 'status',\n",
       " 'in',\n",
       " '1858,',\n",
       " 'the',\n",
       " 'year',\n",
       " 'in',\n",
       " 'which',\n",
       " 'Crown',\n",
       " 'rule',\n",
       " 'began.',\n",
       " 'Many',\n",
       " 'historical',\n",
       " 'landmarks',\n",
       " 'like',\n",
       " 'Shaniwarwada,',\n",
       " 'Shinde',\n",
       " 'Chhatri,',\n",
       " 'and',\n",
       " 'Vishrambaug',\n",
       " 'Wada',\n",
       " 'date',\n",
       " 'to',\n",
       " 'this',\n",
       " 'era.',\n",
       " 'Historical',\n",
       " 'sites',\n",
       " 'from',\n",
       " 'different',\n",
       " 'eras',\n",
       " 'dot',\n",
       " 'the',\n",
       " 'city.']"
      ]
     },
     "execution_count": 37,
     "metadata": {},
     "output_type": "execute_result"
    }
   ],
   "source": [
    "words"
   ]
  },
  {
   "cell_type": "code",
   "execution_count": 38,
   "id": "21eb565d",
   "metadata": {},
   "outputs": [
    {
     "data": {
      "text/plain": [
       "27"
      ]
     },
     "execution_count": 38,
     "metadata": {},
     "output_type": "execute_result"
    }
   ],
   "source": [
    "words.count(\"the\")"
   ]
  },
  {
   "cell_type": "code",
   "execution_count": 39,
   "id": "78e8e5e1",
   "metadata": {},
   "outputs": [
    {
     "data": {
      "text/plain": [
       "1"
      ]
     },
     "execution_count": 39,
     "metadata": {},
     "output_type": "execute_result"
    }
   ],
   "source": [
    "words.count(\"The\")"
   ]
  },
  {
   "cell_type": "code",
   "execution_count": 40,
   "id": "adda7511",
   "metadata": {},
   "outputs": [
    {
     "data": {
      "text/plain": [
       "28"
      ]
     },
     "execution_count": 40,
     "metadata": {},
     "output_type": "execute_result"
    }
   ],
   "source": [
    "words.count(\"the\") + words.count(\"The\") + words.count(\"THE\")"
   ]
  },
  {
   "cell_type": "code",
   "execution_count": 41,
   "id": "b3ef5907",
   "metadata": {},
   "outputs": [],
   "source": [
    "# write inside a file"
   ]
  },
  {
   "cell_type": "code",
   "execution_count": 43,
   "id": "7821d11b",
   "metadata": {},
   "outputs": [],
   "source": [
    "f = open(\"mydata.txt\", 'w', encoding = 'utf-8')"
   ]
  },
  {
   "cell_type": "code",
   "execution_count": 44,
   "id": "1b86f18e",
   "metadata": {},
   "outputs": [],
   "source": [
    "f.write(\"he had to hurry\")\n",
    "f.close()"
   ]
  },
  {
   "cell_type": "code",
   "execution_count": 46,
   "id": "d59fa626",
   "metadata": {},
   "outputs": [],
   "source": [
    "with open(\"mydata.txt\", 'w') as f:\n",
    "    f.write(\"time was runnning out\\n\")\n",
    "    f.write(\"ok\\n\")\n",
    "    f.write(\"arthur pulled the sword\\n\")"
   ]
  },
  {
   "cell_type": "code",
   "execution_count": null,
   "id": "4175c19c",
   "metadata": {},
   "outputs": [],
   "source": []
  }
 ],
 "metadata": {
  "kernelspec": {
   "display_name": "base",
   "language": "python",
   "name": "python3"
  },
  "language_info": {
   "codemirror_mode": {
    "name": "ipython",
    "version": 3
   },
   "file_extension": ".py",
   "mimetype": "text/x-python",
   "name": "python",
   "nbconvert_exporter": "python",
   "pygments_lexer": "ipython3",
   "version": "3.13.5"
  }
 },
 "nbformat": 4,
 "nbformat_minor": 5
}
